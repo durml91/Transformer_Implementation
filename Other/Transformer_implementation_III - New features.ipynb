{
  "nbformat": 4,
  "nbformat_minor": 0,
  "metadata": {
    "colab": {
      "provenance": [],
      "gpuType": "T4",
      "authorship_tag": "ABX9TyMeG9RqcOOVIudUi1Fdv75b",
      "include_colab_link": true
    },
    "kernelspec": {
      "name": "python3",
      "display_name": "Python 3"
    },
    "language_info": {
      "name": "python"
    },
    "widgets": {
      "application/vnd.jupyter.widget-state+json": {
        "acc0a3b09dc44520a6edb717efd8e275": {
          "model_module": "@jupyter-widgets/controls",
          "model_name": "HBoxModel",
          "model_module_version": "1.5.0",
          "state": {
            "_dom_classes": [],
            "_model_module": "@jupyter-widgets/controls",
            "_model_module_version": "1.5.0",
            "_model_name": "HBoxModel",
            "_view_count": null,
            "_view_module": "@jupyter-widgets/controls",
            "_view_module_version": "1.5.0",
            "_view_name": "HBoxView",
            "box_style": "",
            "children": [
              "IPY_MODEL_b6e503637f454e998dfb8e23f5f8f47f",
              "IPY_MODEL_263a0a6c7af7474a816d4f713d8f1243",
              "IPY_MODEL_8b6512363d734b65a669f38ffb248599"
            ],
            "layout": "IPY_MODEL_37a729d684e547f1b8d2389a348056a3"
          }
        },
        "b6e503637f454e998dfb8e23f5f8f47f": {
          "model_module": "@jupyter-widgets/controls",
          "model_name": "HTMLModel",
          "model_module_version": "1.5.0",
          "state": {
            "_dom_classes": [],
            "_model_module": "@jupyter-widgets/controls",
            "_model_module_version": "1.5.0",
            "_model_name": "HTMLModel",
            "_view_count": null,
            "_view_module": "@jupyter-widgets/controls",
            "_view_module_version": "1.5.0",
            "_view_name": "HTMLView",
            "description": "",
            "description_tooltip": null,
            "layout": "IPY_MODEL_c6bec26f019a4f16a2d49e522a2e709e",
            "placeholder": "​",
            "style": "IPY_MODEL_33314ab85e794050b24e0edfe57a2684",
            "value": "Downloading builder script: 100%"
          }
        },
        "263a0a6c7af7474a816d4f713d8f1243": {
          "model_module": "@jupyter-widgets/controls",
          "model_name": "FloatProgressModel",
          "model_module_version": "1.5.0",
          "state": {
            "_dom_classes": [],
            "_model_module": "@jupyter-widgets/controls",
            "_model_module_version": "1.5.0",
            "_model_name": "FloatProgressModel",
            "_view_count": null,
            "_view_module": "@jupyter-widgets/controls",
            "_view_module_version": "1.5.0",
            "_view_name": "ProgressView",
            "bar_style": "success",
            "description": "",
            "description_tooltip": null,
            "layout": "IPY_MODEL_3a7a94a121c34027beb1367b4534c6a3",
            "max": 6081,
            "min": 0,
            "orientation": "horizontal",
            "style": "IPY_MODEL_12cd939501f44f00b3ea415cc3396579",
            "value": 6081
          }
        },
        "8b6512363d734b65a669f38ffb248599": {
          "model_module": "@jupyter-widgets/controls",
          "model_name": "HTMLModel",
          "model_module_version": "1.5.0",
          "state": {
            "_dom_classes": [],
            "_model_module": "@jupyter-widgets/controls",
            "_model_module_version": "1.5.0",
            "_model_name": "HTMLModel",
            "_view_count": null,
            "_view_module": "@jupyter-widgets/controls",
            "_view_module_version": "1.5.0",
            "_view_name": "HTMLView",
            "description": "",
            "description_tooltip": null,
            "layout": "IPY_MODEL_5669305aa6f3477298d73ed3ef815cad",
            "placeholder": "​",
            "style": "IPY_MODEL_884e69bee58847fabb6d52c7916d898a",
            "value": " 6.08k/6.08k [00:00&lt;00:00, 366kB/s]"
          }
        },
        "37a729d684e547f1b8d2389a348056a3": {
          "model_module": "@jupyter-widgets/base",
          "model_name": "LayoutModel",
          "model_module_version": "1.2.0",
          "state": {
            "_model_module": "@jupyter-widgets/base",
            "_model_module_version": "1.2.0",
            "_model_name": "LayoutModel",
            "_view_count": null,
            "_view_module": "@jupyter-widgets/base",
            "_view_module_version": "1.2.0",
            "_view_name": "LayoutView",
            "align_content": null,
            "align_items": null,
            "align_self": null,
            "border": null,
            "bottom": null,
            "display": null,
            "flex": null,
            "flex_flow": null,
            "grid_area": null,
            "grid_auto_columns": null,
            "grid_auto_flow": null,
            "grid_auto_rows": null,
            "grid_column": null,
            "grid_gap": null,
            "grid_row": null,
            "grid_template_areas": null,
            "grid_template_columns": null,
            "grid_template_rows": null,
            "height": null,
            "justify_content": null,
            "justify_items": null,
            "left": null,
            "margin": null,
            "max_height": null,
            "max_width": null,
            "min_height": null,
            "min_width": null,
            "object_fit": null,
            "object_position": null,
            "order": null,
            "overflow": null,
            "overflow_x": null,
            "overflow_y": null,
            "padding": null,
            "right": null,
            "top": null,
            "visibility": null,
            "width": null
          }
        },
        "c6bec26f019a4f16a2d49e522a2e709e": {
          "model_module": "@jupyter-widgets/base",
          "model_name": "LayoutModel",
          "model_module_version": "1.2.0",
          "state": {
            "_model_module": "@jupyter-widgets/base",
            "_model_module_version": "1.2.0",
            "_model_name": "LayoutModel",
            "_view_count": null,
            "_view_module": "@jupyter-widgets/base",
            "_view_module_version": "1.2.0",
            "_view_name": "LayoutView",
            "align_content": null,
            "align_items": null,
            "align_self": null,
            "border": null,
            "bottom": null,
            "display": null,
            "flex": null,
            "flex_flow": null,
            "grid_area": null,
            "grid_auto_columns": null,
            "grid_auto_flow": null,
            "grid_auto_rows": null,
            "grid_column": null,
            "grid_gap": null,
            "grid_row": null,
            "grid_template_areas": null,
            "grid_template_columns": null,
            "grid_template_rows": null,
            "height": null,
            "justify_content": null,
            "justify_items": null,
            "left": null,
            "margin": null,
            "max_height": null,
            "max_width": null,
            "min_height": null,
            "min_width": null,
            "object_fit": null,
            "object_position": null,
            "order": null,
            "overflow": null,
            "overflow_x": null,
            "overflow_y": null,
            "padding": null,
            "right": null,
            "top": null,
            "visibility": null,
            "width": null
          }
        },
        "33314ab85e794050b24e0edfe57a2684": {
          "model_module": "@jupyter-widgets/controls",
          "model_name": "DescriptionStyleModel",
          "model_module_version": "1.5.0",
          "state": {
            "_model_module": "@jupyter-widgets/controls",
            "_model_module_version": "1.5.0",
            "_model_name": "DescriptionStyleModel",
            "_view_count": null,
            "_view_module": "@jupyter-widgets/base",
            "_view_module_version": "1.2.0",
            "_view_name": "StyleView",
            "description_width": ""
          }
        },
        "3a7a94a121c34027beb1367b4534c6a3": {
          "model_module": "@jupyter-widgets/base",
          "model_name": "LayoutModel",
          "model_module_version": "1.2.0",
          "state": {
            "_model_module": "@jupyter-widgets/base",
            "_model_module_version": "1.2.0",
            "_model_name": "LayoutModel",
            "_view_count": null,
            "_view_module": "@jupyter-widgets/base",
            "_view_module_version": "1.2.0",
            "_view_name": "LayoutView",
            "align_content": null,
            "align_items": null,
            "align_self": null,
            "border": null,
            "bottom": null,
            "display": null,
            "flex": null,
            "flex_flow": null,
            "grid_area": null,
            "grid_auto_columns": null,
            "grid_auto_flow": null,
            "grid_auto_rows": null,
            "grid_column": null,
            "grid_gap": null,
            "grid_row": null,
            "grid_template_areas": null,
            "grid_template_columns": null,
            "grid_template_rows": null,
            "height": null,
            "justify_content": null,
            "justify_items": null,
            "left": null,
            "margin": null,
            "max_height": null,
            "max_width": null,
            "min_height": null,
            "min_width": null,
            "object_fit": null,
            "object_position": null,
            "order": null,
            "overflow": null,
            "overflow_x": null,
            "overflow_y": null,
            "padding": null,
            "right": null,
            "top": null,
            "visibility": null,
            "width": null
          }
        },
        "12cd939501f44f00b3ea415cc3396579": {
          "model_module": "@jupyter-widgets/controls",
          "model_name": "ProgressStyleModel",
          "model_module_version": "1.5.0",
          "state": {
            "_model_module": "@jupyter-widgets/controls",
            "_model_module_version": "1.5.0",
            "_model_name": "ProgressStyleModel",
            "_view_count": null,
            "_view_module": "@jupyter-widgets/base",
            "_view_module_version": "1.2.0",
            "_view_name": "StyleView",
            "bar_color": null,
            "description_width": ""
          }
        },
        "5669305aa6f3477298d73ed3ef815cad": {
          "model_module": "@jupyter-widgets/base",
          "model_name": "LayoutModel",
          "model_module_version": "1.2.0",
          "state": {
            "_model_module": "@jupyter-widgets/base",
            "_model_module_version": "1.2.0",
            "_model_name": "LayoutModel",
            "_view_count": null,
            "_view_module": "@jupyter-widgets/base",
            "_view_module_version": "1.2.0",
            "_view_name": "LayoutView",
            "align_content": null,
            "align_items": null,
            "align_self": null,
            "border": null,
            "bottom": null,
            "display": null,
            "flex": null,
            "flex_flow": null,
            "grid_area": null,
            "grid_auto_columns": null,
            "grid_auto_flow": null,
            "grid_auto_rows": null,
            "grid_column": null,
            "grid_gap": null,
            "grid_row": null,
            "grid_template_areas": null,
            "grid_template_columns": null,
            "grid_template_rows": null,
            "height": null,
            "justify_content": null,
            "justify_items": null,
            "left": null,
            "margin": null,
            "max_height": null,
            "max_width": null,
            "min_height": null,
            "min_width": null,
            "object_fit": null,
            "object_position": null,
            "order": null,
            "overflow": null,
            "overflow_x": null,
            "overflow_y": null,
            "padding": null,
            "right": null,
            "top": null,
            "visibility": null,
            "width": null
          }
        },
        "884e69bee58847fabb6d52c7916d898a": {
          "model_module": "@jupyter-widgets/controls",
          "model_name": "DescriptionStyleModel",
          "model_module_version": "1.5.0",
          "state": {
            "_model_module": "@jupyter-widgets/controls",
            "_model_module_version": "1.5.0",
            "_model_name": "DescriptionStyleModel",
            "_view_count": null,
            "_view_module": "@jupyter-widgets/base",
            "_view_module_version": "1.2.0",
            "_view_name": "StyleView",
            "description_width": ""
          }
        },
        "616af203679f4388b534973d3f6fe262": {
          "model_module": "@jupyter-widgets/controls",
          "model_name": "HBoxModel",
          "model_module_version": "1.5.0",
          "state": {
            "_dom_classes": [],
            "_model_module": "@jupyter-widgets/controls",
            "_model_module_version": "1.5.0",
            "_model_name": "HBoxModel",
            "_view_count": null,
            "_view_module": "@jupyter-widgets/controls",
            "_view_module_version": "1.5.0",
            "_view_name": "HBoxView",
            "box_style": "",
            "children": [
              "IPY_MODEL_3bf450fadab945abbb956deaacf39ded",
              "IPY_MODEL_c66fe251c3254e0ca077cf9e9b1f9df6",
              "IPY_MODEL_87944546cf564e13ace94e9f3ebde987"
            ],
            "layout": "IPY_MODEL_cccc0a79e6444576978887610ce0e90e"
          }
        },
        "3bf450fadab945abbb956deaacf39ded": {
          "model_module": "@jupyter-widgets/controls",
          "model_name": "HTMLModel",
          "model_module_version": "1.5.0",
          "state": {
            "_dom_classes": [],
            "_model_module": "@jupyter-widgets/controls",
            "_model_module_version": "1.5.0",
            "_model_name": "HTMLModel",
            "_view_count": null,
            "_view_module": "@jupyter-widgets/controls",
            "_view_module_version": "1.5.0",
            "_view_name": "HTMLView",
            "description": "",
            "description_tooltip": null,
            "layout": "IPY_MODEL_d2d2c25066fe4a0fb54bc4d6148d6606",
            "placeholder": "​",
            "style": "IPY_MODEL_aea786e32d694b18ba287df7c869ec05",
            "value": "Downloading metadata: 100%"
          }
        },
        "c66fe251c3254e0ca077cf9e9b1f9df6": {
          "model_module": "@jupyter-widgets/controls",
          "model_name": "FloatProgressModel",
          "model_module_version": "1.5.0",
          "state": {
            "_dom_classes": [],
            "_model_module": "@jupyter-widgets/controls",
            "_model_module_version": "1.5.0",
            "_model_name": "FloatProgressModel",
            "_view_count": null,
            "_view_module": "@jupyter-widgets/controls",
            "_view_module_version": "1.5.0",
            "_view_name": "ProgressView",
            "bar_style": "success",
            "description": "",
            "description_tooltip": null,
            "layout": "IPY_MODEL_5e95f63e93cb4175b79b593f929d6619",
            "max": 161154,
            "min": 0,
            "orientation": "horizontal",
            "style": "IPY_MODEL_1816b539896740c08e983a6cec13880b",
            "value": 161154
          }
        },
        "87944546cf564e13ace94e9f3ebde987": {
          "model_module": "@jupyter-widgets/controls",
          "model_name": "HTMLModel",
          "model_module_version": "1.5.0",
          "state": {
            "_dom_classes": [],
            "_model_module": "@jupyter-widgets/controls",
            "_model_module_version": "1.5.0",
            "_model_name": "HTMLModel",
            "_view_count": null,
            "_view_module": "@jupyter-widgets/controls",
            "_view_module_version": "1.5.0",
            "_view_name": "HTMLView",
            "description": "",
            "description_tooltip": null,
            "layout": "IPY_MODEL_e230568962e042e0a1a98a5a77dc8bba",
            "placeholder": "​",
            "style": "IPY_MODEL_3e9c0c16c12643e19b01e21049ad474a",
            "value": " 161k/161k [00:00&lt;00:00, 295kB/s]"
          }
        },
        "cccc0a79e6444576978887610ce0e90e": {
          "model_module": "@jupyter-widgets/base",
          "model_name": "LayoutModel",
          "model_module_version": "1.2.0",
          "state": {
            "_model_module": "@jupyter-widgets/base",
            "_model_module_version": "1.2.0",
            "_model_name": "LayoutModel",
            "_view_count": null,
            "_view_module": "@jupyter-widgets/base",
            "_view_module_version": "1.2.0",
            "_view_name": "LayoutView",
            "align_content": null,
            "align_items": null,
            "align_self": null,
            "border": null,
            "bottom": null,
            "display": null,
            "flex": null,
            "flex_flow": null,
            "grid_area": null,
            "grid_auto_columns": null,
            "grid_auto_flow": null,
            "grid_auto_rows": null,
            "grid_column": null,
            "grid_gap": null,
            "grid_row": null,
            "grid_template_areas": null,
            "grid_template_columns": null,
            "grid_template_rows": null,
            "height": null,
            "justify_content": null,
            "justify_items": null,
            "left": null,
            "margin": null,
            "max_height": null,
            "max_width": null,
            "min_height": null,
            "min_width": null,
            "object_fit": null,
            "object_position": null,
            "order": null,
            "overflow": null,
            "overflow_x": null,
            "overflow_y": null,
            "padding": null,
            "right": null,
            "top": null,
            "visibility": null,
            "width": null
          }
        },
        "d2d2c25066fe4a0fb54bc4d6148d6606": {
          "model_module": "@jupyter-widgets/base",
          "model_name": "LayoutModel",
          "model_module_version": "1.2.0",
          "state": {
            "_model_module": "@jupyter-widgets/base",
            "_model_module_version": "1.2.0",
            "_model_name": "LayoutModel",
            "_view_count": null,
            "_view_module": "@jupyter-widgets/base",
            "_view_module_version": "1.2.0",
            "_view_name": "LayoutView",
            "align_content": null,
            "align_items": null,
            "align_self": null,
            "border": null,
            "bottom": null,
            "display": null,
            "flex": null,
            "flex_flow": null,
            "grid_area": null,
            "grid_auto_columns": null,
            "grid_auto_flow": null,
            "grid_auto_rows": null,
            "grid_column": null,
            "grid_gap": null,
            "grid_row": null,
            "grid_template_areas": null,
            "grid_template_columns": null,
            "grid_template_rows": null,
            "height": null,
            "justify_content": null,
            "justify_items": null,
            "left": null,
            "margin": null,
            "max_height": null,
            "max_width": null,
            "min_height": null,
            "min_width": null,
            "object_fit": null,
            "object_position": null,
            "order": null,
            "overflow": null,
            "overflow_x": null,
            "overflow_y": null,
            "padding": null,
            "right": null,
            "top": null,
            "visibility": null,
            "width": null
          }
        },
        "aea786e32d694b18ba287df7c869ec05": {
          "model_module": "@jupyter-widgets/controls",
          "model_name": "DescriptionStyleModel",
          "model_module_version": "1.5.0",
          "state": {
            "_model_module": "@jupyter-widgets/controls",
            "_model_module_version": "1.5.0",
            "_model_name": "DescriptionStyleModel",
            "_view_count": null,
            "_view_module": "@jupyter-widgets/base",
            "_view_module_version": "1.2.0",
            "_view_name": "StyleView",
            "description_width": ""
          }
        },
        "5e95f63e93cb4175b79b593f929d6619": {
          "model_module": "@jupyter-widgets/base",
          "model_name": "LayoutModel",
          "model_module_version": "1.2.0",
          "state": {
            "_model_module": "@jupyter-widgets/base",
            "_model_module_version": "1.2.0",
            "_model_name": "LayoutModel",
            "_view_count": null,
            "_view_module": "@jupyter-widgets/base",
            "_view_module_version": "1.2.0",
            "_view_name": "LayoutView",
            "align_content": null,
            "align_items": null,
            "align_self": null,
            "border": null,
            "bottom": null,
            "display": null,
            "flex": null,
            "flex_flow": null,
            "grid_area": null,
            "grid_auto_columns": null,
            "grid_auto_flow": null,
            "grid_auto_rows": null,
            "grid_column": null,
            "grid_gap": null,
            "grid_row": null,
            "grid_template_areas": null,
            "grid_template_columns": null,
            "grid_template_rows": null,
            "height": null,
            "justify_content": null,
            "justify_items": null,
            "left": null,
            "margin": null,
            "max_height": null,
            "max_width": null,
            "min_height": null,
            "min_width": null,
            "object_fit": null,
            "object_position": null,
            "order": null,
            "overflow": null,
            "overflow_x": null,
            "overflow_y": null,
            "padding": null,
            "right": null,
            "top": null,
            "visibility": null,
            "width": null
          }
        },
        "1816b539896740c08e983a6cec13880b": {
          "model_module": "@jupyter-widgets/controls",
          "model_name": "ProgressStyleModel",
          "model_module_version": "1.5.0",
          "state": {
            "_model_module": "@jupyter-widgets/controls",
            "_model_module_version": "1.5.0",
            "_model_name": "ProgressStyleModel",
            "_view_count": null,
            "_view_module": "@jupyter-widgets/base",
            "_view_module_version": "1.2.0",
            "_view_name": "StyleView",
            "bar_color": null,
            "description_width": ""
          }
        },
        "e230568962e042e0a1a98a5a77dc8bba": {
          "model_module": "@jupyter-widgets/base",
          "model_name": "LayoutModel",
          "model_module_version": "1.2.0",
          "state": {
            "_model_module": "@jupyter-widgets/base",
            "_model_module_version": "1.2.0",
            "_model_name": "LayoutModel",
            "_view_count": null,
            "_view_module": "@jupyter-widgets/base",
            "_view_module_version": "1.2.0",
            "_view_name": "LayoutView",
            "align_content": null,
            "align_items": null,
            "align_self": null,
            "border": null,
            "bottom": null,
            "display": null,
            "flex": null,
            "flex_flow": null,
            "grid_area": null,
            "grid_auto_columns": null,
            "grid_auto_flow": null,
            "grid_auto_rows": null,
            "grid_column": null,
            "grid_gap": null,
            "grid_row": null,
            "grid_template_areas": null,
            "grid_template_columns": null,
            "grid_template_rows": null,
            "height": null,
            "justify_content": null,
            "justify_items": null,
            "left": null,
            "margin": null,
            "max_height": null,
            "max_width": null,
            "min_height": null,
            "min_width": null,
            "object_fit": null,
            "object_position": null,
            "order": null,
            "overflow": null,
            "overflow_x": null,
            "overflow_y": null,
            "padding": null,
            "right": null,
            "top": null,
            "visibility": null,
            "width": null
          }
        },
        "3e9c0c16c12643e19b01e21049ad474a": {
          "model_module": "@jupyter-widgets/controls",
          "model_name": "DescriptionStyleModel",
          "model_module_version": "1.5.0",
          "state": {
            "_model_module": "@jupyter-widgets/controls",
            "_model_module_version": "1.5.0",
            "_model_name": "DescriptionStyleModel",
            "_view_count": null,
            "_view_module": "@jupyter-widgets/base",
            "_view_module_version": "1.2.0",
            "_view_name": "StyleView",
            "description_width": ""
          }
        },
        "8ec3e49cfbe24a2ea11592015019d709": {
          "model_module": "@jupyter-widgets/controls",
          "model_name": "HBoxModel",
          "model_module_version": "1.5.0",
          "state": {
            "_dom_classes": [],
            "_model_module": "@jupyter-widgets/controls",
            "_model_module_version": "1.5.0",
            "_model_name": "HBoxModel",
            "_view_count": null,
            "_view_module": "@jupyter-widgets/controls",
            "_view_module_version": "1.5.0",
            "_view_name": "HBoxView",
            "box_style": "",
            "children": [
              "IPY_MODEL_fcef5de89e5e469ea5fc5fcf7e56a437",
              "IPY_MODEL_753549b9ec0a485386fc3c6e9bee79e0",
              "IPY_MODEL_707c7e75053e42178bd0808c0ac092d3"
            ],
            "layout": "IPY_MODEL_3d3e8fb79aa54e598e52e9735cb55962"
          }
        },
        "fcef5de89e5e469ea5fc5fcf7e56a437": {
          "model_module": "@jupyter-widgets/controls",
          "model_name": "HTMLModel",
          "model_module_version": "1.5.0",
          "state": {
            "_dom_classes": [],
            "_model_module": "@jupyter-widgets/controls",
            "_model_module_version": "1.5.0",
            "_model_name": "HTMLModel",
            "_view_count": null,
            "_view_module": "@jupyter-widgets/controls",
            "_view_module_version": "1.5.0",
            "_view_name": "HTMLView",
            "description": "",
            "description_tooltip": null,
            "layout": "IPY_MODEL_1c26ef863c624dd393348ed4f4c01604",
            "placeholder": "​",
            "style": "IPY_MODEL_a913437a828d4260b3bcee572398204f",
            "value": "Downloading readme: 100%"
          }
        },
        "753549b9ec0a485386fc3c6e9bee79e0": {
          "model_module": "@jupyter-widgets/controls",
          "model_name": "FloatProgressModel",
          "model_module_version": "1.5.0",
          "state": {
            "_dom_classes": [],
            "_model_module": "@jupyter-widgets/controls",
            "_model_module_version": "1.5.0",
            "_model_name": "FloatProgressModel",
            "_view_count": null,
            "_view_module": "@jupyter-widgets/controls",
            "_view_module_version": "1.5.0",
            "_view_name": "ProgressView",
            "bar_style": "success",
            "description": "",
            "description_tooltip": null,
            "layout": "IPY_MODEL_a16d7204d18e4b8d878de12eb83f38d7",
            "max": 20464,
            "min": 0,
            "orientation": "horizontal",
            "style": "IPY_MODEL_97b7de03628a4ffda7db56e2862d1430",
            "value": 20464
          }
        },
        "707c7e75053e42178bd0808c0ac092d3": {
          "model_module": "@jupyter-widgets/controls",
          "model_name": "HTMLModel",
          "model_module_version": "1.5.0",
          "state": {
            "_dom_classes": [],
            "_model_module": "@jupyter-widgets/controls",
            "_model_module_version": "1.5.0",
            "_model_name": "HTMLModel",
            "_view_count": null,
            "_view_module": "@jupyter-widgets/controls",
            "_view_module_version": "1.5.0",
            "_view_name": "HTMLView",
            "description": "",
            "description_tooltip": null,
            "layout": "IPY_MODEL_2bfa54104a434fb3bb5a421f6a16378b",
            "placeholder": "​",
            "style": "IPY_MODEL_8ef6516ba54248859862f5da081cdf15",
            "value": " 20.5k/20.5k [00:00&lt;00:00, 1.52MB/s]"
          }
        },
        "3d3e8fb79aa54e598e52e9735cb55962": {
          "model_module": "@jupyter-widgets/base",
          "model_name": "LayoutModel",
          "model_module_version": "1.2.0",
          "state": {
            "_model_module": "@jupyter-widgets/base",
            "_model_module_version": "1.2.0",
            "_model_name": "LayoutModel",
            "_view_count": null,
            "_view_module": "@jupyter-widgets/base",
            "_view_module_version": "1.2.0",
            "_view_name": "LayoutView",
            "align_content": null,
            "align_items": null,
            "align_self": null,
            "border": null,
            "bottom": null,
            "display": null,
            "flex": null,
            "flex_flow": null,
            "grid_area": null,
            "grid_auto_columns": null,
            "grid_auto_flow": null,
            "grid_auto_rows": null,
            "grid_column": null,
            "grid_gap": null,
            "grid_row": null,
            "grid_template_areas": null,
            "grid_template_columns": null,
            "grid_template_rows": null,
            "height": null,
            "justify_content": null,
            "justify_items": null,
            "left": null,
            "margin": null,
            "max_height": null,
            "max_width": null,
            "min_height": null,
            "min_width": null,
            "object_fit": null,
            "object_position": null,
            "order": null,
            "overflow": null,
            "overflow_x": null,
            "overflow_y": null,
            "padding": null,
            "right": null,
            "top": null,
            "visibility": null,
            "width": null
          }
        },
        "1c26ef863c624dd393348ed4f4c01604": {
          "model_module": "@jupyter-widgets/base",
          "model_name": "LayoutModel",
          "model_module_version": "1.2.0",
          "state": {
            "_model_module": "@jupyter-widgets/base",
            "_model_module_version": "1.2.0",
            "_model_name": "LayoutModel",
            "_view_count": null,
            "_view_module": "@jupyter-widgets/base",
            "_view_module_version": "1.2.0",
            "_view_name": "LayoutView",
            "align_content": null,
            "align_items": null,
            "align_self": null,
            "border": null,
            "bottom": null,
            "display": null,
            "flex": null,
            "flex_flow": null,
            "grid_area": null,
            "grid_auto_columns": null,
            "grid_auto_flow": null,
            "grid_auto_rows": null,
            "grid_column": null,
            "grid_gap": null,
            "grid_row": null,
            "grid_template_areas": null,
            "grid_template_columns": null,
            "grid_template_rows": null,
            "height": null,
            "justify_content": null,
            "justify_items": null,
            "left": null,
            "margin": null,
            "max_height": null,
            "max_width": null,
            "min_height": null,
            "min_width": null,
            "object_fit": null,
            "object_position": null,
            "order": null,
            "overflow": null,
            "overflow_x": null,
            "overflow_y": null,
            "padding": null,
            "right": null,
            "top": null,
            "visibility": null,
            "width": null
          }
        },
        "a913437a828d4260b3bcee572398204f": {
          "model_module": "@jupyter-widgets/controls",
          "model_name": "DescriptionStyleModel",
          "model_module_version": "1.5.0",
          "state": {
            "_model_module": "@jupyter-widgets/controls",
            "_model_module_version": "1.5.0",
            "_model_name": "DescriptionStyleModel",
            "_view_count": null,
            "_view_module": "@jupyter-widgets/base",
            "_view_module_version": "1.2.0",
            "_view_name": "StyleView",
            "description_width": ""
          }
        },
        "a16d7204d18e4b8d878de12eb83f38d7": {
          "model_module": "@jupyter-widgets/base",
          "model_name": "LayoutModel",
          "model_module_version": "1.2.0",
          "state": {
            "_model_module": "@jupyter-widgets/base",
            "_model_module_version": "1.2.0",
            "_model_name": "LayoutModel",
            "_view_count": null,
            "_view_module": "@jupyter-widgets/base",
            "_view_module_version": "1.2.0",
            "_view_name": "LayoutView",
            "align_content": null,
            "align_items": null,
            "align_self": null,
            "border": null,
            "bottom": null,
            "display": null,
            "flex": null,
            "flex_flow": null,
            "grid_area": null,
            "grid_auto_columns": null,
            "grid_auto_flow": null,
            "grid_auto_rows": null,
            "grid_column": null,
            "grid_gap": null,
            "grid_row": null,
            "grid_template_areas": null,
            "grid_template_columns": null,
            "grid_template_rows": null,
            "height": null,
            "justify_content": null,
            "justify_items": null,
            "left": null,
            "margin": null,
            "max_height": null,
            "max_width": null,
            "min_height": null,
            "min_width": null,
            "object_fit": null,
            "object_position": null,
            "order": null,
            "overflow": null,
            "overflow_x": null,
            "overflow_y": null,
            "padding": null,
            "right": null,
            "top": null,
            "visibility": null,
            "width": null
          }
        },
        "97b7de03628a4ffda7db56e2862d1430": {
          "model_module": "@jupyter-widgets/controls",
          "model_name": "ProgressStyleModel",
          "model_module_version": "1.5.0",
          "state": {
            "_model_module": "@jupyter-widgets/controls",
            "_model_module_version": "1.5.0",
            "_model_name": "ProgressStyleModel",
            "_view_count": null,
            "_view_module": "@jupyter-widgets/base",
            "_view_module_version": "1.2.0",
            "_view_name": "StyleView",
            "bar_color": null,
            "description_width": ""
          }
        },
        "2bfa54104a434fb3bb5a421f6a16378b": {
          "model_module": "@jupyter-widgets/base",
          "model_name": "LayoutModel",
          "model_module_version": "1.2.0",
          "state": {
            "_model_module": "@jupyter-widgets/base",
            "_model_module_version": "1.2.0",
            "_model_name": "LayoutModel",
            "_view_count": null,
            "_view_module": "@jupyter-widgets/base",
            "_view_module_version": "1.2.0",
            "_view_name": "LayoutView",
            "align_content": null,
            "align_items": null,
            "align_self": null,
            "border": null,
            "bottom": null,
            "display": null,
            "flex": null,
            "flex_flow": null,
            "grid_area": null,
            "grid_auto_columns": null,
            "grid_auto_flow": null,
            "grid_auto_rows": null,
            "grid_column": null,
            "grid_gap": null,
            "grid_row": null,
            "grid_template_areas": null,
            "grid_template_columns": null,
            "grid_template_rows": null,
            "height": null,
            "justify_content": null,
            "justify_items": null,
            "left": null,
            "margin": null,
            "max_height": null,
            "max_width": null,
            "min_height": null,
            "min_width": null,
            "object_fit": null,
            "object_position": null,
            "order": null,
            "overflow": null,
            "overflow_x": null,
            "overflow_y": null,
            "padding": null,
            "right": null,
            "top": null,
            "visibility": null,
            "width": null
          }
        },
        "8ef6516ba54248859862f5da081cdf15": {
          "model_module": "@jupyter-widgets/controls",
          "model_name": "DescriptionStyleModel",
          "model_module_version": "1.5.0",
          "state": {
            "_model_module": "@jupyter-widgets/controls",
            "_model_module_version": "1.5.0",
            "_model_name": "DescriptionStyleModel",
            "_view_count": null,
            "_view_module": "@jupyter-widgets/base",
            "_view_module_version": "1.2.0",
            "_view_name": "StyleView",
            "description_width": ""
          }
        },
        "68cf6234851d4b4f8c1f7babe3d2e9f8": {
          "model_module": "@jupyter-widgets/controls",
          "model_name": "HBoxModel",
          "model_module_version": "1.5.0",
          "state": {
            "_dom_classes": [],
            "_model_module": "@jupyter-widgets/controls",
            "_model_module_version": "1.5.0",
            "_model_name": "HBoxModel",
            "_view_count": null,
            "_view_module": "@jupyter-widgets/controls",
            "_view_module_version": "1.5.0",
            "_view_name": "HBoxView",
            "box_style": "",
            "children": [
              "IPY_MODEL_adf2429006bc4f268814b6dfd4a55a2c",
              "IPY_MODEL_11048785fbd14809a9bc4357285600de",
              "IPY_MODEL_8a2149a3f33d4d478326c20229403170"
            ],
            "layout": "IPY_MODEL_425e732c10324be7956328773ee1c6d6"
          }
        },
        "adf2429006bc4f268814b6dfd4a55a2c": {
          "model_module": "@jupyter-widgets/controls",
          "model_name": "HTMLModel",
          "model_module_version": "1.5.0",
          "state": {
            "_dom_classes": [],
            "_model_module": "@jupyter-widgets/controls",
            "_model_module_version": "1.5.0",
            "_model_name": "HTMLModel",
            "_view_count": null,
            "_view_module": "@jupyter-widgets/controls",
            "_view_module_version": "1.5.0",
            "_view_name": "HTMLView",
            "description": "",
            "description_tooltip": null,
            "layout": "IPY_MODEL_268dd324b60b477994f67933d82d49c0",
            "placeholder": "​",
            "style": "IPY_MODEL_dfd1b94854254e5a901b830745455d90",
            "value": "Downloading data: 100%"
          }
        },
        "11048785fbd14809a9bc4357285600de": {
          "model_module": "@jupyter-widgets/controls",
          "model_name": "FloatProgressModel",
          "model_module_version": "1.5.0",
          "state": {
            "_dom_classes": [],
            "_model_module": "@jupyter-widgets/controls",
            "_model_module_version": "1.5.0",
            "_model_name": "FloatProgressModel",
            "_view_count": null,
            "_view_module": "@jupyter-widgets/controls",
            "_view_module_version": "1.5.0",
            "_view_name": "ProgressView",
            "bar_style": "success",
            "description": "",
            "description_tooltip": null,
            "layout": "IPY_MODEL_d308601dcd6348ac926a2a9a4fa66f30",
            "max": 12009501,
            "min": 0,
            "orientation": "horizontal",
            "style": "IPY_MODEL_b35a113c25844c0d81e00bd46902c2cd",
            "value": 12009501
          }
        },
        "8a2149a3f33d4d478326c20229403170": {
          "model_module": "@jupyter-widgets/controls",
          "model_name": "HTMLModel",
          "model_module_version": "1.5.0",
          "state": {
            "_dom_classes": [],
            "_model_module": "@jupyter-widgets/controls",
            "_model_module_version": "1.5.0",
            "_model_name": "HTMLModel",
            "_view_count": null,
            "_view_module": "@jupyter-widgets/controls",
            "_view_module_version": "1.5.0",
            "_view_name": "HTMLView",
            "description": "",
            "description_tooltip": null,
            "layout": "IPY_MODEL_7c6c45c8b17b45b789fae90151e813f0",
            "placeholder": "​",
            "style": "IPY_MODEL_b3fdd711e3764157bc58d122661f2550",
            "value": " 12.0M/12.0M [00:03&lt;00:00, 6.19MB/s]"
          }
        },
        "425e732c10324be7956328773ee1c6d6": {
          "model_module": "@jupyter-widgets/base",
          "model_name": "LayoutModel",
          "model_module_version": "1.2.0",
          "state": {
            "_model_module": "@jupyter-widgets/base",
            "_model_module_version": "1.2.0",
            "_model_name": "LayoutModel",
            "_view_count": null,
            "_view_module": "@jupyter-widgets/base",
            "_view_module_version": "1.2.0",
            "_view_name": "LayoutView",
            "align_content": null,
            "align_items": null,
            "align_self": null,
            "border": null,
            "bottom": null,
            "display": null,
            "flex": null,
            "flex_flow": null,
            "grid_area": null,
            "grid_auto_columns": null,
            "grid_auto_flow": null,
            "grid_auto_rows": null,
            "grid_column": null,
            "grid_gap": null,
            "grid_row": null,
            "grid_template_areas": null,
            "grid_template_columns": null,
            "grid_template_rows": null,
            "height": null,
            "justify_content": null,
            "justify_items": null,
            "left": null,
            "margin": null,
            "max_height": null,
            "max_width": null,
            "min_height": null,
            "min_width": null,
            "object_fit": null,
            "object_position": null,
            "order": null,
            "overflow": null,
            "overflow_x": null,
            "overflow_y": null,
            "padding": null,
            "right": null,
            "top": null,
            "visibility": null,
            "width": null
          }
        },
        "268dd324b60b477994f67933d82d49c0": {
          "model_module": "@jupyter-widgets/base",
          "model_name": "LayoutModel",
          "model_module_version": "1.2.0",
          "state": {
            "_model_module": "@jupyter-widgets/base",
            "_model_module_version": "1.2.0",
            "_model_name": "LayoutModel",
            "_view_count": null,
            "_view_module": "@jupyter-widgets/base",
            "_view_module_version": "1.2.0",
            "_view_name": "LayoutView",
            "align_content": null,
            "align_items": null,
            "align_self": null,
            "border": null,
            "bottom": null,
            "display": null,
            "flex": null,
            "flex_flow": null,
            "grid_area": null,
            "grid_auto_columns": null,
            "grid_auto_flow": null,
            "grid_auto_rows": null,
            "grid_column": null,
            "grid_gap": null,
            "grid_row": null,
            "grid_template_areas": null,
            "grid_template_columns": null,
            "grid_template_rows": null,
            "height": null,
            "justify_content": null,
            "justify_items": null,
            "left": null,
            "margin": null,
            "max_height": null,
            "max_width": null,
            "min_height": null,
            "min_width": null,
            "object_fit": null,
            "object_position": null,
            "order": null,
            "overflow": null,
            "overflow_x": null,
            "overflow_y": null,
            "padding": null,
            "right": null,
            "top": null,
            "visibility": null,
            "width": null
          }
        },
        "dfd1b94854254e5a901b830745455d90": {
          "model_module": "@jupyter-widgets/controls",
          "model_name": "DescriptionStyleModel",
          "model_module_version": "1.5.0",
          "state": {
            "_model_module": "@jupyter-widgets/controls",
            "_model_module_version": "1.5.0",
            "_model_name": "DescriptionStyleModel",
            "_view_count": null,
            "_view_module": "@jupyter-widgets/base",
            "_view_module_version": "1.2.0",
            "_view_name": "StyleView",
            "description_width": ""
          }
        },
        "d308601dcd6348ac926a2a9a4fa66f30": {
          "model_module": "@jupyter-widgets/base",
          "model_name": "LayoutModel",
          "model_module_version": "1.2.0",
          "state": {
            "_model_module": "@jupyter-widgets/base",
            "_model_module_version": "1.2.0",
            "_model_name": "LayoutModel",
            "_view_count": null,
            "_view_module": "@jupyter-widgets/base",
            "_view_module_version": "1.2.0",
            "_view_name": "LayoutView",
            "align_content": null,
            "align_items": null,
            "align_self": null,
            "border": null,
            "bottom": null,
            "display": null,
            "flex": null,
            "flex_flow": null,
            "grid_area": null,
            "grid_auto_columns": null,
            "grid_auto_flow": null,
            "grid_auto_rows": null,
            "grid_column": null,
            "grid_gap": null,
            "grid_row": null,
            "grid_template_areas": null,
            "grid_template_columns": null,
            "grid_template_rows": null,
            "height": null,
            "justify_content": null,
            "justify_items": null,
            "left": null,
            "margin": null,
            "max_height": null,
            "max_width": null,
            "min_height": null,
            "min_width": null,
            "object_fit": null,
            "object_position": null,
            "order": null,
            "overflow": null,
            "overflow_x": null,
            "overflow_y": null,
            "padding": null,
            "right": null,
            "top": null,
            "visibility": null,
            "width": null
          }
        },
        "b35a113c25844c0d81e00bd46902c2cd": {
          "model_module": "@jupyter-widgets/controls",
          "model_name": "ProgressStyleModel",
          "model_module_version": "1.5.0",
          "state": {
            "_model_module": "@jupyter-widgets/controls",
            "_model_module_version": "1.5.0",
            "_model_name": "ProgressStyleModel",
            "_view_count": null,
            "_view_module": "@jupyter-widgets/base",
            "_view_module_version": "1.2.0",
            "_view_name": "StyleView",
            "bar_color": null,
            "description_width": ""
          }
        },
        "7c6c45c8b17b45b789fae90151e813f0": {
          "model_module": "@jupyter-widgets/base",
          "model_name": "LayoutModel",
          "model_module_version": "1.2.0",
          "state": {
            "_model_module": "@jupyter-widgets/base",
            "_model_module_version": "1.2.0",
            "_model_name": "LayoutModel",
            "_view_count": null,
            "_view_module": "@jupyter-widgets/base",
            "_view_module_version": "1.2.0",
            "_view_name": "LayoutView",
            "align_content": null,
            "align_items": null,
            "align_self": null,
            "border": null,
            "bottom": null,
            "display": null,
            "flex": null,
            "flex_flow": null,
            "grid_area": null,
            "grid_auto_columns": null,
            "grid_auto_flow": null,
            "grid_auto_rows": null,
            "grid_column": null,
            "grid_gap": null,
            "grid_row": null,
            "grid_template_areas": null,
            "grid_template_columns": null,
            "grid_template_rows": null,
            "height": null,
            "justify_content": null,
            "justify_items": null,
            "left": null,
            "margin": null,
            "max_height": null,
            "max_width": null,
            "min_height": null,
            "min_width": null,
            "object_fit": null,
            "object_position": null,
            "order": null,
            "overflow": null,
            "overflow_x": null,
            "overflow_y": null,
            "padding": null,
            "right": null,
            "top": null,
            "visibility": null,
            "width": null
          }
        },
        "b3fdd711e3764157bc58d122661f2550": {
          "model_module": "@jupyter-widgets/controls",
          "model_name": "DescriptionStyleModel",
          "model_module_version": "1.5.0",
          "state": {
            "_model_module": "@jupyter-widgets/controls",
            "_model_module_version": "1.5.0",
            "_model_name": "DescriptionStyleModel",
            "_view_count": null,
            "_view_module": "@jupyter-widgets/base",
            "_view_module_version": "1.2.0",
            "_view_name": "StyleView",
            "description_width": ""
          }
        },
        "60b4d17771764ea98a422552436c86fa": {
          "model_module": "@jupyter-widgets/controls",
          "model_name": "HBoxModel",
          "model_module_version": "1.5.0",
          "state": {
            "_dom_classes": [],
            "_model_module": "@jupyter-widgets/controls",
            "_model_module_version": "1.5.0",
            "_model_name": "HBoxModel",
            "_view_count": null,
            "_view_module": "@jupyter-widgets/controls",
            "_view_module_version": "1.5.0",
            "_view_name": "HBoxView",
            "box_style": "",
            "children": [
              "IPY_MODEL_294ed3cd43bc4d4f83a6212daa3ce944",
              "IPY_MODEL_17498048193049eaa56cafce97c37e9b",
              "IPY_MODEL_c2db5d94fa2d4018bc0c4d9f06d681d1"
            ],
            "layout": "IPY_MODEL_018a8ba61ebb403f90e17e85ce40e7ac"
          }
        },
        "294ed3cd43bc4d4f83a6212daa3ce944": {
          "model_module": "@jupyter-widgets/controls",
          "model_name": "HTMLModel",
          "model_module_version": "1.5.0",
          "state": {
            "_dom_classes": [],
            "_model_module": "@jupyter-widgets/controls",
            "_model_module_version": "1.5.0",
            "_model_name": "HTMLModel",
            "_view_count": null,
            "_view_module": "@jupyter-widgets/controls",
            "_view_module_version": "1.5.0",
            "_view_name": "HTMLView",
            "description": "",
            "description_tooltip": null,
            "layout": "IPY_MODEL_68c7e4c53e1b45bbb35c0a5c46474a36",
            "placeholder": "​",
            "style": "IPY_MODEL_cb0d4a5da56e4201abcf7aa0b447be73",
            "value": "Generating train split: 100%"
          }
        },
        "17498048193049eaa56cafce97c37e9b": {
          "model_module": "@jupyter-widgets/controls",
          "model_name": "FloatProgressModel",
          "model_module_version": "1.5.0",
          "state": {
            "_dom_classes": [],
            "_model_module": "@jupyter-widgets/controls",
            "_model_module_version": "1.5.0",
            "_model_name": "FloatProgressModel",
            "_view_count": null,
            "_view_module": "@jupyter-widgets/controls",
            "_view_module_version": "1.5.0",
            "_view_name": "ProgressView",
            "bar_style": "",
            "description": "",
            "description_tooltip": null,
            "layout": "IPY_MODEL_3e012902e6b14deca3db6efa095373e4",
            "max": 127085,
            "min": 0,
            "orientation": "horizontal",
            "style": "IPY_MODEL_d5f2e8b85bd948f1a8eb258a8f74d93c",
            "value": 127085
          }
        },
        "c2db5d94fa2d4018bc0c4d9f06d681d1": {
          "model_module": "@jupyter-widgets/controls",
          "model_name": "HTMLModel",
          "model_module_version": "1.5.0",
          "state": {
            "_dom_classes": [],
            "_model_module": "@jupyter-widgets/controls",
            "_model_module_version": "1.5.0",
            "_model_name": "HTMLModel",
            "_view_count": null,
            "_view_module": "@jupyter-widgets/controls",
            "_view_module_version": "1.5.0",
            "_view_name": "HTMLView",
            "description": "",
            "description_tooltip": null,
            "layout": "IPY_MODEL_07acc05845e941e9855ee86c3821eeae",
            "placeholder": "​",
            "style": "IPY_MODEL_e583833895444a5db1dab3d8bb321c3c",
            "value": " 126749/127085 [00:05&lt;00:00, 26131.95 examples/s]"
          }
        },
        "018a8ba61ebb403f90e17e85ce40e7ac": {
          "model_module": "@jupyter-widgets/base",
          "model_name": "LayoutModel",
          "model_module_version": "1.2.0",
          "state": {
            "_model_module": "@jupyter-widgets/base",
            "_model_module_version": "1.2.0",
            "_model_name": "LayoutModel",
            "_view_count": null,
            "_view_module": "@jupyter-widgets/base",
            "_view_module_version": "1.2.0",
            "_view_name": "LayoutView",
            "align_content": null,
            "align_items": null,
            "align_self": null,
            "border": null,
            "bottom": null,
            "display": null,
            "flex": null,
            "flex_flow": null,
            "grid_area": null,
            "grid_auto_columns": null,
            "grid_auto_flow": null,
            "grid_auto_rows": null,
            "grid_column": null,
            "grid_gap": null,
            "grid_row": null,
            "grid_template_areas": null,
            "grid_template_columns": null,
            "grid_template_rows": null,
            "height": null,
            "justify_content": null,
            "justify_items": null,
            "left": null,
            "margin": null,
            "max_height": null,
            "max_width": null,
            "min_height": null,
            "min_width": null,
            "object_fit": null,
            "object_position": null,
            "order": null,
            "overflow": null,
            "overflow_x": null,
            "overflow_y": null,
            "padding": null,
            "right": null,
            "top": null,
            "visibility": "hidden",
            "width": null
          }
        },
        "68c7e4c53e1b45bbb35c0a5c46474a36": {
          "model_module": "@jupyter-widgets/base",
          "model_name": "LayoutModel",
          "model_module_version": "1.2.0",
          "state": {
            "_model_module": "@jupyter-widgets/base",
            "_model_module_version": "1.2.0",
            "_model_name": "LayoutModel",
            "_view_count": null,
            "_view_module": "@jupyter-widgets/base",
            "_view_module_version": "1.2.0",
            "_view_name": "LayoutView",
            "align_content": null,
            "align_items": null,
            "align_self": null,
            "border": null,
            "bottom": null,
            "display": null,
            "flex": null,
            "flex_flow": null,
            "grid_area": null,
            "grid_auto_columns": null,
            "grid_auto_flow": null,
            "grid_auto_rows": null,
            "grid_column": null,
            "grid_gap": null,
            "grid_row": null,
            "grid_template_areas": null,
            "grid_template_columns": null,
            "grid_template_rows": null,
            "height": null,
            "justify_content": null,
            "justify_items": null,
            "left": null,
            "margin": null,
            "max_height": null,
            "max_width": null,
            "min_height": null,
            "min_width": null,
            "object_fit": null,
            "object_position": null,
            "order": null,
            "overflow": null,
            "overflow_x": null,
            "overflow_y": null,
            "padding": null,
            "right": null,
            "top": null,
            "visibility": null,
            "width": null
          }
        },
        "cb0d4a5da56e4201abcf7aa0b447be73": {
          "model_module": "@jupyter-widgets/controls",
          "model_name": "DescriptionStyleModel",
          "model_module_version": "1.5.0",
          "state": {
            "_model_module": "@jupyter-widgets/controls",
            "_model_module_version": "1.5.0",
            "_model_name": "DescriptionStyleModel",
            "_view_count": null,
            "_view_module": "@jupyter-widgets/base",
            "_view_module_version": "1.2.0",
            "_view_name": "StyleView",
            "description_width": ""
          }
        },
        "3e012902e6b14deca3db6efa095373e4": {
          "model_module": "@jupyter-widgets/base",
          "model_name": "LayoutModel",
          "model_module_version": "1.2.0",
          "state": {
            "_model_module": "@jupyter-widgets/base",
            "_model_module_version": "1.2.0",
            "_model_name": "LayoutModel",
            "_view_count": null,
            "_view_module": "@jupyter-widgets/base",
            "_view_module_version": "1.2.0",
            "_view_name": "LayoutView",
            "align_content": null,
            "align_items": null,
            "align_self": null,
            "border": null,
            "bottom": null,
            "display": null,
            "flex": null,
            "flex_flow": null,
            "grid_area": null,
            "grid_auto_columns": null,
            "grid_auto_flow": null,
            "grid_auto_rows": null,
            "grid_column": null,
            "grid_gap": null,
            "grid_row": null,
            "grid_template_areas": null,
            "grid_template_columns": null,
            "grid_template_rows": null,
            "height": null,
            "justify_content": null,
            "justify_items": null,
            "left": null,
            "margin": null,
            "max_height": null,
            "max_width": null,
            "min_height": null,
            "min_width": null,
            "object_fit": null,
            "object_position": null,
            "order": null,
            "overflow": null,
            "overflow_x": null,
            "overflow_y": null,
            "padding": null,
            "right": null,
            "top": null,
            "visibility": null,
            "width": null
          }
        },
        "d5f2e8b85bd948f1a8eb258a8f74d93c": {
          "model_module": "@jupyter-widgets/controls",
          "model_name": "ProgressStyleModel",
          "model_module_version": "1.5.0",
          "state": {
            "_model_module": "@jupyter-widgets/controls",
            "_model_module_version": "1.5.0",
            "_model_name": "ProgressStyleModel",
            "_view_count": null,
            "_view_module": "@jupyter-widgets/base",
            "_view_module_version": "1.2.0",
            "_view_name": "StyleView",
            "bar_color": null,
            "description_width": ""
          }
        },
        "07acc05845e941e9855ee86c3821eeae": {
          "model_module": "@jupyter-widgets/base",
          "model_name": "LayoutModel",
          "model_module_version": "1.2.0",
          "state": {
            "_model_module": "@jupyter-widgets/base",
            "_model_module_version": "1.2.0",
            "_model_name": "LayoutModel",
            "_view_count": null,
            "_view_module": "@jupyter-widgets/base",
            "_view_module_version": "1.2.0",
            "_view_name": "LayoutView",
            "align_content": null,
            "align_items": null,
            "align_self": null,
            "border": null,
            "bottom": null,
            "display": null,
            "flex": null,
            "flex_flow": null,
            "grid_area": null,
            "grid_auto_columns": null,
            "grid_auto_flow": null,
            "grid_auto_rows": null,
            "grid_column": null,
            "grid_gap": null,
            "grid_row": null,
            "grid_template_areas": null,
            "grid_template_columns": null,
            "grid_template_rows": null,
            "height": null,
            "justify_content": null,
            "justify_items": null,
            "left": null,
            "margin": null,
            "max_height": null,
            "max_width": null,
            "min_height": null,
            "min_width": null,
            "object_fit": null,
            "object_position": null,
            "order": null,
            "overflow": null,
            "overflow_x": null,
            "overflow_y": null,
            "padding": null,
            "right": null,
            "top": null,
            "visibility": null,
            "width": null
          }
        },
        "e583833895444a5db1dab3d8bb321c3c": {
          "model_module": "@jupyter-widgets/controls",
          "model_name": "DescriptionStyleModel",
          "model_module_version": "1.5.0",
          "state": {
            "_model_module": "@jupyter-widgets/controls",
            "_model_module_version": "1.5.0",
            "_model_name": "DescriptionStyleModel",
            "_view_count": null,
            "_view_module": "@jupyter-widgets/base",
            "_view_module_version": "1.2.0",
            "_view_name": "StyleView",
            "description_width": ""
          }
        },
        "ecfaf2e0fbfd456a85b61b7ea515e692": {
          "model_module": "@jupyter-widgets/controls",
          "model_name": "HBoxModel",
          "model_module_version": "1.5.0",
          "state": {
            "_dom_classes": [],
            "_model_module": "@jupyter-widgets/controls",
            "_model_module_version": "1.5.0",
            "_model_name": "HBoxModel",
            "_view_count": null,
            "_view_module": "@jupyter-widgets/controls",
            "_view_module_version": "1.5.0",
            "_view_name": "HBoxView",
            "box_style": "",
            "children": [
              "IPY_MODEL_45bf9ee16bfc4a4b823b616d03ca16ed",
              "IPY_MODEL_4f92cf72db1442399dc10abcb6f51c09",
              "IPY_MODEL_fc9ccde8c80e4a6f85a8fb9de4ac384f"
            ],
            "layout": "IPY_MODEL_46c713be16cd46039f182a2b1869a647"
          }
        },
        "45bf9ee16bfc4a4b823b616d03ca16ed": {
          "model_module": "@jupyter-widgets/controls",
          "model_name": "HTMLModel",
          "model_module_version": "1.5.0",
          "state": {
            "_dom_classes": [],
            "_model_module": "@jupyter-widgets/controls",
            "_model_module_version": "1.5.0",
            "_model_name": "HTMLModel",
            "_view_count": null,
            "_view_module": "@jupyter-widgets/controls",
            "_view_module_version": "1.5.0",
            "_view_name": "HTMLView",
            "description": "",
            "description_tooltip": null,
            "layout": "IPY_MODEL_d45eeb461fc544b594bd34f5fd024879",
            "placeholder": "​",
            "style": "IPY_MODEL_35739489ca46454297b4a8032d92ce3f",
            "value": "Downloading builder script: 100%"
          }
        },
        "4f92cf72db1442399dc10abcb6f51c09": {
          "model_module": "@jupyter-widgets/controls",
          "model_name": "FloatProgressModel",
          "model_module_version": "1.5.0",
          "state": {
            "_dom_classes": [],
            "_model_module": "@jupyter-widgets/controls",
            "_model_module_version": "1.5.0",
            "_model_name": "FloatProgressModel",
            "_view_count": null,
            "_view_module": "@jupyter-widgets/controls",
            "_view_module_version": "1.5.0",
            "_view_name": "ProgressView",
            "bar_style": "success",
            "description": "",
            "description_tooltip": null,
            "layout": "IPY_MODEL_009ac5b5b62a4974bbe832dbaac218e3",
            "max": 6081,
            "min": 0,
            "orientation": "horizontal",
            "style": "IPY_MODEL_c7084a7157774d858bbcc703f6209dcb",
            "value": 6081
          }
        },
        "fc9ccde8c80e4a6f85a8fb9de4ac384f": {
          "model_module": "@jupyter-widgets/controls",
          "model_name": "HTMLModel",
          "model_module_version": "1.5.0",
          "state": {
            "_dom_classes": [],
            "_model_module": "@jupyter-widgets/controls",
            "_model_module_version": "1.5.0",
            "_model_name": "HTMLModel",
            "_view_count": null,
            "_view_module": "@jupyter-widgets/controls",
            "_view_module_version": "1.5.0",
            "_view_name": "HTMLView",
            "description": "",
            "description_tooltip": null,
            "layout": "IPY_MODEL_590682e1a08346d08d873f2e27cae3cc",
            "placeholder": "​",
            "style": "IPY_MODEL_3e585b7b2a674fe2b083a7a43c954612",
            "value": " 6.08k/6.08k [00:00&lt;00:00, 132kB/s]"
          }
        },
        "46c713be16cd46039f182a2b1869a647": {
          "model_module": "@jupyter-widgets/base",
          "model_name": "LayoutModel",
          "model_module_version": "1.2.0",
          "state": {
            "_model_module": "@jupyter-widgets/base",
            "_model_module_version": "1.2.0",
            "_model_name": "LayoutModel",
            "_view_count": null,
            "_view_module": "@jupyter-widgets/base",
            "_view_module_version": "1.2.0",
            "_view_name": "LayoutView",
            "align_content": null,
            "align_items": null,
            "align_self": null,
            "border": null,
            "bottom": null,
            "display": null,
            "flex": null,
            "flex_flow": null,
            "grid_area": null,
            "grid_auto_columns": null,
            "grid_auto_flow": null,
            "grid_auto_rows": null,
            "grid_column": null,
            "grid_gap": null,
            "grid_row": null,
            "grid_template_areas": null,
            "grid_template_columns": null,
            "grid_template_rows": null,
            "height": null,
            "justify_content": null,
            "justify_items": null,
            "left": null,
            "margin": null,
            "max_height": null,
            "max_width": null,
            "min_height": null,
            "min_width": null,
            "object_fit": null,
            "object_position": null,
            "order": null,
            "overflow": null,
            "overflow_x": null,
            "overflow_y": null,
            "padding": null,
            "right": null,
            "top": null,
            "visibility": null,
            "width": null
          }
        },
        "d45eeb461fc544b594bd34f5fd024879": {
          "model_module": "@jupyter-widgets/base",
          "model_name": "LayoutModel",
          "model_module_version": "1.2.0",
          "state": {
            "_model_module": "@jupyter-widgets/base",
            "_model_module_version": "1.2.0",
            "_model_name": "LayoutModel",
            "_view_count": null,
            "_view_module": "@jupyter-widgets/base",
            "_view_module_version": "1.2.0",
            "_view_name": "LayoutView",
            "align_content": null,
            "align_items": null,
            "align_self": null,
            "border": null,
            "bottom": null,
            "display": null,
            "flex": null,
            "flex_flow": null,
            "grid_area": null,
            "grid_auto_columns": null,
            "grid_auto_flow": null,
            "grid_auto_rows": null,
            "grid_column": null,
            "grid_gap": null,
            "grid_row": null,
            "grid_template_areas": null,
            "grid_template_columns": null,
            "grid_template_rows": null,
            "height": null,
            "justify_content": null,
            "justify_items": null,
            "left": null,
            "margin": null,
            "max_height": null,
            "max_width": null,
            "min_height": null,
            "min_width": null,
            "object_fit": null,
            "object_position": null,
            "order": null,
            "overflow": null,
            "overflow_x": null,
            "overflow_y": null,
            "padding": null,
            "right": null,
            "top": null,
            "visibility": null,
            "width": null
          }
        },
        "35739489ca46454297b4a8032d92ce3f": {
          "model_module": "@jupyter-widgets/controls",
          "model_name": "DescriptionStyleModel",
          "model_module_version": "1.5.0",
          "state": {
            "_model_module": "@jupyter-widgets/controls",
            "_model_module_version": "1.5.0",
            "_model_name": "DescriptionStyleModel",
            "_view_count": null,
            "_view_module": "@jupyter-widgets/base",
            "_view_module_version": "1.2.0",
            "_view_name": "StyleView",
            "description_width": ""
          }
        },
        "009ac5b5b62a4974bbe832dbaac218e3": {
          "model_module": "@jupyter-widgets/base",
          "model_name": "LayoutModel",
          "model_module_version": "1.2.0",
          "state": {
            "_model_module": "@jupyter-widgets/base",
            "_model_module_version": "1.2.0",
            "_model_name": "LayoutModel",
            "_view_count": null,
            "_view_module": "@jupyter-widgets/base",
            "_view_module_version": "1.2.0",
            "_view_name": "LayoutView",
            "align_content": null,
            "align_items": null,
            "align_self": null,
            "border": null,
            "bottom": null,
            "display": null,
            "flex": null,
            "flex_flow": null,
            "grid_area": null,
            "grid_auto_columns": null,
            "grid_auto_flow": null,
            "grid_auto_rows": null,
            "grid_column": null,
            "grid_gap": null,
            "grid_row": null,
            "grid_template_areas": null,
            "grid_template_columns": null,
            "grid_template_rows": null,
            "height": null,
            "justify_content": null,
            "justify_items": null,
            "left": null,
            "margin": null,
            "max_height": null,
            "max_width": null,
            "min_height": null,
            "min_width": null,
            "object_fit": null,
            "object_position": null,
            "order": null,
            "overflow": null,
            "overflow_x": null,
            "overflow_y": null,
            "padding": null,
            "right": null,
            "top": null,
            "visibility": null,
            "width": null
          }
        },
        "c7084a7157774d858bbcc703f6209dcb": {
          "model_module": "@jupyter-widgets/controls",
          "model_name": "ProgressStyleModel",
          "model_module_version": "1.5.0",
          "state": {
            "_model_module": "@jupyter-widgets/controls",
            "_model_module_version": "1.5.0",
            "_model_name": "ProgressStyleModel",
            "_view_count": null,
            "_view_module": "@jupyter-widgets/base",
            "_view_module_version": "1.2.0",
            "_view_name": "StyleView",
            "bar_color": null,
            "description_width": ""
          }
        },
        "590682e1a08346d08d873f2e27cae3cc": {
          "model_module": "@jupyter-widgets/base",
          "model_name": "LayoutModel",
          "model_module_version": "1.2.0",
          "state": {
            "_model_module": "@jupyter-widgets/base",
            "_model_module_version": "1.2.0",
            "_model_name": "LayoutModel",
            "_view_count": null,
            "_view_module": "@jupyter-widgets/base",
            "_view_module_version": "1.2.0",
            "_view_name": "LayoutView",
            "align_content": null,
            "align_items": null,
            "align_self": null,
            "border": null,
            "bottom": null,
            "display": null,
            "flex": null,
            "flex_flow": null,
            "grid_area": null,
            "grid_auto_columns": null,
            "grid_auto_flow": null,
            "grid_auto_rows": null,
            "grid_column": null,
            "grid_gap": null,
            "grid_row": null,
            "grid_template_areas": null,
            "grid_template_columns": null,
            "grid_template_rows": null,
            "height": null,
            "justify_content": null,
            "justify_items": null,
            "left": null,
            "margin": null,
            "max_height": null,
            "max_width": null,
            "min_height": null,
            "min_width": null,
            "object_fit": null,
            "object_position": null,
            "order": null,
            "overflow": null,
            "overflow_x": null,
            "overflow_y": null,
            "padding": null,
            "right": null,
            "top": null,
            "visibility": null,
            "width": null
          }
        },
        "3e585b7b2a674fe2b083a7a43c954612": {
          "model_module": "@jupyter-widgets/controls",
          "model_name": "DescriptionStyleModel",
          "model_module_version": "1.5.0",
          "state": {
            "_model_module": "@jupyter-widgets/controls",
            "_model_module_version": "1.5.0",
            "_model_name": "DescriptionStyleModel",
            "_view_count": null,
            "_view_module": "@jupyter-widgets/base",
            "_view_module_version": "1.2.0",
            "_view_name": "StyleView",
            "description_width": ""
          }
        },
        "eb59b03d306b4fd2a9dbbecea7341cc3": {
          "model_module": "@jupyter-widgets/controls",
          "model_name": "HBoxModel",
          "model_module_version": "1.5.0",
          "state": {
            "_dom_classes": [],
            "_model_module": "@jupyter-widgets/controls",
            "_model_module_version": "1.5.0",
            "_model_name": "HBoxModel",
            "_view_count": null,
            "_view_module": "@jupyter-widgets/controls",
            "_view_module_version": "1.5.0",
            "_view_name": "HBoxView",
            "box_style": "",
            "children": [
              "IPY_MODEL_78b60de78a1d41f886b2f6db4358b822",
              "IPY_MODEL_895d65b6330f43a494d78b48af82aa2e",
              "IPY_MODEL_4cabadee0579491d9073801e91beb833"
            ],
            "layout": "IPY_MODEL_5878a99e9cc2450a8c1bf5b5e30780f9"
          }
        },
        "78b60de78a1d41f886b2f6db4358b822": {
          "model_module": "@jupyter-widgets/controls",
          "model_name": "HTMLModel",
          "model_module_version": "1.5.0",
          "state": {
            "_dom_classes": [],
            "_model_module": "@jupyter-widgets/controls",
            "_model_module_version": "1.5.0",
            "_model_name": "HTMLModel",
            "_view_count": null,
            "_view_module": "@jupyter-widgets/controls",
            "_view_module_version": "1.5.0",
            "_view_name": "HTMLView",
            "description": "",
            "description_tooltip": null,
            "layout": "IPY_MODEL_bea5ae1dff83453d80c9cb1af8dff8b4",
            "placeholder": "​",
            "style": "IPY_MODEL_6e74de141a6f4ec1806e79fe5425c8ae",
            "value": "Downloading metadata: 100%"
          }
        },
        "895d65b6330f43a494d78b48af82aa2e": {
          "model_module": "@jupyter-widgets/controls",
          "model_name": "FloatProgressModel",
          "model_module_version": "1.5.0",
          "state": {
            "_dom_classes": [],
            "_model_module": "@jupyter-widgets/controls",
            "_model_module_version": "1.5.0",
            "_model_name": "FloatProgressModel",
            "_view_count": null,
            "_view_module": "@jupyter-widgets/controls",
            "_view_module_version": "1.5.0",
            "_view_name": "ProgressView",
            "bar_style": "success",
            "description": "",
            "description_tooltip": null,
            "layout": "IPY_MODEL_69663a74479c4e28b0725cf57dd92bb1",
            "max": 161154,
            "min": 0,
            "orientation": "horizontal",
            "style": "IPY_MODEL_440687df1ced420f9a3646ee31fb93f4",
            "value": 161154
          }
        },
        "4cabadee0579491d9073801e91beb833": {
          "model_module": "@jupyter-widgets/controls",
          "model_name": "HTMLModel",
          "model_module_version": "1.5.0",
          "state": {
            "_dom_classes": [],
            "_model_module": "@jupyter-widgets/controls",
            "_model_module_version": "1.5.0",
            "_model_name": "HTMLModel",
            "_view_count": null,
            "_view_module": "@jupyter-widgets/controls",
            "_view_module_version": "1.5.0",
            "_view_name": "HTMLView",
            "description": "",
            "description_tooltip": null,
            "layout": "IPY_MODEL_a789045069ef49e6be013967d0d1307d",
            "placeholder": "​",
            "style": "IPY_MODEL_cf779c9aa7a14e31bb05343a64e53cb8",
            "value": " 161k/161k [00:00&lt;00:00, 3.01MB/s]"
          }
        },
        "5878a99e9cc2450a8c1bf5b5e30780f9": {
          "model_module": "@jupyter-widgets/base",
          "model_name": "LayoutModel",
          "model_module_version": "1.2.0",
          "state": {
            "_model_module": "@jupyter-widgets/base",
            "_model_module_version": "1.2.0",
            "_model_name": "LayoutModel",
            "_view_count": null,
            "_view_module": "@jupyter-widgets/base",
            "_view_module_version": "1.2.0",
            "_view_name": "LayoutView",
            "align_content": null,
            "align_items": null,
            "align_self": null,
            "border": null,
            "bottom": null,
            "display": null,
            "flex": null,
            "flex_flow": null,
            "grid_area": null,
            "grid_auto_columns": null,
            "grid_auto_flow": null,
            "grid_auto_rows": null,
            "grid_column": null,
            "grid_gap": null,
            "grid_row": null,
            "grid_template_areas": null,
            "grid_template_columns": null,
            "grid_template_rows": null,
            "height": null,
            "justify_content": null,
            "justify_items": null,
            "left": null,
            "margin": null,
            "max_height": null,
            "max_width": null,
            "min_height": null,
            "min_width": null,
            "object_fit": null,
            "object_position": null,
            "order": null,
            "overflow": null,
            "overflow_x": null,
            "overflow_y": null,
            "padding": null,
            "right": null,
            "top": null,
            "visibility": null,
            "width": null
          }
        },
        "bea5ae1dff83453d80c9cb1af8dff8b4": {
          "model_module": "@jupyter-widgets/base",
          "model_name": "LayoutModel",
          "model_module_version": "1.2.0",
          "state": {
            "_model_module": "@jupyter-widgets/base",
            "_model_module_version": "1.2.0",
            "_model_name": "LayoutModel",
            "_view_count": null,
            "_view_module": "@jupyter-widgets/base",
            "_view_module_version": "1.2.0",
            "_view_name": "LayoutView",
            "align_content": null,
            "align_items": null,
            "align_self": null,
            "border": null,
            "bottom": null,
            "display": null,
            "flex": null,
            "flex_flow": null,
            "grid_area": null,
            "grid_auto_columns": null,
            "grid_auto_flow": null,
            "grid_auto_rows": null,
            "grid_column": null,
            "grid_gap": null,
            "grid_row": null,
            "grid_template_areas": null,
            "grid_template_columns": null,
            "grid_template_rows": null,
            "height": null,
            "justify_content": null,
            "justify_items": null,
            "left": null,
            "margin": null,
            "max_height": null,
            "max_width": null,
            "min_height": null,
            "min_width": null,
            "object_fit": null,
            "object_position": null,
            "order": null,
            "overflow": null,
            "overflow_x": null,
            "overflow_y": null,
            "padding": null,
            "right": null,
            "top": null,
            "visibility": null,
            "width": null
          }
        },
        "6e74de141a6f4ec1806e79fe5425c8ae": {
          "model_module": "@jupyter-widgets/controls",
          "model_name": "DescriptionStyleModel",
          "model_module_version": "1.5.0",
          "state": {
            "_model_module": "@jupyter-widgets/controls",
            "_model_module_version": "1.5.0",
            "_model_name": "DescriptionStyleModel",
            "_view_count": null,
            "_view_module": "@jupyter-widgets/base",
            "_view_module_version": "1.2.0",
            "_view_name": "StyleView",
            "description_width": ""
          }
        },
        "69663a74479c4e28b0725cf57dd92bb1": {
          "model_module": "@jupyter-widgets/base",
          "model_name": "LayoutModel",
          "model_module_version": "1.2.0",
          "state": {
            "_model_module": "@jupyter-widgets/base",
            "_model_module_version": "1.2.0",
            "_model_name": "LayoutModel",
            "_view_count": null,
            "_view_module": "@jupyter-widgets/base",
            "_view_module_version": "1.2.0",
            "_view_name": "LayoutView",
            "align_content": null,
            "align_items": null,
            "align_self": null,
            "border": null,
            "bottom": null,
            "display": null,
            "flex": null,
            "flex_flow": null,
            "grid_area": null,
            "grid_auto_columns": null,
            "grid_auto_flow": null,
            "grid_auto_rows": null,
            "grid_column": null,
            "grid_gap": null,
            "grid_row": null,
            "grid_template_areas": null,
            "grid_template_columns": null,
            "grid_template_rows": null,
            "height": null,
            "justify_content": null,
            "justify_items": null,
            "left": null,
            "margin": null,
            "max_height": null,
            "max_width": null,
            "min_height": null,
            "min_width": null,
            "object_fit": null,
            "object_position": null,
            "order": null,
            "overflow": null,
            "overflow_x": null,
            "overflow_y": null,
            "padding": null,
            "right": null,
            "top": null,
            "visibility": null,
            "width": null
          }
        },
        "440687df1ced420f9a3646ee31fb93f4": {
          "model_module": "@jupyter-widgets/controls",
          "model_name": "ProgressStyleModel",
          "model_module_version": "1.5.0",
          "state": {
            "_model_module": "@jupyter-widgets/controls",
            "_model_module_version": "1.5.0",
            "_model_name": "ProgressStyleModel",
            "_view_count": null,
            "_view_module": "@jupyter-widgets/base",
            "_view_module_version": "1.2.0",
            "_view_name": "StyleView",
            "bar_color": null,
            "description_width": ""
          }
        },
        "a789045069ef49e6be013967d0d1307d": {
          "model_module": "@jupyter-widgets/base",
          "model_name": "LayoutModel",
          "model_module_version": "1.2.0",
          "state": {
            "_model_module": "@jupyter-widgets/base",
            "_model_module_version": "1.2.0",
            "_model_name": "LayoutModel",
            "_view_count": null,
            "_view_module": "@jupyter-widgets/base",
            "_view_module_version": "1.2.0",
            "_view_name": "LayoutView",
            "align_content": null,
            "align_items": null,
            "align_self": null,
            "border": null,
            "bottom": null,
            "display": null,
            "flex": null,
            "flex_flow": null,
            "grid_area": null,
            "grid_auto_columns": null,
            "grid_auto_flow": null,
            "grid_auto_rows": null,
            "grid_column": null,
            "grid_gap": null,
            "grid_row": null,
            "grid_template_areas": null,
            "grid_template_columns": null,
            "grid_template_rows": null,
            "height": null,
            "justify_content": null,
            "justify_items": null,
            "left": null,
            "margin": null,
            "max_height": null,
            "max_width": null,
            "min_height": null,
            "min_width": null,
            "object_fit": null,
            "object_position": null,
            "order": null,
            "overflow": null,
            "overflow_x": null,
            "overflow_y": null,
            "padding": null,
            "right": null,
            "top": null,
            "visibility": null,
            "width": null
          }
        },
        "cf779c9aa7a14e31bb05343a64e53cb8": {
          "model_module": "@jupyter-widgets/controls",
          "model_name": "DescriptionStyleModel",
          "model_module_version": "1.5.0",
          "state": {
            "_model_module": "@jupyter-widgets/controls",
            "_model_module_version": "1.5.0",
            "_model_name": "DescriptionStyleModel",
            "_view_count": null,
            "_view_module": "@jupyter-widgets/base",
            "_view_module_version": "1.2.0",
            "_view_name": "StyleView",
            "description_width": ""
          }
        },
        "9b0543b5e42840adac36675303115404": {
          "model_module": "@jupyter-widgets/controls",
          "model_name": "HBoxModel",
          "model_module_version": "1.5.0",
          "state": {
            "_dom_classes": [],
            "_model_module": "@jupyter-widgets/controls",
            "_model_module_version": "1.5.0",
            "_model_name": "HBoxModel",
            "_view_count": null,
            "_view_module": "@jupyter-widgets/controls",
            "_view_module_version": "1.5.0",
            "_view_name": "HBoxView",
            "box_style": "",
            "children": [
              "IPY_MODEL_e6d44c9ec446405181116d3634a19264",
              "IPY_MODEL_c782f2b86a3d47c6bf1ccc0a6dcc9a7f",
              "IPY_MODEL_bfed842f8fa040858fbf7be6e783aa43"
            ],
            "layout": "IPY_MODEL_0b16f32341f7449b91f02175215719d8"
          }
        },
        "e6d44c9ec446405181116d3634a19264": {
          "model_module": "@jupyter-widgets/controls",
          "model_name": "HTMLModel",
          "model_module_version": "1.5.0",
          "state": {
            "_dom_classes": [],
            "_model_module": "@jupyter-widgets/controls",
            "_model_module_version": "1.5.0",
            "_model_name": "HTMLModel",
            "_view_count": null,
            "_view_module": "@jupyter-widgets/controls",
            "_view_module_version": "1.5.0",
            "_view_name": "HTMLView",
            "description": "",
            "description_tooltip": null,
            "layout": "IPY_MODEL_b438264648f3434c8f2a4071d38c4f6f",
            "placeholder": "​",
            "style": "IPY_MODEL_64fb6619de8f45f98d13f61d1469ebf8",
            "value": "Downloading readme: 100%"
          }
        },
        "c782f2b86a3d47c6bf1ccc0a6dcc9a7f": {
          "model_module": "@jupyter-widgets/controls",
          "model_name": "FloatProgressModel",
          "model_module_version": "1.5.0",
          "state": {
            "_dom_classes": [],
            "_model_module": "@jupyter-widgets/controls",
            "_model_module_version": "1.5.0",
            "_model_name": "FloatProgressModel",
            "_view_count": null,
            "_view_module": "@jupyter-widgets/controls",
            "_view_module_version": "1.5.0",
            "_view_name": "ProgressView",
            "bar_style": "success",
            "description": "",
            "description_tooltip": null,
            "layout": "IPY_MODEL_7332a02e50ef40a1a2bf3e8382aa8450",
            "max": 20464,
            "min": 0,
            "orientation": "horizontal",
            "style": "IPY_MODEL_9ca17e594e57492b9ace6eb221948ac7",
            "value": 20464
          }
        },
        "bfed842f8fa040858fbf7be6e783aa43": {
          "model_module": "@jupyter-widgets/controls",
          "model_name": "HTMLModel",
          "model_module_version": "1.5.0",
          "state": {
            "_dom_classes": [],
            "_model_module": "@jupyter-widgets/controls",
            "_model_module_version": "1.5.0",
            "_model_name": "HTMLModel",
            "_view_count": null,
            "_view_module": "@jupyter-widgets/controls",
            "_view_module_version": "1.5.0",
            "_view_name": "HTMLView",
            "description": "",
            "description_tooltip": null,
            "layout": "IPY_MODEL_38f325f1cd0c4f26b1ddba60301506d1",
            "placeholder": "​",
            "style": "IPY_MODEL_43ce5bf27ee046b0a8372b1f533cd977",
            "value": " 20.5k/20.5k [00:00&lt;00:00, 404kB/s]"
          }
        },
        "0b16f32341f7449b91f02175215719d8": {
          "model_module": "@jupyter-widgets/base",
          "model_name": "LayoutModel",
          "model_module_version": "1.2.0",
          "state": {
            "_model_module": "@jupyter-widgets/base",
            "_model_module_version": "1.2.0",
            "_model_name": "LayoutModel",
            "_view_count": null,
            "_view_module": "@jupyter-widgets/base",
            "_view_module_version": "1.2.0",
            "_view_name": "LayoutView",
            "align_content": null,
            "align_items": null,
            "align_self": null,
            "border": null,
            "bottom": null,
            "display": null,
            "flex": null,
            "flex_flow": null,
            "grid_area": null,
            "grid_auto_columns": null,
            "grid_auto_flow": null,
            "grid_auto_rows": null,
            "grid_column": null,
            "grid_gap": null,
            "grid_row": null,
            "grid_template_areas": null,
            "grid_template_columns": null,
            "grid_template_rows": null,
            "height": null,
            "justify_content": null,
            "justify_items": null,
            "left": null,
            "margin": null,
            "max_height": null,
            "max_width": null,
            "min_height": null,
            "min_width": null,
            "object_fit": null,
            "object_position": null,
            "order": null,
            "overflow": null,
            "overflow_x": null,
            "overflow_y": null,
            "padding": null,
            "right": null,
            "top": null,
            "visibility": null,
            "width": null
          }
        },
        "b438264648f3434c8f2a4071d38c4f6f": {
          "model_module": "@jupyter-widgets/base",
          "model_name": "LayoutModel",
          "model_module_version": "1.2.0",
          "state": {
            "_model_module": "@jupyter-widgets/base",
            "_model_module_version": "1.2.0",
            "_model_name": "LayoutModel",
            "_view_count": null,
            "_view_module": "@jupyter-widgets/base",
            "_view_module_version": "1.2.0",
            "_view_name": "LayoutView",
            "align_content": null,
            "align_items": null,
            "align_self": null,
            "border": null,
            "bottom": null,
            "display": null,
            "flex": null,
            "flex_flow": null,
            "grid_area": null,
            "grid_auto_columns": null,
            "grid_auto_flow": null,
            "grid_auto_rows": null,
            "grid_column": null,
            "grid_gap": null,
            "grid_row": null,
            "grid_template_areas": null,
            "grid_template_columns": null,
            "grid_template_rows": null,
            "height": null,
            "justify_content": null,
            "justify_items": null,
            "left": null,
            "margin": null,
            "max_height": null,
            "max_width": null,
            "min_height": null,
            "min_width": null,
            "object_fit": null,
            "object_position": null,
            "order": null,
            "overflow": null,
            "overflow_x": null,
            "overflow_y": null,
            "padding": null,
            "right": null,
            "top": null,
            "visibility": null,
            "width": null
          }
        },
        "64fb6619de8f45f98d13f61d1469ebf8": {
          "model_module": "@jupyter-widgets/controls",
          "model_name": "DescriptionStyleModel",
          "model_module_version": "1.5.0",
          "state": {
            "_model_module": "@jupyter-widgets/controls",
            "_model_module_version": "1.5.0",
            "_model_name": "DescriptionStyleModel",
            "_view_count": null,
            "_view_module": "@jupyter-widgets/base",
            "_view_module_version": "1.2.0",
            "_view_name": "StyleView",
            "description_width": ""
          }
        },
        "7332a02e50ef40a1a2bf3e8382aa8450": {
          "model_module": "@jupyter-widgets/base",
          "model_name": "LayoutModel",
          "model_module_version": "1.2.0",
          "state": {
            "_model_module": "@jupyter-widgets/base",
            "_model_module_version": "1.2.0",
            "_model_name": "LayoutModel",
            "_view_count": null,
            "_view_module": "@jupyter-widgets/base",
            "_view_module_version": "1.2.0",
            "_view_name": "LayoutView",
            "align_content": null,
            "align_items": null,
            "align_self": null,
            "border": null,
            "bottom": null,
            "display": null,
            "flex": null,
            "flex_flow": null,
            "grid_area": null,
            "grid_auto_columns": null,
            "grid_auto_flow": null,
            "grid_auto_rows": null,
            "grid_column": null,
            "grid_gap": null,
            "grid_row": null,
            "grid_template_areas": null,
            "grid_template_columns": null,
            "grid_template_rows": null,
            "height": null,
            "justify_content": null,
            "justify_items": null,
            "left": null,
            "margin": null,
            "max_height": null,
            "max_width": null,
            "min_height": null,
            "min_width": null,
            "object_fit": null,
            "object_position": null,
            "order": null,
            "overflow": null,
            "overflow_x": null,
            "overflow_y": null,
            "padding": null,
            "right": null,
            "top": null,
            "visibility": null,
            "width": null
          }
        },
        "9ca17e594e57492b9ace6eb221948ac7": {
          "model_module": "@jupyter-widgets/controls",
          "model_name": "ProgressStyleModel",
          "model_module_version": "1.5.0",
          "state": {
            "_model_module": "@jupyter-widgets/controls",
            "_model_module_version": "1.5.0",
            "_model_name": "ProgressStyleModel",
            "_view_count": null,
            "_view_module": "@jupyter-widgets/base",
            "_view_module_version": "1.2.0",
            "_view_name": "StyleView",
            "bar_color": null,
            "description_width": ""
          }
        },
        "38f325f1cd0c4f26b1ddba60301506d1": {
          "model_module": "@jupyter-widgets/base",
          "model_name": "LayoutModel",
          "model_module_version": "1.2.0",
          "state": {
            "_model_module": "@jupyter-widgets/base",
            "_model_module_version": "1.2.0",
            "_model_name": "LayoutModel",
            "_view_count": null,
            "_view_module": "@jupyter-widgets/base",
            "_view_module_version": "1.2.0",
            "_view_name": "LayoutView",
            "align_content": null,
            "align_items": null,
            "align_self": null,
            "border": null,
            "bottom": null,
            "display": null,
            "flex": null,
            "flex_flow": null,
            "grid_area": null,
            "grid_auto_columns": null,
            "grid_auto_flow": null,
            "grid_auto_rows": null,
            "grid_column": null,
            "grid_gap": null,
            "grid_row": null,
            "grid_template_areas": null,
            "grid_template_columns": null,
            "grid_template_rows": null,
            "height": null,
            "justify_content": null,
            "justify_items": null,
            "left": null,
            "margin": null,
            "max_height": null,
            "max_width": null,
            "min_height": null,
            "min_width": null,
            "object_fit": null,
            "object_position": null,
            "order": null,
            "overflow": null,
            "overflow_x": null,
            "overflow_y": null,
            "padding": null,
            "right": null,
            "top": null,
            "visibility": null,
            "width": null
          }
        },
        "43ce5bf27ee046b0a8372b1f533cd977": {
          "model_module": "@jupyter-widgets/controls",
          "model_name": "DescriptionStyleModel",
          "model_module_version": "1.5.0",
          "state": {
            "_model_module": "@jupyter-widgets/controls",
            "_model_module_version": "1.5.0",
            "_model_name": "DescriptionStyleModel",
            "_view_count": null,
            "_view_module": "@jupyter-widgets/base",
            "_view_module_version": "1.2.0",
            "_view_name": "StyleView",
            "description_width": ""
          }
        },
        "d7109d283b0247f9a3c7fbdaec269a0f": {
          "model_module": "@jupyter-widgets/controls",
          "model_name": "HBoxModel",
          "model_module_version": "1.5.0",
          "state": {
            "_dom_classes": [],
            "_model_module": "@jupyter-widgets/controls",
            "_model_module_version": "1.5.0",
            "_model_name": "HBoxModel",
            "_view_count": null,
            "_view_module": "@jupyter-widgets/controls",
            "_view_module_version": "1.5.0",
            "_view_name": "HBoxView",
            "box_style": "",
            "children": [
              "IPY_MODEL_89d60f335ce6488c811785f171e060c2",
              "IPY_MODEL_8c109773e5474193aac394f0fbcfc170",
              "IPY_MODEL_e02d6b8d9f294fa2a7fd91ad8d202e57"
            ],
            "layout": "IPY_MODEL_e81af6e4ac20413da7b7705dccd18a4d"
          }
        },
        "89d60f335ce6488c811785f171e060c2": {
          "model_module": "@jupyter-widgets/controls",
          "model_name": "HTMLModel",
          "model_module_version": "1.5.0",
          "state": {
            "_dom_classes": [],
            "_model_module": "@jupyter-widgets/controls",
            "_model_module_version": "1.5.0",
            "_model_name": "HTMLModel",
            "_view_count": null,
            "_view_module": "@jupyter-widgets/controls",
            "_view_module_version": "1.5.0",
            "_view_name": "HTMLView",
            "description": "",
            "description_tooltip": null,
            "layout": "IPY_MODEL_40c411f0b4bf4bf49b607c18fadf34b6",
            "placeholder": "​",
            "style": "IPY_MODEL_e145f3f2ad2342149fab5e204326a53a",
            "value": "Downloading data: 100%"
          }
        },
        "8c109773e5474193aac394f0fbcfc170": {
          "model_module": "@jupyter-widgets/controls",
          "model_name": "FloatProgressModel",
          "model_module_version": "1.5.0",
          "state": {
            "_dom_classes": [],
            "_model_module": "@jupyter-widgets/controls",
            "_model_module_version": "1.5.0",
            "_model_name": "FloatProgressModel",
            "_view_count": null,
            "_view_module": "@jupyter-widgets/controls",
            "_view_module_version": "1.5.0",
            "_view_name": "ProgressView",
            "bar_style": "success",
            "description": "",
            "description_tooltip": null,
            "layout": "IPY_MODEL_e41cbf3e26f24932b7ee1b7908e4244b",
            "max": 12009501,
            "min": 0,
            "orientation": "horizontal",
            "style": "IPY_MODEL_fd5dfd39cbbc4b779803948b0be55a48",
            "value": 12009501
          }
        },
        "e02d6b8d9f294fa2a7fd91ad8d202e57": {
          "model_module": "@jupyter-widgets/controls",
          "model_name": "HTMLModel",
          "model_module_version": "1.5.0",
          "state": {
            "_dom_classes": [],
            "_model_module": "@jupyter-widgets/controls",
            "_model_module_version": "1.5.0",
            "_model_name": "HTMLModel",
            "_view_count": null,
            "_view_module": "@jupyter-widgets/controls",
            "_view_module_version": "1.5.0",
            "_view_name": "HTMLView",
            "description": "",
            "description_tooltip": null,
            "layout": "IPY_MODEL_4caf1852f1f04842bbd3a58f632d00f3",
            "placeholder": "​",
            "style": "IPY_MODEL_8d5702f62e7c45e8915b914069159f97",
            "value": " 12.0M/12.0M [00:01&lt;00:00, 12.5MB/s]"
          }
        },
        "e81af6e4ac20413da7b7705dccd18a4d": {
          "model_module": "@jupyter-widgets/base",
          "model_name": "LayoutModel",
          "model_module_version": "1.2.0",
          "state": {
            "_model_module": "@jupyter-widgets/base",
            "_model_module_version": "1.2.0",
            "_model_name": "LayoutModel",
            "_view_count": null,
            "_view_module": "@jupyter-widgets/base",
            "_view_module_version": "1.2.0",
            "_view_name": "LayoutView",
            "align_content": null,
            "align_items": null,
            "align_self": null,
            "border": null,
            "bottom": null,
            "display": null,
            "flex": null,
            "flex_flow": null,
            "grid_area": null,
            "grid_auto_columns": null,
            "grid_auto_flow": null,
            "grid_auto_rows": null,
            "grid_column": null,
            "grid_gap": null,
            "grid_row": null,
            "grid_template_areas": null,
            "grid_template_columns": null,
            "grid_template_rows": null,
            "height": null,
            "justify_content": null,
            "justify_items": null,
            "left": null,
            "margin": null,
            "max_height": null,
            "max_width": null,
            "min_height": null,
            "min_width": null,
            "object_fit": null,
            "object_position": null,
            "order": null,
            "overflow": null,
            "overflow_x": null,
            "overflow_y": null,
            "padding": null,
            "right": null,
            "top": null,
            "visibility": null,
            "width": null
          }
        },
        "40c411f0b4bf4bf49b607c18fadf34b6": {
          "model_module": "@jupyter-widgets/base",
          "model_name": "LayoutModel",
          "model_module_version": "1.2.0",
          "state": {
            "_model_module": "@jupyter-widgets/base",
            "_model_module_version": "1.2.0",
            "_model_name": "LayoutModel",
            "_view_count": null,
            "_view_module": "@jupyter-widgets/base",
            "_view_module_version": "1.2.0",
            "_view_name": "LayoutView",
            "align_content": null,
            "align_items": null,
            "align_self": null,
            "border": null,
            "bottom": null,
            "display": null,
            "flex": null,
            "flex_flow": null,
            "grid_area": null,
            "grid_auto_columns": null,
            "grid_auto_flow": null,
            "grid_auto_rows": null,
            "grid_column": null,
            "grid_gap": null,
            "grid_row": null,
            "grid_template_areas": null,
            "grid_template_columns": null,
            "grid_template_rows": null,
            "height": null,
            "justify_content": null,
            "justify_items": null,
            "left": null,
            "margin": null,
            "max_height": null,
            "max_width": null,
            "min_height": null,
            "min_width": null,
            "object_fit": null,
            "object_position": null,
            "order": null,
            "overflow": null,
            "overflow_x": null,
            "overflow_y": null,
            "padding": null,
            "right": null,
            "top": null,
            "visibility": null,
            "width": null
          }
        },
        "e145f3f2ad2342149fab5e204326a53a": {
          "model_module": "@jupyter-widgets/controls",
          "model_name": "DescriptionStyleModel",
          "model_module_version": "1.5.0",
          "state": {
            "_model_module": "@jupyter-widgets/controls",
            "_model_module_version": "1.5.0",
            "_model_name": "DescriptionStyleModel",
            "_view_count": null,
            "_view_module": "@jupyter-widgets/base",
            "_view_module_version": "1.2.0",
            "_view_name": "StyleView",
            "description_width": ""
          }
        },
        "e41cbf3e26f24932b7ee1b7908e4244b": {
          "model_module": "@jupyter-widgets/base",
          "model_name": "LayoutModel",
          "model_module_version": "1.2.0",
          "state": {
            "_model_module": "@jupyter-widgets/base",
            "_model_module_version": "1.2.0",
            "_model_name": "LayoutModel",
            "_view_count": null,
            "_view_module": "@jupyter-widgets/base",
            "_view_module_version": "1.2.0",
            "_view_name": "LayoutView",
            "align_content": null,
            "align_items": null,
            "align_self": null,
            "border": null,
            "bottom": null,
            "display": null,
            "flex": null,
            "flex_flow": null,
            "grid_area": null,
            "grid_auto_columns": null,
            "grid_auto_flow": null,
            "grid_auto_rows": null,
            "grid_column": null,
            "grid_gap": null,
            "grid_row": null,
            "grid_template_areas": null,
            "grid_template_columns": null,
            "grid_template_rows": null,
            "height": null,
            "justify_content": null,
            "justify_items": null,
            "left": null,
            "margin": null,
            "max_height": null,
            "max_width": null,
            "min_height": null,
            "min_width": null,
            "object_fit": null,
            "object_position": null,
            "order": null,
            "overflow": null,
            "overflow_x": null,
            "overflow_y": null,
            "padding": null,
            "right": null,
            "top": null,
            "visibility": null,
            "width": null
          }
        },
        "fd5dfd39cbbc4b779803948b0be55a48": {
          "model_module": "@jupyter-widgets/controls",
          "model_name": "ProgressStyleModel",
          "model_module_version": "1.5.0",
          "state": {
            "_model_module": "@jupyter-widgets/controls",
            "_model_module_version": "1.5.0",
            "_model_name": "ProgressStyleModel",
            "_view_count": null,
            "_view_module": "@jupyter-widgets/base",
            "_view_module_version": "1.2.0",
            "_view_name": "StyleView",
            "bar_color": null,
            "description_width": ""
          }
        },
        "4caf1852f1f04842bbd3a58f632d00f3": {
          "model_module": "@jupyter-widgets/base",
          "model_name": "LayoutModel",
          "model_module_version": "1.2.0",
          "state": {
            "_model_module": "@jupyter-widgets/base",
            "_model_module_version": "1.2.0",
            "_model_name": "LayoutModel",
            "_view_count": null,
            "_view_module": "@jupyter-widgets/base",
            "_view_module_version": "1.2.0",
            "_view_name": "LayoutView",
            "align_content": null,
            "align_items": null,
            "align_self": null,
            "border": null,
            "bottom": null,
            "display": null,
            "flex": null,
            "flex_flow": null,
            "grid_area": null,
            "grid_auto_columns": null,
            "grid_auto_flow": null,
            "grid_auto_rows": null,
            "grid_column": null,
            "grid_gap": null,
            "grid_row": null,
            "grid_template_areas": null,
            "grid_template_columns": null,
            "grid_template_rows": null,
            "height": null,
            "justify_content": null,
            "justify_items": null,
            "left": null,
            "margin": null,
            "max_height": null,
            "max_width": null,
            "min_height": null,
            "min_width": null,
            "object_fit": null,
            "object_position": null,
            "order": null,
            "overflow": null,
            "overflow_x": null,
            "overflow_y": null,
            "padding": null,
            "right": null,
            "top": null,
            "visibility": null,
            "width": null
          }
        },
        "8d5702f62e7c45e8915b914069159f97": {
          "model_module": "@jupyter-widgets/controls",
          "model_name": "DescriptionStyleModel",
          "model_module_version": "1.5.0",
          "state": {
            "_model_module": "@jupyter-widgets/controls",
            "_model_module_version": "1.5.0",
            "_model_name": "DescriptionStyleModel",
            "_view_count": null,
            "_view_module": "@jupyter-widgets/base",
            "_view_module_version": "1.2.0",
            "_view_name": "StyleView",
            "description_width": ""
          }
        },
        "347ead590b1a46dd9d7d811b2d88330b": {
          "model_module": "@jupyter-widgets/controls",
          "model_name": "HBoxModel",
          "model_module_version": "1.5.0",
          "state": {
            "_dom_classes": [],
            "_model_module": "@jupyter-widgets/controls",
            "_model_module_version": "1.5.0",
            "_model_name": "HBoxModel",
            "_view_count": null,
            "_view_module": "@jupyter-widgets/controls",
            "_view_module_version": "1.5.0",
            "_view_name": "HBoxView",
            "box_style": "",
            "children": [
              "IPY_MODEL_38a161817f9d45bc91c86690d73c2252",
              "IPY_MODEL_5bb95353317943e1a685ac082cf4dd4d",
              "IPY_MODEL_544f69ebd57e48289685723dc0c49f9d"
            ],
            "layout": "IPY_MODEL_f57b1e28fb4943d9bb3ae6c203f0135c"
          }
        },
        "38a161817f9d45bc91c86690d73c2252": {
          "model_module": "@jupyter-widgets/controls",
          "model_name": "HTMLModel",
          "model_module_version": "1.5.0",
          "state": {
            "_dom_classes": [],
            "_model_module": "@jupyter-widgets/controls",
            "_model_module_version": "1.5.0",
            "_model_name": "HTMLModel",
            "_view_count": null,
            "_view_module": "@jupyter-widgets/controls",
            "_view_module_version": "1.5.0",
            "_view_name": "HTMLView",
            "description": "",
            "description_tooltip": null,
            "layout": "IPY_MODEL_29356297a6914e40bd9adb77eadb33ff",
            "placeholder": "​",
            "style": "IPY_MODEL_fe8b2d613d1b4037aa8dfba716b7b2c4",
            "value": "Generating train split: 100%"
          }
        },
        "5bb95353317943e1a685ac082cf4dd4d": {
          "model_module": "@jupyter-widgets/controls",
          "model_name": "FloatProgressModel",
          "model_module_version": "1.5.0",
          "state": {
            "_dom_classes": [],
            "_model_module": "@jupyter-widgets/controls",
            "_model_module_version": "1.5.0",
            "_model_name": "FloatProgressModel",
            "_view_count": null,
            "_view_module": "@jupyter-widgets/controls",
            "_view_module_version": "1.5.0",
            "_view_name": "ProgressView",
            "bar_style": "success",
            "description": "",
            "description_tooltip": null,
            "layout": "IPY_MODEL_3f5ecfe3438c43599612829669e58a14",
            "max": 127085,
            "min": 0,
            "orientation": "horizontal",
            "style": "IPY_MODEL_2a45cccc9bf84e849f86878efa826bb9",
            "value": 127085
          }
        },
        "544f69ebd57e48289685723dc0c49f9d": {
          "model_module": "@jupyter-widgets/controls",
          "model_name": "HTMLModel",
          "model_module_version": "1.5.0",
          "state": {
            "_dom_classes": [],
            "_model_module": "@jupyter-widgets/controls",
            "_model_module_version": "1.5.0",
            "_model_name": "HTMLModel",
            "_view_count": null,
            "_view_module": "@jupyter-widgets/controls",
            "_view_module_version": "1.5.0",
            "_view_name": "HTMLView",
            "description": "",
            "description_tooltip": null,
            "layout": "IPY_MODEL_a6aedec4a6fa46f18b0c399979ba89f1",
            "placeholder": "​",
            "style": "IPY_MODEL_47a0b3eac2884f67b84d7fd041b9788e",
            "value": " 127085/127085 [00:09&lt;00:00, 23454.61 examples/s]"
          }
        },
        "f57b1e28fb4943d9bb3ae6c203f0135c": {
          "model_module": "@jupyter-widgets/base",
          "model_name": "LayoutModel",
          "model_module_version": "1.2.0",
          "state": {
            "_model_module": "@jupyter-widgets/base",
            "_model_module_version": "1.2.0",
            "_model_name": "LayoutModel",
            "_view_count": null,
            "_view_module": "@jupyter-widgets/base",
            "_view_module_version": "1.2.0",
            "_view_name": "LayoutView",
            "align_content": null,
            "align_items": null,
            "align_self": null,
            "border": null,
            "bottom": null,
            "display": null,
            "flex": null,
            "flex_flow": null,
            "grid_area": null,
            "grid_auto_columns": null,
            "grid_auto_flow": null,
            "grid_auto_rows": null,
            "grid_column": null,
            "grid_gap": null,
            "grid_row": null,
            "grid_template_areas": null,
            "grid_template_columns": null,
            "grid_template_rows": null,
            "height": null,
            "justify_content": null,
            "justify_items": null,
            "left": null,
            "margin": null,
            "max_height": null,
            "max_width": null,
            "min_height": null,
            "min_width": null,
            "object_fit": null,
            "object_position": null,
            "order": null,
            "overflow": null,
            "overflow_x": null,
            "overflow_y": null,
            "padding": null,
            "right": null,
            "top": null,
            "visibility": null,
            "width": null
          }
        },
        "29356297a6914e40bd9adb77eadb33ff": {
          "model_module": "@jupyter-widgets/base",
          "model_name": "LayoutModel",
          "model_module_version": "1.2.0",
          "state": {
            "_model_module": "@jupyter-widgets/base",
            "_model_module_version": "1.2.0",
            "_model_name": "LayoutModel",
            "_view_count": null,
            "_view_module": "@jupyter-widgets/base",
            "_view_module_version": "1.2.0",
            "_view_name": "LayoutView",
            "align_content": null,
            "align_items": null,
            "align_self": null,
            "border": null,
            "bottom": null,
            "display": null,
            "flex": null,
            "flex_flow": null,
            "grid_area": null,
            "grid_auto_columns": null,
            "grid_auto_flow": null,
            "grid_auto_rows": null,
            "grid_column": null,
            "grid_gap": null,
            "grid_row": null,
            "grid_template_areas": null,
            "grid_template_columns": null,
            "grid_template_rows": null,
            "height": null,
            "justify_content": null,
            "justify_items": null,
            "left": null,
            "margin": null,
            "max_height": null,
            "max_width": null,
            "min_height": null,
            "min_width": null,
            "object_fit": null,
            "object_position": null,
            "order": null,
            "overflow": null,
            "overflow_x": null,
            "overflow_y": null,
            "padding": null,
            "right": null,
            "top": null,
            "visibility": null,
            "width": null
          }
        },
        "fe8b2d613d1b4037aa8dfba716b7b2c4": {
          "model_module": "@jupyter-widgets/controls",
          "model_name": "DescriptionStyleModel",
          "model_module_version": "1.5.0",
          "state": {
            "_model_module": "@jupyter-widgets/controls",
            "_model_module_version": "1.5.0",
            "_model_name": "DescriptionStyleModel",
            "_view_count": null,
            "_view_module": "@jupyter-widgets/base",
            "_view_module_version": "1.2.0",
            "_view_name": "StyleView",
            "description_width": ""
          }
        },
        "3f5ecfe3438c43599612829669e58a14": {
          "model_module": "@jupyter-widgets/base",
          "model_name": "LayoutModel",
          "model_module_version": "1.2.0",
          "state": {
            "_model_module": "@jupyter-widgets/base",
            "_model_module_version": "1.2.0",
            "_model_name": "LayoutModel",
            "_view_count": null,
            "_view_module": "@jupyter-widgets/base",
            "_view_module_version": "1.2.0",
            "_view_name": "LayoutView",
            "align_content": null,
            "align_items": null,
            "align_self": null,
            "border": null,
            "bottom": null,
            "display": null,
            "flex": null,
            "flex_flow": null,
            "grid_area": null,
            "grid_auto_columns": null,
            "grid_auto_flow": null,
            "grid_auto_rows": null,
            "grid_column": null,
            "grid_gap": null,
            "grid_row": null,
            "grid_template_areas": null,
            "grid_template_columns": null,
            "grid_template_rows": null,
            "height": null,
            "justify_content": null,
            "justify_items": null,
            "left": null,
            "margin": null,
            "max_height": null,
            "max_width": null,
            "min_height": null,
            "min_width": null,
            "object_fit": null,
            "object_position": null,
            "order": null,
            "overflow": null,
            "overflow_x": null,
            "overflow_y": null,
            "padding": null,
            "right": null,
            "top": null,
            "visibility": null,
            "width": null
          }
        },
        "2a45cccc9bf84e849f86878efa826bb9": {
          "model_module": "@jupyter-widgets/controls",
          "model_name": "ProgressStyleModel",
          "model_module_version": "1.5.0",
          "state": {
            "_model_module": "@jupyter-widgets/controls",
            "_model_module_version": "1.5.0",
            "_model_name": "ProgressStyleModel",
            "_view_count": null,
            "_view_module": "@jupyter-widgets/base",
            "_view_module_version": "1.2.0",
            "_view_name": "StyleView",
            "bar_color": null,
            "description_width": ""
          }
        },
        "a6aedec4a6fa46f18b0c399979ba89f1": {
          "model_module": "@jupyter-widgets/base",
          "model_name": "LayoutModel",
          "model_module_version": "1.2.0",
          "state": {
            "_model_module": "@jupyter-widgets/base",
            "_model_module_version": "1.2.0",
            "_model_name": "LayoutModel",
            "_view_count": null,
            "_view_module": "@jupyter-widgets/base",
            "_view_module_version": "1.2.0",
            "_view_name": "LayoutView",
            "align_content": null,
            "align_items": null,
            "align_self": null,
            "border": null,
            "bottom": null,
            "display": null,
            "flex": null,
            "flex_flow": null,
            "grid_area": null,
            "grid_auto_columns": null,
            "grid_auto_flow": null,
            "grid_auto_rows": null,
            "grid_column": null,
            "grid_gap": null,
            "grid_row": null,
            "grid_template_areas": null,
            "grid_template_columns": null,
            "grid_template_rows": null,
            "height": null,
            "justify_content": null,
            "justify_items": null,
            "left": null,
            "margin": null,
            "max_height": null,
            "max_width": null,
            "min_height": null,
            "min_width": null,
            "object_fit": null,
            "object_position": null,
            "order": null,
            "overflow": null,
            "overflow_x": null,
            "overflow_y": null,
            "padding": null,
            "right": null,
            "top": null,
            "visibility": null,
            "width": null
          }
        },
        "47a0b3eac2884f67b84d7fd041b9788e": {
          "model_module": "@jupyter-widgets/controls",
          "model_name": "DescriptionStyleModel",
          "model_module_version": "1.5.0",
          "state": {
            "_model_module": "@jupyter-widgets/controls",
            "_model_module_version": "1.5.0",
            "_model_name": "DescriptionStyleModel",
            "_view_count": null,
            "_view_module": "@jupyter-widgets/base",
            "_view_module_version": "1.2.0",
            "_view_name": "StyleView",
            "description_width": ""
          }
        }
      }
    },
    "accelerator": "GPU"
  },
  "cells": [
    {
      "cell_type": "markdown",
      "metadata": {
        "id": "view-in-github",
        "colab_type": "text"
      },
      "source": [
        "<a href=\"https://colab.research.google.com/github/durml91/Personal/blob/main/Transformer_implementation_III%20-%20New%20features.ipynb\" target=\"_parent\"><img src=\"https://colab.research.google.com/assets/colab-badge.svg\" alt=\"Open In Colab\"/></a>"
      ]
    },
    {
      "cell_type": "markdown",
      "source": [
        "# **Basic Transformer (Encoder-Decoder) Implementation**"
      ],
      "metadata": {
        "id": "E0Fb9_WFlx9S"
      }
    },
    {
      "cell_type": "markdown",
      "source": [
        "## Installs and Imports"
      ],
      "metadata": {
        "id": "DTp1uP3Bl8mk"
      }
    },
    {
      "cell_type": "markdown",
      "source": [
        "*Nvidia CUDA version check*"
      ],
      "metadata": {
        "id": "Nnep2ZGcgnGC"
      }
    },
    {
      "cell_type": "code",
      "source": [
        "# !nvcc --version\n",
        "# !cat /usr/local/cuda/version.txt\n",
        "# !cat /usr/include/x86_64-linux-gnu/cudnn_v*.h | grep CUDNN_MAJOR -A 2"
      ],
      "metadata": {
        "id": "sPV3QWxdc3kH"
      },
      "execution_count": null,
      "outputs": []
    },
    {
      "cell_type": "markdown",
      "source": [
        "**Install datasets before updating JAX**"
      ],
      "metadata": {
        "id": "1SmdbV4FmBYA"
      }
    },
    {
      "cell_type": "code",
      "source": [
        "!pip install datasets[jax]\n",
        "!pip install tokenizers\n",
        "!pip install transformers\n",
        "!pip install einops\n",
        "!pip install equinox\n",
        "!pip install torchmetrics"
      ],
      "metadata": {
        "id": "AtfVbSgemT53",
        "colab": {
          "base_uri": "https://localhost:8080/"
        },
        "outputId": "21077768-b877-408f-8891-37f43b6394f3"
      },
      "execution_count": 1,
      "outputs": [
        {
          "output_type": "stream",
          "name": "stdout",
          "text": [
            "Collecting datasets[jax]\n",
            "  Downloading datasets-2.14.0-py3-none-any.whl (492 kB)\n",
            "\u001b[2K     \u001b[90m━━━━━━━━━━━━━━━━━━━━━━━━━━━━━━━━━━━━━━━\u001b[0m \u001b[32m492.2/492.2 kB\u001b[0m \u001b[31m5.6 MB/s\u001b[0m eta \u001b[36m0:00:00\u001b[0m\n",
            "\u001b[?25hRequirement already satisfied: numpy>=1.17 in /usr/local/lib/python3.10/dist-packages (from datasets[jax]) (1.22.4)\n",
            "Requirement already satisfied: pyarrow>=8.0.0 in /usr/local/lib/python3.10/dist-packages (from datasets[jax]) (9.0.0)\n",
            "Collecting dill<0.3.8,>=0.3.0 (from datasets[jax])\n",
            "  Downloading dill-0.3.7-py3-none-any.whl (115 kB)\n",
            "\u001b[2K     \u001b[90m━━━━━━━━━━━━━━━━━━━━━━━━━━━━━━━━━━━━━━\u001b[0m \u001b[32m115.3/115.3 kB\u001b[0m \u001b[31m10.1 MB/s\u001b[0m eta \u001b[36m0:00:00\u001b[0m\n",
            "\u001b[?25hRequirement already satisfied: pandas in /usr/local/lib/python3.10/dist-packages (from datasets[jax]) (1.5.3)\n",
            "Requirement already satisfied: requests>=2.19.0 in /usr/local/lib/python3.10/dist-packages (from datasets[jax]) (2.27.1)\n",
            "Requirement already satisfied: tqdm>=4.62.1 in /usr/local/lib/python3.10/dist-packages (from datasets[jax]) (4.65.0)\n",
            "Collecting xxhash (from datasets[jax])\n",
            "  Downloading xxhash-3.2.0-cp310-cp310-manylinux_2_17_x86_64.manylinux2014_x86_64.whl (212 kB)\n",
            "\u001b[2K     \u001b[90m━━━━━━━━━━━━━━━━━━━━━━━━━━━━━━━━━━━━━━━\u001b[0m \u001b[32m212.5/212.5 kB\u001b[0m \u001b[31m7.7 MB/s\u001b[0m eta \u001b[36m0:00:00\u001b[0m\n",
            "\u001b[?25hCollecting multiprocess (from datasets[jax])\n",
            "  Downloading multiprocess-0.70.15-py310-none-any.whl (134 kB)\n",
            "\u001b[2K     \u001b[90m━━━━━━━━━━━━━━━━━━━━━━━━━━━━━━━━━━━━━━\u001b[0m \u001b[32m134.8/134.8 kB\u001b[0m \u001b[31m11.2 MB/s\u001b[0m eta \u001b[36m0:00:00\u001b[0m\n",
            "\u001b[?25hRequirement already satisfied: fsspec[http]>=2021.11.1 in /usr/local/lib/python3.10/dist-packages (from datasets[jax]) (2023.6.0)\n",
            "Requirement already satisfied: aiohttp in /usr/local/lib/python3.10/dist-packages (from datasets[jax]) (3.8.4)\n",
            "Collecting huggingface-hub<1.0.0,>=0.14.0 (from datasets[jax])\n",
            "  Downloading huggingface_hub-0.16.4-py3-none-any.whl (268 kB)\n",
            "\u001b[2K     \u001b[90m━━━━━━━━━━━━━━━━━━━━━━━━━━━━━━━━━━━━━━━\u001b[0m \u001b[32m268.8/268.8 kB\u001b[0m \u001b[31m9.8 MB/s\u001b[0m eta \u001b[36m0:00:00\u001b[0m\n",
            "\u001b[?25hRequirement already satisfied: packaging in /usr/local/lib/python3.10/dist-packages (from datasets[jax]) (23.1)\n",
            "Requirement already satisfied: pyyaml>=5.1 in /usr/local/lib/python3.10/dist-packages (from datasets[jax]) (6.0.1)\n",
            "Collecting jax!=0.3.2,<=0.3.25,>=0.2.8 (from datasets[jax])\n",
            "  Downloading jax-0.3.25.tar.gz (1.1 MB)\n",
            "\u001b[2K     \u001b[90m━━━━━━━━━━━━━━━━━━━━━━━━━━━━━━━━━━━━━━━━\u001b[0m \u001b[32m1.1/1.1 MB\u001b[0m \u001b[31m12.9 MB/s\u001b[0m eta \u001b[36m0:00:00\u001b[0m\n",
            "\u001b[?25h  Preparing metadata (setup.py) ... \u001b[?25l\u001b[?25hdone\n",
            "Collecting jaxlib<=0.3.25,>=0.1.65 (from datasets[jax])\n",
            "  Downloading jaxlib-0.3.25-cp310-cp310-manylinux2014_x86_64.whl (71.2 MB)\n",
            "\u001b[2K     \u001b[90m━━━━━━━━━━━━━━━━━━━━━━━━━━━━━━━━━━━━━━━━\u001b[0m \u001b[32m71.2/71.2 MB\u001b[0m \u001b[31m14.4 MB/s\u001b[0m eta \u001b[36m0:00:00\u001b[0m\n",
            "\u001b[?25hRequirement already satisfied: attrs>=17.3.0 in /usr/local/lib/python3.10/dist-packages (from aiohttp->datasets[jax]) (23.1.0)\n",
            "Requirement already satisfied: charset-normalizer<4.0,>=2.0 in /usr/local/lib/python3.10/dist-packages (from aiohttp->datasets[jax]) (2.0.12)\n",
            "Requirement already satisfied: multidict<7.0,>=4.5 in /usr/local/lib/python3.10/dist-packages (from aiohttp->datasets[jax]) (6.0.4)\n",
            "Requirement already satisfied: async-timeout<5.0,>=4.0.0a3 in /usr/local/lib/python3.10/dist-packages (from aiohttp->datasets[jax]) (4.0.2)\n",
            "Requirement already satisfied: yarl<2.0,>=1.0 in /usr/local/lib/python3.10/dist-packages (from aiohttp->datasets[jax]) (1.9.2)\n",
            "Requirement already satisfied: frozenlist>=1.1.1 in /usr/local/lib/python3.10/dist-packages (from aiohttp->datasets[jax]) (1.4.0)\n",
            "Requirement already satisfied: aiosignal>=1.1.2 in /usr/local/lib/python3.10/dist-packages (from aiohttp->datasets[jax]) (1.3.1)\n",
            "Requirement already satisfied: filelock in /usr/local/lib/python3.10/dist-packages (from huggingface-hub<1.0.0,>=0.14.0->datasets[jax]) (3.12.2)\n",
            "Requirement already satisfied: typing-extensions>=3.7.4.3 in /usr/local/lib/python3.10/dist-packages (from huggingface-hub<1.0.0,>=0.14.0->datasets[jax]) (4.7.1)\n",
            "Requirement already satisfied: opt_einsum in /usr/local/lib/python3.10/dist-packages (from jax!=0.3.2,<=0.3.25,>=0.2.8->datasets[jax]) (3.3.0)\n",
            "Requirement already satisfied: scipy>=1.5 in /usr/local/lib/python3.10/dist-packages (from jax!=0.3.2,<=0.3.25,>=0.2.8->datasets[jax]) (1.10.1)\n",
            "Requirement already satisfied: urllib3<1.27,>=1.21.1 in /usr/local/lib/python3.10/dist-packages (from requests>=2.19.0->datasets[jax]) (1.26.16)\n",
            "Requirement already satisfied: certifi>=2017.4.17 in /usr/local/lib/python3.10/dist-packages (from requests>=2.19.0->datasets[jax]) (2023.5.7)\n",
            "Requirement already satisfied: idna<4,>=2.5 in /usr/local/lib/python3.10/dist-packages (from requests>=2.19.0->datasets[jax]) (3.4)\n",
            "Requirement already satisfied: python-dateutil>=2.8.1 in /usr/local/lib/python3.10/dist-packages (from pandas->datasets[jax]) (2.8.2)\n",
            "Requirement already satisfied: pytz>=2020.1 in /usr/local/lib/python3.10/dist-packages (from pandas->datasets[jax]) (2022.7.1)\n",
            "Requirement already satisfied: six>=1.5 in /usr/local/lib/python3.10/dist-packages (from python-dateutil>=2.8.1->pandas->datasets[jax]) (1.16.0)\n",
            "Building wheels for collected packages: jax\n",
            "  Building wheel for jax (setup.py) ... \u001b[?25l\u001b[?25hdone\n",
            "  Created wheel for jax: filename=jax-0.3.25-py3-none-any.whl size=1308495 sha256=5b9caa8c62e408497e9a8e44ff22a41024487ed4f75a54ec85167bc2813b8804\n",
            "  Stored in directory: /root/.cache/pip/wheels/41/0b/45/1acffcaf4c863a6d0d0e910e56ae6502ca8d16300e39e1dab2\n",
            "Successfully built jax\n",
            "Installing collected packages: xxhash, dill, multiprocess, jaxlib, jax, huggingface-hub, datasets\n",
            "  Attempting uninstall: jaxlib\n",
            "    Found existing installation: jaxlib 0.4.13+cuda11.cudnn86\n",
            "    Uninstalling jaxlib-0.4.13+cuda11.cudnn86:\n",
            "      Successfully uninstalled jaxlib-0.4.13+cuda11.cudnn86\n",
            "  Attempting uninstall: jax\n",
            "    Found existing installation: jax 0.4.13\n",
            "    Uninstalling jax-0.4.13:\n",
            "      Successfully uninstalled jax-0.4.13\n",
            "\u001b[31mERROR: pip's dependency resolver does not currently take into account all the packages that are installed. This behaviour is the source of the following dependency conflicts.\n",
            "chex 0.1.7 requires jax>=0.4.6, but you have jax 0.3.25 which is incompatible.\n",
            "flax 0.7.0 requires jax>=0.4.2, but you have jax 0.3.25 which is incompatible.\n",
            "orbax-checkpoint 0.2.7 requires jax>=0.4.9, but you have jax 0.3.25 which is incompatible.\u001b[0m\u001b[31m\n",
            "\u001b[0mSuccessfully installed datasets-2.14.0 dill-0.3.7 huggingface-hub-0.16.4 jax-0.3.25 jaxlib-0.3.25 multiprocess-0.70.15 xxhash-3.2.0\n",
            "Collecting tokenizers\n",
            "  Downloading tokenizers-0.13.3-cp310-cp310-manylinux_2_17_x86_64.manylinux2014_x86_64.whl (7.8 MB)\n",
            "\u001b[2K     \u001b[90m━━━━━━━━━━━━━━━━━━━━━━━━━━━━━━━━━━━━━━━━\u001b[0m \u001b[32m7.8/7.8 MB\u001b[0m \u001b[31m16.3 MB/s\u001b[0m eta \u001b[36m0:00:00\u001b[0m\n",
            "\u001b[?25hInstalling collected packages: tokenizers\n",
            "Successfully installed tokenizers-0.13.3\n",
            "Collecting transformers\n",
            "  Downloading transformers-4.31.0-py3-none-any.whl (7.4 MB)\n",
            "\u001b[2K     \u001b[90m━━━━━━━━━━━━━━━━━━━━━━━━━━━━━━━━━━━━━━━━\u001b[0m \u001b[32m7.4/7.4 MB\u001b[0m \u001b[31m17.5 MB/s\u001b[0m eta \u001b[36m0:00:00\u001b[0m\n",
            "\u001b[?25hRequirement already satisfied: filelock in /usr/local/lib/python3.10/dist-packages (from transformers) (3.12.2)\n",
            "Requirement already satisfied: huggingface-hub<1.0,>=0.14.1 in /usr/local/lib/python3.10/dist-packages (from transformers) (0.16.4)\n",
            "Requirement already satisfied: numpy>=1.17 in /usr/local/lib/python3.10/dist-packages (from transformers) (1.22.4)\n",
            "Requirement already satisfied: packaging>=20.0 in /usr/local/lib/python3.10/dist-packages (from transformers) (23.1)\n",
            "Requirement already satisfied: pyyaml>=5.1 in /usr/local/lib/python3.10/dist-packages (from transformers) (6.0.1)\n",
            "Requirement already satisfied: regex!=2019.12.17 in /usr/local/lib/python3.10/dist-packages (from transformers) (2022.10.31)\n",
            "Requirement already satisfied: requests in /usr/local/lib/python3.10/dist-packages (from transformers) (2.27.1)\n",
            "Requirement already satisfied: tokenizers!=0.11.3,<0.14,>=0.11.1 in /usr/local/lib/python3.10/dist-packages (from transformers) (0.13.3)\n",
            "Collecting safetensors>=0.3.1 (from transformers)\n",
            "  Downloading safetensors-0.3.1-cp310-cp310-manylinux_2_17_x86_64.manylinux2014_x86_64.whl (1.3 MB)\n",
            "\u001b[2K     \u001b[90m━━━━━━━━━━━━━━━━━━━━━━━━━━━━━━━━━━━━━━━━\u001b[0m \u001b[32m1.3/1.3 MB\u001b[0m \u001b[31m33.5 MB/s\u001b[0m eta \u001b[36m0:00:00\u001b[0m\n",
            "\u001b[?25hRequirement already satisfied: tqdm>=4.27 in /usr/local/lib/python3.10/dist-packages (from transformers) (4.65.0)\n",
            "Requirement already satisfied: fsspec in /usr/local/lib/python3.10/dist-packages (from huggingface-hub<1.0,>=0.14.1->transformers) (2023.6.0)\n",
            "Requirement already satisfied: typing-extensions>=3.7.4.3 in /usr/local/lib/python3.10/dist-packages (from huggingface-hub<1.0,>=0.14.1->transformers) (4.7.1)\n",
            "Requirement already satisfied: urllib3<1.27,>=1.21.1 in /usr/local/lib/python3.10/dist-packages (from requests->transformers) (1.26.16)\n",
            "Requirement already satisfied: certifi>=2017.4.17 in /usr/local/lib/python3.10/dist-packages (from requests->transformers) (2023.5.7)\n",
            "Requirement already satisfied: charset-normalizer~=2.0.0 in /usr/local/lib/python3.10/dist-packages (from requests->transformers) (2.0.12)\n",
            "Requirement already satisfied: idna<4,>=2.5 in /usr/local/lib/python3.10/dist-packages (from requests->transformers) (3.4)\n",
            "Installing collected packages: safetensors, transformers\n",
            "Successfully installed safetensors-0.3.1 transformers-4.31.0\n",
            "Collecting einops\n",
            "  Downloading einops-0.6.1-py3-none-any.whl (42 kB)\n",
            "\u001b[2K     \u001b[90m━━━━━━━━━━━━━━━━━━━━━━━━━━━━━━━━━━━━━━━━\u001b[0m \u001b[32m42.2/42.2 kB\u001b[0m \u001b[31m1.3 MB/s\u001b[0m eta \u001b[36m0:00:00\u001b[0m\n",
            "\u001b[?25hInstalling collected packages: einops\n",
            "Successfully installed einops-0.6.1\n",
            "Collecting equinox\n",
            "  Downloading equinox-0.10.11-py3-none-any.whl (137 kB)\n",
            "\u001b[2K     \u001b[90m━━━━━━━━━━━━━━━━━━━━━━━━━━━━━━━━━━━━━━━\u001b[0m \u001b[32m137.1/137.1 kB\u001b[0m \u001b[31m3.1 MB/s\u001b[0m eta \u001b[36m0:00:00\u001b[0m\n",
            "\u001b[?25hCollecting jax>=0.4.13 (from equinox)\n",
            "  Downloading jax-0.4.13.tar.gz (1.3 MB)\n",
            "\u001b[2K     \u001b[90m━━━━━━━━━━━━━━━━━━━━━━━━━━━━━━━━━━━━━━━━\u001b[0m \u001b[32m1.3/1.3 MB\u001b[0m \u001b[31m10.3 MB/s\u001b[0m eta \u001b[36m0:00:00\u001b[0m\n",
            "\u001b[?25h  Installing build dependencies ... \u001b[?25l\u001b[?25hdone\n",
            "  Getting requirements to build wheel ... \u001b[?25l\u001b[?25hdone\n",
            "  Preparing metadata (pyproject.toml) ... \u001b[?25l\u001b[?25hdone\n",
            "Collecting jaxtyping>=0.2.20 (from equinox)\n",
            "  Downloading jaxtyping-0.2.20-py3-none-any.whl (24 kB)\n",
            "Requirement already satisfied: typing-extensions>=4.5.0 in /usr/local/lib/python3.10/dist-packages (from equinox) (4.7.1)\n",
            "Requirement already satisfied: ml-dtypes>=0.1.0 in /usr/local/lib/python3.10/dist-packages (from jax>=0.4.13->equinox) (0.2.0)\n",
            "Requirement already satisfied: numpy>=1.21 in /usr/local/lib/python3.10/dist-packages (from jax>=0.4.13->equinox) (1.22.4)\n",
            "Requirement already satisfied: opt-einsum in /usr/local/lib/python3.10/dist-packages (from jax>=0.4.13->equinox) (3.3.0)\n",
            "Requirement already satisfied: scipy>=1.7 in /usr/local/lib/python3.10/dist-packages (from jax>=0.4.13->equinox) (1.10.1)\n",
            "Collecting typeguard>=2.13.3 (from jaxtyping>=0.2.20->equinox)\n",
            "  Downloading typeguard-4.0.0-py3-none-any.whl (33 kB)\n",
            "Building wheels for collected packages: jax\n",
            "  Building wheel for jax (pyproject.toml) ... \u001b[?25l\u001b[?25hdone\n",
            "  Created wheel for jax: filename=jax-0.4.13-py3-none-any.whl size=1518708 sha256=04a27907c3a1d140dc6375a2f8b33a4066ddc459df17a86abdadfa8cca07470d\n",
            "  Stored in directory: /root/.cache/pip/wheels/f3/7a/25/f297f69029b5e4064e4736a0c4b3996a44cc27781c120bcb99\n",
            "Successfully built jax\n",
            "Installing collected packages: typeguard, jaxtyping, jax, equinox\n",
            "  Attempting uninstall: jax\n",
            "    Found existing installation: jax 0.3.25\n",
            "    Uninstalling jax-0.3.25:\n",
            "      Successfully uninstalled jax-0.3.25\n",
            "Successfully installed equinox-0.10.11 jax-0.4.13 jaxtyping-0.2.20 typeguard-4.0.0\n",
            "Collecting torchmetrics\n",
            "  Downloading torchmetrics-1.0.1-py3-none-any.whl (729 kB)\n",
            "\u001b[2K     \u001b[90m━━━━━━━━━━━━━━━━━━━━━━━━━━━━━━━━━━━━━━━\u001b[0m \u001b[32m729.2/729.2 kB\u001b[0m \u001b[31m6.8 MB/s\u001b[0m eta \u001b[36m0:00:00\u001b[0m\n",
            "\u001b[?25hRequirement already satisfied: numpy>1.20.0 in /usr/local/lib/python3.10/dist-packages (from torchmetrics) (1.22.4)\n",
            "Requirement already satisfied: torch>=1.8.1 in /usr/local/lib/python3.10/dist-packages (from torchmetrics) (2.0.1+cu118)\n",
            "Requirement already satisfied: packaging in /usr/local/lib/python3.10/dist-packages (from torchmetrics) (23.1)\n",
            "Collecting lightning-utilities>=0.7.0 (from torchmetrics)\n",
            "  Downloading lightning_utilities-0.9.0-py3-none-any.whl (23 kB)\n",
            "Requirement already satisfied: typing-extensions in /usr/local/lib/python3.10/dist-packages (from lightning-utilities>=0.7.0->torchmetrics) (4.7.1)\n",
            "Requirement already satisfied: filelock in /usr/local/lib/python3.10/dist-packages (from torch>=1.8.1->torchmetrics) (3.12.2)\n",
            "Requirement already satisfied: sympy in /usr/local/lib/python3.10/dist-packages (from torch>=1.8.1->torchmetrics) (1.11.1)\n",
            "Requirement already satisfied: networkx in /usr/local/lib/python3.10/dist-packages (from torch>=1.8.1->torchmetrics) (3.1)\n",
            "Requirement already satisfied: jinja2 in /usr/local/lib/python3.10/dist-packages (from torch>=1.8.1->torchmetrics) (3.1.2)\n",
            "Requirement already satisfied: triton==2.0.0 in /usr/local/lib/python3.10/dist-packages (from torch>=1.8.1->torchmetrics) (2.0.0)\n",
            "Requirement already satisfied: cmake in /usr/local/lib/python3.10/dist-packages (from triton==2.0.0->torch>=1.8.1->torchmetrics) (3.25.2)\n",
            "Requirement already satisfied: lit in /usr/local/lib/python3.10/dist-packages (from triton==2.0.0->torch>=1.8.1->torchmetrics) (16.0.6)\n",
            "Requirement already satisfied: MarkupSafe>=2.0 in /usr/local/lib/python3.10/dist-packages (from jinja2->torch>=1.8.1->torchmetrics) (2.1.3)\n",
            "Requirement already satisfied: mpmath>=0.19 in /usr/local/lib/python3.10/dist-packages (from sympy->torch>=1.8.1->torchmetrics) (1.3.0)\n",
            "Installing collected packages: lightning-utilities, torchmetrics\n",
            "Successfully installed lightning-utilities-0.9.0 torchmetrics-1.0.1\n"
          ]
        }
      ]
    },
    {
      "cell_type": "code",
      "source": [
        "!pip install jaxlib==0.4.13+cuda11.cudnn86 -f  https://storage.googleapis.com/jax-releases/jax_cuda_releases.html # [cuda]\n",
        "\n",
        "#!pip install -U jax jaxlib # [cpu]"
      ],
      "metadata": {
        "id": "b-qT1_q-fG9T",
        "colab": {
          "base_uri": "https://localhost:8080/"
        },
        "outputId": "dbbe1b5e-b682-4017-95a0-4c276a921826"
      },
      "execution_count": 2,
      "outputs": [
        {
          "output_type": "stream",
          "name": "stdout",
          "text": [
            "Looking in links: https://storage.googleapis.com/jax-releases/jax_cuda_releases.html\n",
            "Collecting jaxlib==0.4.13+cuda11.cudnn86\n",
            "  Downloading https://storage.googleapis.com/jax-releases/cuda11/jaxlib-0.4.13%2Bcuda11.cudnn86-cp310-cp310-manylinux2014_x86_64.whl (188.3 MB)\n",
            "\u001b[2K     \u001b[90m━━━━━━━━━━━━━━━━━━━━━━━━━━━━━━━━━━━━━━━\u001b[0m \u001b[32m188.3/188.3 MB\u001b[0m \u001b[31m7.2 MB/s\u001b[0m eta \u001b[36m0:00:00\u001b[0m\n",
            "\u001b[?25hRequirement already satisfied: scipy>=1.7 in /usr/local/lib/python3.10/dist-packages (from jaxlib==0.4.13+cuda11.cudnn86) (1.10.1)\n",
            "Requirement already satisfied: numpy>=1.21 in /usr/local/lib/python3.10/dist-packages (from jaxlib==0.4.13+cuda11.cudnn86) (1.22.4)\n",
            "Requirement already satisfied: ml-dtypes>=0.1.0 in /usr/local/lib/python3.10/dist-packages (from jaxlib==0.4.13+cuda11.cudnn86) (0.2.0)\n",
            "Installing collected packages: jaxlib\n",
            "  Attempting uninstall: jaxlib\n",
            "    Found existing installation: jaxlib 0.3.25\n",
            "    Uninstalling jaxlib-0.3.25:\n",
            "      Successfully uninstalled jaxlib-0.3.25\n",
            "Successfully installed jaxlib-0.4.13+cuda11.cudnn86\n"
          ]
        }
      ]
    },
    {
      "cell_type": "markdown",
      "source": [
        "*Restart runtime here!*"
      ],
      "metadata": {
        "id": "0vDHzk5ymU-V"
      }
    },
    {
      "cell_type": "code",
      "execution_count": 1,
      "metadata": {
        "id": "IgYFrPvSpbjk"
      },
      "outputs": [],
      "source": [
        "import jax\n",
        "import jax.random as jr\n",
        "import jax.numpy as jnp\n",
        "\n",
        "import einops\n",
        "\n",
        "import equinox as eqx\n",
        "\n",
        "import optax\n",
        "\n",
        "import tqdm\n",
        "from tqdm import notebook as tqdm\n",
        "\n",
        "import functools\n",
        "\n",
        "from typing import Dict, List, Mapping, Optional, Callable\n",
        "from jaxtyping import Array, Float, Int\n",
        "\n",
        "import math\n",
        "\n",
        "import numpy as np\n",
        "\n",
        "import datasets\n",
        "from datasets import load_dataset\n",
        "\n",
        "from tokenizers import Tokenizer\n",
        "from tokenizers.models import WordLevel\n",
        "from tokenizers.trainers import WordLevelTrainer\n",
        "from tokenizers.pre_tokenizers import Whitespace\n",
        "\n",
        "from pathlib import Path\n",
        "\n",
        "from matplotlib.pylab import plt\n",
        "\n",
        "from torchmetrics.text import WordErrorRate, CharErrorRate, BLEUScore\n",
        "from torch.utils import data"
      ]
    },
    {
      "cell_type": "markdown",
      "source": [
        "*Check VM is using GPU accelerator*"
      ],
      "metadata": {
        "id": "svWX2qPyhPsd"
      }
    },
    {
      "cell_type": "code",
      "source": [
        "jax.default_backend()"
      ],
      "metadata": {
        "colab": {
          "base_uri": "https://localhost:8080/",
          "height": 36
        },
        "id": "kG9vgAmUbj-l",
        "outputId": "b39e862b-aabd-4c38-d12f-bb6d0c9203b5"
      },
      "execution_count": null,
      "outputs": [
        {
          "output_type": "execute_result",
          "data": {
            "text/plain": [
              "'gpu'"
            ],
            "application/vnd.google.colaboratory.intrinsic+json": {
              "type": "string"
            }
          },
          "metadata": {},
          "execution_count": 2
        }
      ]
    },
    {
      "cell_type": "markdown",
      "source": [
        "**Random key generation**"
      ],
      "metadata": {
        "id": "o-t84lDvmrRr"
      }
    },
    {
      "cell_type": "code",
      "source": [
        "rand_key = jr.PRNGKey(2023)"
      ],
      "metadata": {
        "id": "52URpWXEprjm"
      },
      "execution_count": 2,
      "outputs": []
    },
    {
      "cell_type": "markdown",
      "source": [
        "## **Transformer**"
      ],
      "metadata": {
        "id": "uWK3_Vgqmxw_"
      }
    },
    {
      "cell_type": "markdown",
      "source": [
        "### Transformer modules"
      ],
      "metadata": {
        "id": "P6oW6sooqpX1"
      }
    },
    {
      "cell_type": "markdown",
      "source": [
        "**Generic equinox module for GELU**"
      ],
      "metadata": {
        "id": "zokOJ5im3RfR"
      }
    },
    {
      "cell_type": "code",
      "source": [
        "class Lambda(eqx.Module):\n",
        "\n",
        "    fn: Callable\n",
        "\n",
        "    def __call__(self, x, *, key=None):\n",
        "        return self.fn(x)"
      ],
      "metadata": {
        "id": "kKw12VA93Q1s"
      },
      "execution_count": 3,
      "outputs": []
    },
    {
      "cell_type": "markdown",
      "source": [
        "**Attention**"
      ],
      "metadata": {
        "id": "ZX585wtq5F0x"
      }
    },
    {
      "cell_type": "code",
      "source": [
        "# causal_attention_mask(jnp.array([2, 3])) == None"
      ],
      "metadata": {
        "id": "chKrVha2KxAh"
      },
      "execution_count": 4,
      "outputs": []
    },
    {
      "cell_type": "code",
      "source": [
        "# def causal_attention_mask(x):\n",
        "#     dim = x.shape[0]\n",
        "\n",
        "#     mask = jnp.ones((dim, dim), dtype=float)\n",
        "#     mask = jnp.tril(mask, k=0)\n",
        "#     return mask == 1"
      ],
      "metadata": {
        "id": "F6tEoXaWOU-D"
      },
      "execution_count": 5,
      "outputs": []
    },
    {
      "cell_type": "code",
      "source": [
        "class AttentionBlock(eqx.Module):\n",
        "\n",
        "    attention: eqx.nn.MultiheadAttention\n",
        "    dropout: eqx.nn.Dropout\n",
        "    num_heads: int = eqx.field(static=True)\n",
        "\n",
        "    def __init__(\n",
        "        self,\n",
        "        d_model: int,\n",
        "        num_heads: int,\n",
        "        dropout_rate: float,\n",
        "        attention_dropout_rate: float,\n",
        "        key: jr.PRNGKey\n",
        "    ):\n",
        "        self.num_heads = num_heads\n",
        "        self.attention = eqx.nn.MultiheadAttention(\n",
        "            num_heads=num_heads,\n",
        "            query_size=d_model,\n",
        "            use_query_bias=True,\n",
        "            use_key_bias=True,\n",
        "            use_value_bias=True,\n",
        "            use_output_bias=True,\n",
        "            dropout_p=attention_dropout_rate,\n",
        "            key=key,\n",
        "        )\n",
        "\n",
        "        self.dropout = eqx.nn.Dropout(dropout_rate)\n",
        "\n",
        "    @eqx.filter_jit\n",
        "    def causal_attention_mask(self, q_shape, kv_shape, pad: bool):\n",
        "        if pad == True:\n",
        "            #print(\"causal - padding\")\n",
        "            mask = jnp.ones((q_shape, kv_shape), dtype=float)\n",
        "            mask = jnp.tril(mask, k=0)\n",
        "            return mask == 1\n",
        "        else:\n",
        "            #print(\"causal - no padding\")\n",
        "            mask = jnp.ones((q_shape, kv_shape), dtype=float)\n",
        "            mask = jnp.tril(mask, k=0) == 1\n",
        "            mask = jnp.expand_dims(mask, axis=-3)\n",
        "            mask = jnp.where(mask, 1.0, 0.0)\n",
        "            return jnp.repeat(mask, repeats=self.num_heads, axis=-3)\n",
        "\n",
        "\n",
        "    @eqx.filter_jit\n",
        "    def make_attention_mask(\n",
        "        self, q_pad_mask: Array = jnp.array(()), kv_pad_mask: Array = jnp.array(()), look_ahead_mask: bool = False, inf_shape: int = None\n",
        "    ) -> Float[Array, \"num_heads query_seq_len kv_seq_len\"]:\n",
        "\n",
        "        if q_pad_mask is None:\n",
        "            #print(\"cross attn for inf\")\n",
        "            mask = einops.repeat(kv_pad_mask, \" a b -> (a q) b\", q = inf_shape)\n",
        "            mask = jnp.where(mask, 1.0, 0.0)\n",
        "            mask = jnp.expand_dims(mask, axis=-3)\n",
        "            mask = jnp.repeat(mask, repeats=self.num_heads, axis=-3)\n",
        "            return mask\n",
        "\n",
        "        # creates rectangular padding with q_pad_mask on the vertical and kv_pad_mask on the horizontal!\n",
        "        padding_mask = jnp.multiply(jnp.expand_dims(q_pad_mask, axis=-1), jnp.expand_dims(kv_pad_mask, axis=-2))\n",
        "        p_mask = jnp.where(padding_mask, 1.0, 0.0)\n",
        "        p_mask = jnp.repeat(p_mask, repeats=self.num_heads, axis=-3)\n",
        "        if look_ahead_mask is True:\n",
        "            q_shape = q_pad_mask.shape[-1]\n",
        "            kv_shape = kv_pad_mask.shape[-1]\n",
        "            cross_attn_mask = padding_mask & jnp.expand_dims(self.causal_attention_mask(q_shape, kv_shape, pad = True), axis=-3)\n",
        "            cross_attn_mask = jnp.where(cross_attn_mask, 1.0, 0.0)\n",
        "            cross_attn_mask = jnp.repeat(cross_attn_mask, repeats=self.num_heads, axis=-3)\n",
        "            return cross_attn_mask   # .astype(jnp.float32)\n",
        "        else:\n",
        "            return p_mask  # .astype(jnp.float32)\n",
        "\n",
        "    def __call__(\n",
        "        self,\n",
        "        query: Float[Array, \"... d_model\"],\n",
        "        key_: Float[Array, \"... d_model\"],\n",
        "        value: Float[Array, \"... d_model\"],\n",
        "        q_pad_mask: Array = None,\n",
        "        kv_pad_mask: Array = None,\n",
        "        look_ahead_mask: bool = False,\n",
        "        enable_dropout: bool = False,\n",
        "        key: \"jr.PRNGKey\" = None,\n",
        "    ) -> Float[Array, \"... d_model\"]:\n",
        "\n",
        "\n",
        "        if q_pad_mask is not None and kv_pad_mask is not None:\n",
        "            #print(\"train\")\n",
        "            mask = self.make_attention_mask(q_pad_mask, kv_pad_mask, look_ahead_mask)\n",
        "        elif q_pad_mask is None and look_ahead_mask == True:\n",
        "            #print(\"self_attn - inference\")\n",
        "            mask = self.causal_attention_mask(query.shape[-2], key_.shape[-2], pad = False)\n",
        "        elif q_pad_mask is None and kv_pad_mask is not None:\n",
        "            #print(\"cross_attn - inference\")\n",
        "            mask = self.make_attention_mask(q_pad_mask, kv_pad_mask, inf_shape = query.shape[-2])\n",
        "        else:\n",
        "            #print(\"none\")\n",
        "            mask = None\n",
        "\n",
        "        #print(mask)\n",
        "        #print(jnp.sum(mask))\n",
        "\n",
        "\n",
        "        attention_key, dropout_key = (\n",
        "            (None, None) if key is None else jr.split(key)\n",
        "        )\n",
        "\n",
        "        attention_output = self.attention(\n",
        "              query=query,\n",
        "              key_=key_,\n",
        "              value=value,\n",
        "              mask=mask,\n",
        "              inference=not enable_dropout,\n",
        "              key=attention_key\n",
        "        )\n",
        "\n",
        "        att_drop = self.dropout(attention_output, inference=not enable_dropout, key=dropout_key)\n",
        "\n",
        "        return att_drop"
      ],
      "metadata": {
        "id": "0PShmTm65HGC"
      },
      "execution_count": 6,
      "outputs": []
    },
    {
      "cell_type": "code",
      "source": [
        "# jnp.multiply(jnp.expand_dims(jnp.array([[True, True, True, True, True]]), axis=-1), jnp.expand_dims(jnp.array([[True, True, True, True, True]]), axis=-2))"
      ],
      "metadata": {
        "id": "2hsK0jix4NmD"
      },
      "execution_count": 7,
      "outputs": []
    },
    {
      "cell_type": "code",
      "source": [
        "# jnp.multiply(jnp.expand_dims(jnp.array([[True, True, True, False, False]]), axis=-1), jnp.expand_dims(jnp.array([[True, True, True, True, False]]), axis=-2))"
      ],
      "metadata": {
        "id": "BuwtHNOt1Rtk"
      },
      "execution_count": 8,
      "outputs": []
    },
    {
      "cell_type": "code",
      "source": [
        "# jnp.multiply(jnp.expand_dims(jnp.array([[True, True, True, False, False]]), axis=-1), jnp.expand_dims(jnp.array([[True, True, True, False, False]]), axis=-2)) & causal_attention_mask(jnp.array([True,True,True,False,False]))"
      ],
      "metadata": {
        "id": "-DpekHC_3MGS"
      },
      "execution_count": 9,
      "outputs": []
    },
    {
      "cell_type": "code",
      "source": [
        "# causal_attention_mask(jnp.array([True,True,True,False,False]))"
      ],
      "metadata": {
        "id": "jxh_YuvZ3Z52"
      },
      "execution_count": 10,
      "outputs": []
    },
    {
      "cell_type": "markdown",
      "source": [
        "*Below is a breakdown of how the attention mask is actually used in equinox*"
      ],
      "metadata": {
        "id": "oMS6taLXnmPi"
      }
    },
    {
      "cell_type": "code",
      "source": [
        "# logits = jr.normal(rand_key, shape=(10,10))\n",
        "\n",
        "# mask = jnp.ones((10,10))\n",
        "# mask = jnp.tril(mask, k=0)\n",
        "\n",
        "# #mask = jnp.where(mask==1., -jnp.inf, mask)\n",
        "\n",
        "# print(mask)\n",
        "# print(logits)\n",
        "# logits1 = jnp.where(mask, logits, jnp.finfo(logits.dtype).min)\n",
        "# print(logits1)\n",
        "# logits2 = jnp.where(mask==1, logits, jnp.finfo(logits.dtype).min)\n",
        "# #print(logits2)\n",
        "\n",
        "# print(logits1 - logits2)"
      ],
      "metadata": {
        "id": "D5tbYagiaA4K"
      },
      "execution_count": 11,
      "outputs": []
    },
    {
      "cell_type": "markdown",
      "source": [
        "**MLP Block**"
      ],
      "metadata": {
        "id": "BsMLjw_gEfsK"
      }
    },
    {
      "cell_type": "code",
      "source": [
        "class FeedForwardBlock(eqx.Module):\n",
        "\n",
        "    mlp: eqx.nn.Sequential    #could also use MLP if this way is more fiddly\n",
        "    dropout: eqx.nn.Dropout\n",
        "\n",
        "    def __init__(\n",
        "        self,\n",
        "        d_model: int,\n",
        "        intermediate_size: int,\n",
        "        dropout_rate: float,\n",
        "        key: jr.PRNGKey,\n",
        "    ):\n",
        "        linear1, linear2 = jr.split(key)\n",
        "\n",
        "        self.mlp = eqx.nn.Sequential([\n",
        "            eqx.nn.Linear(in_features=d_model, out_features=intermediate_size, key=linear1),\n",
        "            Lambda(jax.nn.gelu),\n",
        "            eqx.nn.Linear(in_features=intermediate_size, out_features=d_model, key=linear2)\n",
        "        ])\n",
        "        self.dropout = eqx.nn.Dropout(dropout_rate)\n",
        "\n",
        "    def __call__(\n",
        "        self,\n",
        "        inputs: Float[Array, \"... d_model\"],\n",
        "        enable_dropout: bool = True,\n",
        "        key: Optional[jr.PRNGKey] = None,\n",
        "    ) -> Float[Array, \"seq_len d_model\"]:\n",
        "\n",
        "        feed_out = jax.vmap(self.mlp)(inputs)\n",
        "        out_d = self.dropout(feed_out, inference=not enable_dropout, key=key)\n",
        "\n",
        "        return out_d\n"
      ],
      "metadata": {
        "id": "Npn_D1FBEOTi"
      },
      "execution_count": 12,
      "outputs": []
    },
    {
      "cell_type": "markdown",
      "source": [
        "**Embedding table**"
      ],
      "metadata": {
        "id": "zvVB7q4OSMvG"
      }
    },
    {
      "cell_type": "code",
      "source": [
        "class InputEmbeddings(eqx.Module):\n",
        "\n",
        "  embedding: eqx.nn.Embedding\n",
        "  d_model: int\n",
        "\n",
        "  def __init__(\n",
        "      self,\n",
        "      d_model: int,\n",
        "      vocab_size: int,\n",
        "      key: jr.PRNGKey,\n",
        "  ):\n",
        "      self.d_model = d_model\n",
        "      self.embedding = eqx.nn.Embedding(vocab_size, d_model, key=key)\n",
        "\n",
        "  def __call__(self, x) -> Float[Array, \"seq_len d_model\"]:\n",
        "\n",
        "    return self.embedding(x) * math.sqrt(self.d_model)"
      ],
      "metadata": {
        "id": "gW98v6F7qjxB"
      },
      "execution_count": 13,
      "outputs": []
    },
    {
      "cell_type": "markdown",
      "source": [
        "**Positional encoding**"
      ],
      "metadata": {
        "id": "eGzfSNHsSOb4"
      }
    },
    {
      "cell_type": "code",
      "source": [
        "class SinusoidalPosEmb(eqx.Module):\n",
        "    pos_emb: jax.Array\n",
        "    dropout: eqx.nn.Dropout\n",
        "\n",
        "    def __init__(\n",
        "        self,\n",
        "        d_model: int,\n",
        "        seq_len: int,\n",
        "        dropout_rate: float\n",
        "    ):\n",
        "        self.dropout = eqx.nn.Dropout(dropout_rate)\n",
        "        half_dim = d_model//2\n",
        "        pe = jnp.zeros((seq_len, d_model))\n",
        "        position = einops.repeat(jnp.arange(0 , seq_len), \" s -> s r\", r=half_dim)  #shape [seq_len, d_model/2]\n",
        "        div_term = jnp.exp(jnp.arange(0, d_model, 2) * -(math.log(10_000) / d_model))  #shape [d_model/2]\n",
        "        ins = jax.vmap(jnp.multiply, in_axes=(1, 0), out_axes=1)(position, div_term)  #shape [seq_len, d_model/2]\n",
        "\n",
        "        pe = pe.at[:, 0::2].set(jnp.sin(ins))\n",
        "        pe = pe.at[:, 1::2].set(jnp.cos(ins))\n",
        "\n",
        "        self.pos_emb = pe\n",
        "\n",
        "    def __call__(\n",
        "        self,\n",
        "        x,\n",
        "        enable_dropout: bool = False,\n",
        "        key: \"jr.PRNGKey\" = None,\n",
        "    ) -> Float[Array, \"seq_len d_model\"]:\n",
        "\n",
        "        x = x + jax.lax.stop_gradient(self.pos_emb[:x.shape[0], :])\n",
        "\n",
        "        return self.dropout(x, inference=not enable_dropout, key=key)\n",
        "\n",
        "####### to freeze parameters, can also use eqx.partition or \"try\" filter(static=True) ######"
      ],
      "metadata": {
        "id": "Ua8tZGvG7pe7"
      },
      "execution_count": 14,
      "outputs": []
    },
    {
      "cell_type": "markdown",
      "source": [
        "**Encoder Block**"
      ],
      "metadata": {
        "id": "kPL-N55ntQmT"
      }
    },
    {
      "cell_type": "code",
      "source": [
        "class EncoderLayer(eqx.Module):\n",
        "\n",
        "    layer_norm_1: eqx.nn.LayerNorm\n",
        "    layer_norm_2: eqx.nn.LayerNorm\n",
        "    attention_block: AttentionBlock\n",
        "    ff_block: FeedForwardBlock\n",
        "\n",
        "    def __init__(\n",
        "        self,\n",
        "        d_model: int,\n",
        "        intermediate_size: int,\n",
        "        num_heads: int,\n",
        "        dropout_rate: float,\n",
        "        attention_dropout_rate: float,\n",
        "        key: jr.PRNGKey,\n",
        "    ):\n",
        "\n",
        "        attention_key, ff_key = jr.split(key)\n",
        "\n",
        "        self.attention_block = AttentionBlock(\n",
        "            d_model=d_model,\n",
        "            num_heads=num_heads,\n",
        "            dropout_rate=dropout_rate,\n",
        "            attention_dropout_rate=attention_dropout_rate,\n",
        "            key=attention_key,\n",
        "        )\n",
        "        self.ff_block = FeedForwardBlock(\n",
        "            d_model=d_model,\n",
        "            intermediate_size=intermediate_size,\n",
        "            dropout_rate=dropout_rate,\n",
        "            key=ff_key,\n",
        "        )\n",
        "        self.layer_norm_1 = eqx.nn.LayerNorm(shape=d_model)\n",
        "        self.layer_norm_2 = eqx.nn.LayerNorm(shape=d_model)\n",
        "\n",
        "    def __call__(\n",
        "        self,\n",
        "        inputs: Float[Array, \"src_seq_len d_model\"],\n",
        "        pad_mask: Array = None,\n",
        "        *,\n",
        "        enable_dropout: bool = False,\n",
        "        key: Optional[jr.PRNGKey] = None,\n",
        "    ) -> Float[Array, \"seq_len d_model\"]:\n",
        "\n",
        "        attn_key, ff_key = (None, None) if key is None else jr.split(key)\n",
        "\n",
        "        inputs = inputs + self.attention_block(\n",
        "            inputs, inputs, inputs, q_pad_mask=pad_mask, kv_pad_mask=pad_mask, enable_dropout=enable_dropout, key=attn_key\n",
        "        )\n",
        "        inputs = jax.vmap(self.layer_norm_1)(inputs)\n",
        "\n",
        "        inputs = inputs + self.ff_block(\n",
        "            inputs, enable_dropout=enable_dropout, key=ff_key\n",
        "        )\n",
        "        inputs = jax.vmap(self.layer_norm_2)(inputs)\n",
        "\n",
        "        return inputs"
      ],
      "metadata": {
        "id": "s_zpRdXMtP9_"
      },
      "execution_count": 15,
      "outputs": []
    },
    {
      "cell_type": "markdown",
      "source": [
        "**Encoder**"
      ],
      "metadata": {
        "id": "7ZDEK-86ym-_"
      }
    },
    {
      "cell_type": "code",
      "source": [
        "class Encoder(eqx.Module):\n",
        "\n",
        "    embedder_block: InputEmbeddings\n",
        "    pos_embed: SinusoidalPosEmb\n",
        "    layers: List[EncoderLayer]\n",
        "\n",
        "    def __init__(\n",
        "        self,\n",
        "        vocab_size: int,\n",
        "        d_model: int,\n",
        "        seq_len: int,\n",
        "        intermediate_size: int,\n",
        "        num_layers: int,\n",
        "        num_heads: int,\n",
        "        dropout_rate: float,\n",
        "        attention_dropout_rate: float,\n",
        "        key: jr.PRNGKey,\n",
        "    ):\n",
        "\n",
        "      embedder_key, layer_key = jr.split(key, num=2)\n",
        "\n",
        "      self.embedder_block = InputEmbeddings(\n",
        "          d_model, vocab_size, key=embedder_key\n",
        "      )\n",
        "      self.pos_embed = SinusoidalPosEmb(d_model, seq_len, dropout_rate)\n",
        "\n",
        "      layer_keys = jr.split(layer_key, num=num_layers)\n",
        "\n",
        "      self.layers = [\n",
        "          EncoderLayer(\n",
        "              d_model=d_model, intermediate_size=intermediate_size, num_heads=num_heads, dropout_rate=dropout_rate, attention_dropout_rate=attention_dropout_rate, key=layer_key,\n",
        "          )\n",
        "          for layer_key in layer_keys]\n",
        "\n",
        "    def __call__(\n",
        "          self,\n",
        "          tokens: Int[Array, \"src_seq_len\"],\n",
        "          pad_mask: Array = None,\n",
        "          *,\n",
        "          enable_dropout: bool = False,\n",
        "          key: Optional[jr.PRNGKey] = None,\n",
        "    ):\n",
        "\n",
        "          ps_emb_key, l_key = (None, None) if key is None else jr.split(key, 2)\n",
        "\n",
        "          embed_inputs = self.embedder_block(tokens)\n",
        "          x = self.pos_embed(embed_inputs, enable_dropout=enable_dropout, key=ps_emb_key)\n",
        "          for layer in self.layers:\n",
        "              cl_key, l_key = (None, None) if l_key is None else jr.split(l_key)\n",
        "\n",
        "              x = layer(x, pad_mask=pad_mask, enable_dropout=enable_dropout, key=cl_key)\n",
        "\n",
        "          return x"
      ],
      "metadata": {
        "id": "3Szh7x1sylML"
      },
      "execution_count": 16,
      "outputs": []
    },
    {
      "cell_type": "markdown",
      "source": [
        "**Decoder Block**"
      ],
      "metadata": {
        "id": "7Ayup6V6FxC8"
      }
    },
    {
      "cell_type": "code",
      "source": [
        "class DecoderLayer(eqx.Module):\n",
        "\n",
        "    self_att_block: AttentionBlock\n",
        "    cross_att_block: AttentionBlock\n",
        "    ff_block: FeedForwardBlock\n",
        "    layer_norm_1: eqx.nn.LayerNorm\n",
        "    layer_norm_2: eqx.nn.LayerNorm\n",
        "    layer_norm_3: eqx.nn.LayerNorm\n",
        "\n",
        "    def __init__(\n",
        "        self,\n",
        "        d_model: int,\n",
        "        intermediate_size: int,\n",
        "        num_heads: int,\n",
        "        dropout_rate: float,\n",
        "        attention_dropout_rate: float,\n",
        "        key: jr.PRNGKey,\n",
        "    ):\n",
        "\n",
        "        self_att_key, cross_att_key, ff_key = jr.split(key, num=3)\n",
        "\n",
        "        self.self_att_block = AttentionBlock(\n",
        "            d_model=d_model,\n",
        "            num_heads=num_heads,\n",
        "            dropout_rate=dropout_rate,\n",
        "            attention_dropout_rate=attention_dropout_rate,\n",
        "            key=self_att_key,\n",
        "        )\n",
        "        self.cross_att_block = AttentionBlock(\n",
        "            d_model=d_model,\n",
        "            num_heads=num_heads,\n",
        "            dropout_rate=dropout_rate,\n",
        "            attention_dropout_rate=attention_dropout_rate,\n",
        "            key=cross_att_key,\n",
        "        )\n",
        "        self.ff_block = FeedForwardBlock(\n",
        "            d_model=d_model,\n",
        "            intermediate_size=intermediate_size,\n",
        "            dropout_rate=dropout_rate,\n",
        "            key=ff_key,\n",
        "        )\n",
        "        self.layer_norm_1 = eqx.nn.LayerNorm(shape=d_model)\n",
        "        self.layer_norm_2 = eqx.nn.LayerNorm(shape=d_model)\n",
        "        self.layer_norm_3 = eqx.nn.LayerNorm(shape=d_model)\n",
        "\n",
        "    def __call__(\n",
        "        self,\n",
        "        inputs: Float[Array, \"tgt_seq_len d_model\"],\n",
        "        encoder_output,\n",
        "        src_pad_mask: Array = None,\n",
        "        tgt_pad_mask: Array = None,   # use ... (ellipsis) to indicate variable size in annotation - can't just leave square brackets empty\n",
        "        look_ahead_mask: Optional[bool] = False,\n",
        "        *,\n",
        "        enable_dropout: bool = False,\n",
        "        key: Optional[jr.PRNGKey] = None,\n",
        "    ):\n",
        "\n",
        "        self_attn_key, cross_attn_key, ff_key = (None, None, None) if key is None else jr.split(key, num=3)\n",
        "\n",
        "        inputs = inputs + self.self_att_block(\n",
        "            inputs, inputs, inputs, q_pad_mask=tgt_pad_mask, kv_pad_mask=tgt_pad_mask, look_ahead_mask=look_ahead_mask, enable_dropout=enable_dropout, key=self_attn_key\n",
        "        )\n",
        "        inputs = jax.vmap(self.layer_norm_1)(inputs)\n",
        "\n",
        "        inputs = inputs + self.cross_att_block(\n",
        "            inputs, encoder_output, encoder_output, q_pad_mask=tgt_pad_mask, kv_pad_mask=src_pad_mask, enable_dropout=enable_dropout, key=cross_attn_key\n",
        "        )\n",
        "        inputs = jax.vmap(self.layer_norm_2)(inputs)\n",
        "\n",
        "        inputs = inputs + self.ff_block(\n",
        "            inputs, enable_dropout=enable_dropout, key=ff_key\n",
        "        )\n",
        "        inputs = jax.vmap(self.layer_norm_3)(inputs)\n",
        "\n",
        "        return inputs"
      ],
      "metadata": {
        "id": "Uefs4CKaCod6"
      },
      "execution_count": 17,
      "outputs": []
    },
    {
      "cell_type": "markdown",
      "source": [
        "**Decoder**"
      ],
      "metadata": {
        "id": "nJ2NzZHgNxj2"
      }
    },
    {
      "cell_type": "code",
      "source": [
        "class Decoder(eqx.Module):\n",
        "\n",
        "    embedder_block: InputEmbeddings\n",
        "    pos_embed: SinusoidalPosEmb\n",
        "    layers: List[DecoderLayer]\n",
        "\n",
        "    def __init__(\n",
        "        self,\n",
        "        vocab_size: int,\n",
        "        d_model: int,\n",
        "        seq_len: int,\n",
        "        intermediate_size: int,\n",
        "        num_heads: int,\n",
        "        num_layers: int,\n",
        "        dropout_rate: float,\n",
        "        attention_dropout_rate: float,\n",
        "        key: jr.PRNGKey\n",
        "    ):\n",
        "        embedder_key, layer_key = jr.split(key, num=2)\n",
        "\n",
        "        self.embedder_block = InputEmbeddings(\n",
        "          d_model, vocab_size, embedder_key\n",
        "        )\n",
        "        self.pos_embed = SinusoidalPosEmb(d_model, seq_len, dropout_rate)\n",
        "        layer_keys = jr.split(layer_key, num=num_layers)\n",
        "\n",
        "        self.layers = [\n",
        "          DecoderLayer(\n",
        "              d_model=d_model, intermediate_size=intermediate_size, num_heads=num_heads, dropout_rate=dropout_rate, attention_dropout_rate=attention_dropout_rate, key=layer_key,\n",
        "          )\n",
        "          for layer_key in layer_keys]\n",
        "\n",
        "    def __call__(\n",
        "        self,\n",
        "        x: Array,\n",
        "        encoder_output: Float[Array, \"src_seq_len d_model\"],\n",
        "        src_pad_mask: Array = None,\n",
        "        tgt_pad_mask: Array = None,\n",
        "        look_ahead_mask: Optional[bool] = False,\n",
        "        *,\n",
        "        enable_dropout: bool = False,\n",
        "        key: Optional[jr.PRNGKey] = None,\n",
        "    ):\n",
        "        print\n",
        "        ps_emb_key, l_key = (None, None) if key is None else jr.split(key, 2)\n",
        "\n",
        "        embed_inputs = self.embedder_block(x)\n",
        "        x = self.pos_embed(embed_inputs, key=ps_emb_key)\n",
        "        for layer in self.layers:\n",
        "              cl_key, l_key = (None, None) if l_key is None else jr.split(l_key)\n",
        "\n",
        "              x = layer(x, encoder_output, src_pad_mask=src_pad_mask, tgt_pad_mask=tgt_pad_mask, look_ahead_mask=look_ahead_mask, enable_dropout=enable_dropout, key=cl_key)\n",
        "\n",
        "\n",
        "        return x"
      ],
      "metadata": {
        "id": "JmdNhQa5Nv9V"
      },
      "execution_count": 18,
      "outputs": []
    },
    {
      "cell_type": "code",
      "source": [
        "list(jnp.array([True, False])) == None"
      ],
      "metadata": {
        "colab": {
          "base_uri": "https://localhost:8080/"
        },
        "id": "YEAUxh_kh4uq",
        "outputId": "c99b6a87-3cae-4476-db4e-7127ce3c129b"
      },
      "execution_count": 19,
      "outputs": [
        {
          "output_type": "execute_result",
          "data": {
            "text/plain": [
              "False"
            ]
          },
          "metadata": {},
          "execution_count": 19
        }
      ]
    },
    {
      "cell_type": "markdown",
      "source": [
        "**Final Layer**"
      ],
      "metadata": {
        "id": "GEM8TlL_RgQY"
      }
    },
    {
      "cell_type": "code",
      "source": [
        "class Out_Projection_Layer(eqx.Module):\n",
        "\n",
        "    proj: eqx.nn.Linear\n",
        "\n",
        "    def __init__(\n",
        "        self,\n",
        "        d_model:int,\n",
        "        vocab_size: int,\n",
        "        key: jr.PRNGKey\n",
        "    ):\n",
        "        self.proj = eqx.nn.Linear(in_features=d_model, out_features=vocab_size, key=key)\n",
        "\n",
        "    def __call__(\n",
        "        self,\n",
        "        x: Float[Array, \"tgt_seq_len d_model\"]\n",
        "    ) -> Int[Array, \"tgt_seq_len vocab_size\"]:\n",
        "        out = jax.vmap(self.proj)(x)\n",
        "\n",
        "        # return jax.nn.log_softmax(out, axis=-1) # - softmax included in CE loss\n",
        "\n",
        "        return out"
      ],
      "metadata": {
        "id": "oajMZv-cRPtN"
      },
      "execution_count": 20,
      "outputs": []
    },
    {
      "cell_type": "markdown",
      "source": [
        "**Transformer**"
      ],
      "metadata": {
        "id": "-j_Sa0VLTDwP"
      }
    },
    {
      "cell_type": "code",
      "source": [
        "class Transformer(eqx.Module):\n",
        "\n",
        "    encoder: Encoder\n",
        "    decoder: Decoder\n",
        "    out_proj: Out_Projection_Layer\n",
        "\n",
        "    def __init__(\n",
        "        self,\n",
        "        config: Mapping,\n",
        "        key: jr.PRNGKey\n",
        "    ):\n",
        "\n",
        "        encoder_key, decoder_key, out_proj_key = jr.split(key, num=3)\n",
        "\n",
        "        self.encoder = Encoder(\n",
        "            vocab_size=config[\"src_vocab_size\"],\n",
        "            d_model=config[\"d_model\"],\n",
        "            seq_len=config[\"src_seq_len\"],\n",
        "            intermediate_size=config[\"intermediate_size\"],\n",
        "            num_layers=config[\"num_hidden_layers\"],\n",
        "            num_heads=config[\"num_attention_heads\"],\n",
        "            dropout_rate=config[\"hidden_dropout_prob\"],\n",
        "            attention_dropout_rate=config[\"attention_dropout_prob\"],\n",
        "            key=encoder_key,\n",
        "        )\n",
        "        self.decoder = Decoder(\n",
        "            vocab_size=config[\"tgt_vocab_size\"],\n",
        "            d_model=config[\"d_model\"],\n",
        "            seq_len=config[\"tgt_seq_len\"],\n",
        "            intermediate_size=config[\"intermediate_size\"],\n",
        "            num_layers=config[\"num_hidden_layers\"],\n",
        "            num_heads=config[\"num_attention_heads\"],\n",
        "            dropout_rate=config[\"hidden_dropout_prob\"],\n",
        "            attention_dropout_rate=config[\"attention_dropout_prob\"],\n",
        "            key=decoder_key,\n",
        "        )\n",
        "        self.out_proj = Out_Projection_Layer(\n",
        "            d_model=config[\"d_model\"],\n",
        "            vocab_size=config[\"tgt_vocab_size\"],\n",
        "            key=out_proj_key)\n",
        "\n",
        "    def __call__(\n",
        "        self,\n",
        "        src,\n",
        "        tgt,\n",
        "        src_pad_mask: Array = None,\n",
        "        tgt_pad_mask: Array = None,\n",
        "        look_ahead_mask: Array = None,\n",
        "        enable_dropout: bool = False,\n",
        "        key: Optional[jr.PRNGKey] = None\n",
        "    ):\n",
        "        enc_key, dec_key = (None, None) if key is None else jr.split(key, 2)\n",
        "\n",
        "        encoder_output = self.encoder(src, src_pad_mask, enable_dropout=enable_dropout, key=enc_key)\n",
        "        decoder_output = self.decoder(tgt, encoder_output, src_pad_mask, tgt_pad_mask, look_ahead_mask, enable_dropout=enable_dropout, key=dec_key)\n",
        "        output = self.out_proj(decoder_output)\n",
        "        return output\n",
        "\n",
        "    def encode(self,\n",
        "               src,\n",
        "               src_pad_mask: Array = None,\n",
        "               enable_dropout: bool = False,\n",
        "               key: Optional[jr.PRNGKey] = None\n",
        "    ):\n",
        "        return self.encoder(src, src_pad_mask, enable_dropout=enable_dropout, key=key)\n",
        "\n",
        "    def decode(self,\n",
        "               tgt,\n",
        "               enc_out,\n",
        "               src_pad_mask: Array = None,\n",
        "               tgt_pad_mask: Array = None,\n",
        "               look_ahead_mask:bool = True,\n",
        "               enable_dropout: bool = False,\n",
        "               key: Optional[jr.PRNGKey] = None\n",
        "    ):\n",
        "        return self.decoder(tgt, enc_out, src_pad_mask, tgt_pad_mask, look_ahead_mask, enable_dropout=enable_dropout, key=key)\n",
        "\n",
        "    def project(self, x):\n",
        "        return self.out_proj(x)"
      ],
      "metadata": {
        "id": "-z-D29cQd6EB"
      },
      "execution_count": 21,
      "outputs": []
    },
    {
      "cell_type": "markdown",
      "source": [
        "### *Misc*"
      ],
      "metadata": {
        "id": "RQst9FP9pS_9"
      }
    },
    {
      "cell_type": "markdown",
      "source": [
        "#### *Visualisation of sinusoidal embeddings*"
      ],
      "metadata": {
        "id": "yvkhSKr-MPEu"
      }
    },
    {
      "cell_type": "code",
      "source": [
        "import pandas as pd\n",
        "import altair as alt"
      ],
      "metadata": {
        "id": "UJVlTYOXQcli"
      },
      "execution_count": null,
      "outputs": []
    },
    {
      "cell_type": "code",
      "source": [
        "def show_example(fn, args=[]):\n",
        "    if __name__ == \"__main__\" :\n",
        "        return fn(*args)"
      ],
      "metadata": {
        "id": "1xxn51xYRCgn"
      },
      "execution_count": null,
      "outputs": []
    },
    {
      "cell_type": "code",
      "source": [
        "def example_positional():\n",
        "    pe = SinusoidalPosEmb(20, 5000, 0)\n",
        "    y = pe(jnp.zeros((100, 20), dtype=jnp.float32))\n",
        "\n",
        "    data = pd.concat(\n",
        "        [\n",
        "            pd.DataFrame(\n",
        "                {\n",
        "                    \"embedding\": y[:, dim],\n",
        "                    \"dimension\": dim,\n",
        "                    \"position\": list(range(100)),\n",
        "                }\n",
        "            )\n",
        "            for dim in [4, 5, 6, 7]\n",
        "        ]\n",
        "    )\n",
        "\n",
        "    return (\n",
        "        alt.Chart(data)\n",
        "        .mark_line()\n",
        "        .properties(width=800)\n",
        "        .encode(x=\"position\", y=\"embedding\", color=\"dimension:N\")\n",
        "        .interactive()\n",
        "    )\n",
        "\n",
        "show_example(example_positional)"
      ],
      "metadata": {
        "colab": {
          "base_uri": "https://localhost:8080/",
          "height": 406
        },
        "id": "9fd-F9IIkvEn",
        "outputId": "050dfaa0-ebe4-4a5a-a8f1-300d8392190e"
      },
      "execution_count": null,
      "outputs": [
        {
          "output_type": "stream",
          "name": "stdout",
          "text": [
            "(100, 20) (5000, 20)\n"
          ]
        },
        {
          "output_type": "execute_result",
          "data": {
            "text/html": [
              "\n",
              "<div id=\"altair-viz-c99ee81efaa349f1a85bde67989f8239\"></div>\n",
              "<script type=\"text/javascript\">\n",
              "  var VEGA_DEBUG = (typeof VEGA_DEBUG == \"undefined\") ? {} : VEGA_DEBUG;\n",
              "  (function(spec, embedOpt){\n",
              "    let outputDiv = document.currentScript.previousElementSibling;\n",
              "    if (outputDiv.id !== \"altair-viz-c99ee81efaa349f1a85bde67989f8239\") {\n",
              "      outputDiv = document.getElementById(\"altair-viz-c99ee81efaa349f1a85bde67989f8239\");\n",
              "    }\n",
              "    const paths = {\n",
              "      \"vega\": \"https://cdn.jsdelivr.net/npm//vega@5?noext\",\n",
              "      \"vega-lib\": \"https://cdn.jsdelivr.net/npm//vega-lib?noext\",\n",
              "      \"vega-lite\": \"https://cdn.jsdelivr.net/npm//vega-lite@4.17.0?noext\",\n",
              "      \"vega-embed\": \"https://cdn.jsdelivr.net/npm//vega-embed@6?noext\",\n",
              "    };\n",
              "\n",
              "    function maybeLoadScript(lib, version) {\n",
              "      var key = `${lib.replace(\"-\", \"\")}_version`;\n",
              "      return (VEGA_DEBUG[key] == version) ?\n",
              "        Promise.resolve(paths[lib]) :\n",
              "        new Promise(function(resolve, reject) {\n",
              "          var s = document.createElement('script');\n",
              "          document.getElementsByTagName(\"head\")[0].appendChild(s);\n",
              "          s.async = true;\n",
              "          s.onload = () => {\n",
              "            VEGA_DEBUG[key] = version;\n",
              "            return resolve(paths[lib]);\n",
              "          };\n",
              "          s.onerror = () => reject(`Error loading script: ${paths[lib]}`);\n",
              "          s.src = paths[lib];\n",
              "        });\n",
              "    }\n",
              "\n",
              "    function showError(err) {\n",
              "      outputDiv.innerHTML = `<div class=\"error\" style=\"color:red;\">${err}</div>`;\n",
              "      throw err;\n",
              "    }\n",
              "\n",
              "    function displayChart(vegaEmbed) {\n",
              "      vegaEmbed(outputDiv, spec, embedOpt)\n",
              "        .catch(err => showError(`Javascript Error: ${err.message}<br>This usually means there's a typo in your chart specification. See the javascript console for the full traceback.`));\n",
              "    }\n",
              "\n",
              "    if(typeof define === \"function\" && define.amd) {\n",
              "      requirejs.config({paths});\n",
              "      require([\"vega-embed\"], displayChart, err => showError(`Error loading script: ${err.message}`));\n",
              "    } else {\n",
              "      maybeLoadScript(\"vega\", \"5\")\n",
              "        .then(() => maybeLoadScript(\"vega-lite\", \"4.17.0\"))\n",
              "        .then(() => maybeLoadScript(\"vega-embed\", \"6\"))\n",
              "        .catch(showError)\n",
              "        .then(() => displayChart(vegaEmbed));\n",
              "    }\n",
              "  })({\"config\": {\"view\": {\"continuousWidth\": 400, \"continuousHeight\": 300}}, \"data\": {\"name\": \"data-a4b8879ab5b4ea982c949659c4cff609\"}, \"mark\": \"line\", \"encoding\": {\"color\": {\"field\": \"dimension\", \"type\": \"nominal\"}, \"x\": {\"field\": \"position\", \"type\": \"quantitative\"}, \"y\": {\"field\": \"embedding\", \"type\": \"quantitative\"}}, \"selection\": {\"selector010\": {\"type\": \"interval\", \"bind\": \"scales\", \"encodings\": [\"x\", \"y\"]}}, \"width\": 800, \"$schema\": \"https://vega.github.io/schema/vega-lite/v4.17.0.json\", \"datasets\": {\"data-a4b8879ab5b4ea982c949659c4cff609\": [{\"embedding\": 0.0, \"dimension\": 4, \"position\": 0}, {\"embedding\": 0.15782663226127625, \"dimension\": 4, \"position\": 1}, {\"embedding\": 0.3116971552371979, \"dimension\": 4, \"position\": 2}, {\"embedding\": 0.45775455236434937, \"dimension\": 4, \"position\": 3}, {\"embedding\": 0.5923377275466919, \"dimension\": 4, \"position\": 4}, {\"embedding\": 0.7120732069015503, \"dimension\": 4, \"position\": 5}, {\"embedding\": 0.813959538936615, \"dimension\": 4, \"position\": 6}, {\"embedding\": 0.8954429626464844, \"dimension\": 4, \"position\": 7}, {\"embedding\": 0.9544808864593506, \"dimension\": 4, \"position\": 8}, {\"embedding\": 0.989593505859375, \"dimension\": 4, \"position\": 9}, {\"embedding\": 0.9999006390571594, \"dimension\": 4, \"position\": 10}, {\"embedding\": 0.9851439595222473, \"dimension\": 4, \"position\": 11}, {\"embedding\": 0.94569331407547, \"dimension\": 4, \"position\": 12}, {\"embedding\": 0.8825376033782959, \"dimension\": 4, \"position\": 13}, {\"embedding\": 0.7972599267959595, \"dimension\": 4, \"position\": 14}, {\"embedding\": 0.6919978260993958, \"dimension\": 4, \"position\": 15}, {\"embedding\": 0.5693899393081665, \"dimension\": 4, \"position\": 16}, {\"embedding\": 0.4325096309185028, \"dimension\": 4, \"position\": 17}, {\"embedding\": 0.284787654876709, \"dimension\": 4, \"position\": 18}, {\"embedding\": 0.12992730736732483, \"dimension\": 4, \"position\": 19}, {\"embedding\": -0.028190065175294876, \"dimension\": 4, \"position\": 20}, {\"embedding\": -0.18560057878494263, \"dimension\": 4, \"position\": 21}, {\"embedding\": -0.3383587896823883, \"dimension\": 4, \"position\": 22}, {\"embedding\": -0.4826357662677765, \"dimension\": 4, \"position\": 23}, {\"embedding\": -0.6148146390914917, \"dimension\": 4, \"position\": 24}, {\"embedding\": -0.7315824031829834, \"dimension\": 4, \"position\": 25}, {\"embedding\": -0.8300122618675232, \"dimension\": 4, \"position\": 26}, {\"embedding\": -0.9076365828514099, \"dimension\": 4, \"position\": 27}, {\"embedding\": -0.96250981092453, \"dimension\": 4, \"position\": 28}, {\"embedding\": -0.9932565093040466, \"dimension\": 4, \"position\": 29}, {\"embedding\": -0.9991058707237244, \"dimension\": 4, \"position\": 30}, {\"embedding\": -0.9799113273620605, \"dimension\": 4, \"position\": 31}, {\"embedding\": -0.9361540079116821, \"dimension\": 4, \"position\": 32}, {\"embedding\": -0.8689308166503906, \"dimension\": 4, \"position\": 33}, {\"embedding\": -0.7799267172813416, \"dimension\": 4, \"position\": 34}, {\"embedding\": -0.6713724136352539, \"dimension\": 4, \"position\": 35}, {\"embedding\": -0.5459895133972168, \"dimension\": 4, \"position\": 36}, {\"embedding\": -0.40692076086997986, \"dimension\": 4, \"position\": 37}, {\"embedding\": -0.2576519548892975, \"dimension\": 4, \"position\": 38}, {\"embedding\": -0.10192479938268661, \"dimension\": 4, \"position\": 39}, {\"embedding\": 0.056357722729444504, \"dimension\": 4, \"position\": 40}, {\"embedding\": 0.21322709321975708, \"dimension\": 4, \"position\": 41}, {\"embedding\": 0.3647516369819641, \"dimension\": 4, \"position\": 42}, {\"embedding\": 0.5071332454681396, \"dimension\": 4, \"position\": 43}, {\"embedding\": 0.6368028521537781, \"dimension\": 4, \"position\": 44}, {\"embedding\": 0.7505101561546326, \"dimension\": 4, \"position\": 45}, {\"embedding\": 0.8454052805900574, \"dimension\": 4, \"position\": 46}, {\"embedding\": 0.9191088080406189, \"dimension\": 4, \"position\": 47}, {\"embedding\": 0.9697737693786621, \"dimension\": 4, \"position\": 48}, {\"embedding\": 0.9961300492286682, \"dimension\": 4, \"position\": 49}, {\"embedding\": 0.9975170493125916, \"dimension\": 4, \"position\": 50}, {\"embedding\": 0.9738998413085938, \"dimension\": 4, \"position\": 51}, {\"embedding\": 0.9258706569671631, \"dimension\": 4, \"position\": 52}, {\"embedding\": 0.8546332716941833, \"dimension\": 4, \"position\": 53}, {\"embedding\": 0.7619734406471252, \"dimension\": 4, \"position\": 54}, {\"embedding\": 0.6502137184143066, \"dimension\": 4, \"position\": 55}, {\"embedding\": 0.5221555233001709, \"dimension\": 4, \"position\": 56}, {\"embedding\": 0.38100889325141907, \"dimension\": 4, \"position\": 57}, {\"embedding\": 0.23031172156333923, \"dimension\": 4, \"position\": 58}, {\"embedding\": 0.07384055852890015, \"dimension\": 4, \"position\": 59}, {\"embedding\": -0.08448058366775513, \"dimension\": 4, \"position\": 60}, {\"embedding\": -0.2406841218471527, \"dimension\": 4, \"position\": 61}, {\"embedding\": -0.3908545970916748, \"dimension\": 4, \"position\": 62}, {\"embedding\": -0.5312277674674988, \"dimension\": 4, \"position\": 63}, {\"embedding\": -0.6582850813865662, \"dimension\": 4, \"position\": 64}, {\"embedding\": -0.768841564655304, \"dimension\": 4, \"position\": 65}, {\"embedding\": -0.8601260781288147, \"dimension\": 4, \"position\": 66}, {\"embedding\": -0.9298503994941711, \"dimension\": 4, \"position\": 67}, {\"embedding\": -0.9762668013572693, \"dimension\": 4, \"position\": 68}, {\"embedding\": -0.9982118010520935, \"dimension\": 4, \"position\": 69}, {\"embedding\": -0.9951352477073669, \"dimension\": 4, \"position\": 70}, {\"embedding\": -0.967114269733429, \"dimension\": 4, \"position\": 71}, {\"embedding\": -0.9148513078689575, \"dimension\": 4, \"position\": 72}, {\"embedding\": -0.839656412601471, \"dimension\": 4, \"position\": 73}, {\"embedding\": -0.7434144616127014, \"dimension\": 4, \"position\": 74}, {\"embedding\": -0.6285378336906433, \"dimension\": 4, \"position\": 75}, {\"embedding\": -0.4979061186313629, \"dimension\": 4, \"position\": 76}, {\"embedding\": -0.3547937273979187, \"dimension\": 4, \"position\": 77}, {\"embedding\": -0.20278796553611755, \"dimension\": 4, \"position\": 78}, {\"embedding\": -0.04569905996322632, \"dimension\": 4, \"position\": 79}, {\"embedding\": 0.11253630369901657, \"dimension\": 4, \"position\": 80}, {\"embedding\": 0.2679498493671417, \"dimension\": 4, \"position\": 81}, {\"embedding\": 0.4166468679904938, \"dimension\": 4, \"position\": 82}, {\"embedding\": 0.5549001097679138, \"dimension\": 4, \"position\": 83}, {\"embedding\": 0.6792440414428711, \"dimension\": 4, \"position\": 84}, {\"embedding\": 0.7865618467330933, \"dimension\": 4, \"position\": 85}, {\"embedding\": 0.8741634488105774, \"dimension\": 4, \"position\": 86}, {\"embedding\": 0.9398530125617981, \"dimension\": 4, \"position\": 87}, {\"embedding\": 0.9819839596748352, \"dimension\": 4, \"position\": 88}, {\"embedding\": 0.9995002150535583, \"dimension\": 4, \"position\": 89}, {\"embedding\": 0.9919626712799072, \"dimension\": 4, \"position\": 90}, {\"embedding\": 0.959559977054596, \"dimension\": 4, \"position\": 91}, {\"embedding\": 0.903104841709137, \"dimension\": 4, \"position\": 92}, {\"embedding\": 0.8240122199058533, \"dimension\": 4, \"position\": 93}, {\"embedding\": 0.7242646217346191, \"dimension\": 4, \"position\": 94}, {\"embedding\": 0.6063624024391174, \"dimension\": 4, \"position\": 95}, {\"embedding\": 0.4732609689235687, \"dimension\": 4, \"position\": 96}, {\"embedding\": 0.32829657196998596, \"dimension\": 4, \"position\": 97}, {\"embedding\": 0.17510302364826202, \"dimension\": 4, \"position\": 98}, {\"embedding\": 0.01752028614282608, \"dimension\": 4, \"position\": 99}, {\"embedding\": 1.0, \"dimension\": 5, \"position\": 0}, {\"embedding\": 0.9874668121337891, \"dimension\": 5, \"position\": 1}, {\"embedding\": 0.9501814842224121, \"dimension\": 5, \"position\": 2}, {\"embedding\": 0.8890786170959473, \"dimension\": 5, \"position\": 3}, {\"embedding\": 0.805689811706543, \"dimension\": 5, \"position\": 4}, {\"embedding\": 0.7021052241325378, \"dimension\": 5, \"position\": 5}, {\"embedding\": 0.5809215307235718, \"dimension\": 5, \"position\": 6}, {\"embedding\": 0.44517630338668823, \"dimension\": 5, \"position\": 7}, {\"embedding\": 0.2982720732688904, \"dimension\": 5, \"position\": 8}, {\"embedding\": 0.14389123022556305, \"dimension\": 5, \"position\": 9}, {\"embedding\": -0.01409643329679966, \"dimension\": 5, \"position\": 10}, {\"embedding\": -0.1717306226491928, \"dimension\": 5, \"position\": 11}, {\"embedding\": -0.32506027817726135, \"dimension\": 5, \"position\": 12}, {\"embedding\": -0.47024187445640564, \"dimension\": 5, \"position\": 13}, {\"embedding\": -0.6036361455917358, \"dimension\": 5, \"position\": 14}, {\"embedding\": -0.7218996286392212, \"dimension\": 5, \"position\": 15}, {\"embedding\": -0.8220675587654114, \"dimension\": 5, \"position\": 16}, {\"embedding\": -0.9016293287277222, \"dimension\": 5, \"position\": 17}, {\"embedding\": -0.9585906267166138, \"dimension\": 5, \"position\": 18}, {\"embedding\": -0.9915235042572021, \"dimension\": 5, \"position\": 19}, {\"embedding\": -0.9996025562286377, \"dimension\": 5, \"position\": 20}, {\"embedding\": -0.9826252460479736, \"dimension\": 5, \"position\": 21}, {\"embedding\": -0.941017210483551, \"dimension\": 5, \"position\": 22}, {\"embedding\": -0.8758211731910706, \"dimension\": 5, \"position\": 23}, {\"embedding\": -0.788671612739563, \"dimension\": 5, \"position\": 24}, {\"embedding\": -0.6817529797554016, \"dimension\": 5, \"position\": 25}, {\"embedding\": -0.5577451586723328, \"dimension\": 5, \"position\": 26}, {\"embedding\": -0.4197568893432617, \"dimension\": 5, \"position\": 27}, {\"embedding\": -0.27124688029289246, \"dimension\": 5, \"position\": 28}, {\"embedding\": -0.11593768745660782, \"dimension\": 5, \"position\": 29}, {\"embedding\": 0.042278096079826355, \"dimension\": 5, \"position\": 30}, {\"embedding\": 0.19943365454673767, \"dimension\": 5, \"position\": 31}, {\"embedding\": 0.3515901565551758, \"dimension\": 5, \"position\": 32}, {\"embedding\": 0.4949335753917694, \"dimension\": 5, \"position\": 33}, {\"embedding\": 0.6258708238601685, \"dimension\": 5, \"position\": 34}, {\"embedding\": 0.7411201596260071, \"dimension\": 5, \"position\": 35}, {\"embedding\": 0.8377919793128967, \"dimension\": 5, \"position\": 36}, {\"embedding\": 0.9134634733200073, \"dimension\": 5, \"position\": 37}, {\"embedding\": 0.9662377834320068, \"dimension\": 5, \"position\": 38}, {\"embedding\": 0.994792103767395, \"dimension\": 5, \"position\": 39}, {\"embedding\": 0.9984106421470642, \"dimension\": 5, \"position\": 40}, {\"embedding\": 0.9770026803016663, \"dimension\": 5, \"position\": 41}, {\"embedding\": 0.931104838848114, \"dimension\": 5, \"position\": 42}, {\"embedding\": 0.8618676662445068, \"dimension\": 5, \"position\": 43}, {\"embedding\": 0.7710266709327698, \"dimension\": 5, \"position\": 44}, {\"embedding\": 0.6608588695526123, \"dimension\": 5, \"position\": 45}, {\"embedding\": 0.5341253876686096, \"dimension\": 5, \"position\": 46}, {\"embedding\": 0.3940037488937378, \"dimension\": 5, \"position\": 47}, {\"embedding\": 0.24400585889816284, \"dimension\": 5, \"position\": 48}, {\"embedding\": 0.08789165318012238, \"dimension\": 5, \"position\": 49}, {\"embedding\": -0.07042567431926727, \"dimension\": 5, \"position\": 50}, {\"embedding\": -0.2269781529903412, \"dimension\": 5, \"position\": 51}, {\"embedding\": -0.37784066796302795, \"dimension\": 5, \"position\": 52}, {\"embedding\": -0.5192320942878723, \"dimension\": 5, \"position\": 53}, {\"embedding\": -0.6476082801818848, \"dimension\": 5, \"position\": 54}, {\"embedding\": -0.7597513794898987, \"dimension\": 5, \"position\": 55}, {\"embedding\": -0.8528502583503723, \"dimension\": 5, \"position\": 56}, {\"embedding\": -0.9245713949203491, \"dimension\": 5, \"position\": 57}, {\"embedding\": -0.9731168746948242, \"dimension\": 5, \"position\": 58}, {\"embedding\": -0.9972700476646423, \"dimension\": 5, \"position\": 59}, {\"embedding\": -0.9964251518249512, \"dimension\": 5, \"position\": 60}, {\"embedding\": -0.9706035256385803, \"dimension\": 5, \"position\": 61}, {\"embedding\": -0.9204524159431458, \"dimension\": 5, \"position\": 62}, {\"embedding\": -0.8472290635108948, \"dimension\": 5, \"position\": 63}, {\"embedding\": -0.7527687549591064, \"dimension\": 5, \"position\": 64}, {\"embedding\": -0.6394393444061279, \"dimension\": 5, \"position\": 65}, {\"embedding\": -0.5100815296173096, \"dimension\": 5, \"position\": 66}, {\"embedding\": -0.3679378628730774, \"dimension\": 5, \"position\": 67}, {\"embedding\": -0.2165713608264923, \"dimension\": 5, \"position\": 68}, {\"embedding\": -0.05977622792124748, \"dimension\": 5, \"position\": 69}, {\"embedding\": 0.09851823002099991, \"dimension\": 5, \"position\": 70}, {\"embedding\": 0.254342257976532, \"dimension\": 5, \"position\": 71}, {\"embedding\": 0.4037908613681793, \"dimension\": 5, \"position\": 72}, {\"embedding\": 0.543117880821228, \"dimension\": 5, \"position\": 73}, {\"embedding\": 0.6688309907913208, \"dimension\": 5, \"position\": 74}, {\"embedding\": 0.7777789831161499, \"dimension\": 5, \"position\": 75}, {\"embedding\": 0.8672309517860413, \"dimension\": 5, \"position\": 76}, {\"embedding\": 0.9349446296691895, \"dimension\": 5, \"position\": 77}, {\"embedding\": 0.9792226552963257, \"dimension\": 5, \"position\": 78}, {\"embedding\": 0.998955249786377, \"dimension\": 5, \"position\": 79}, {\"embedding\": 0.9936476349830627, \"dimension\": 5, \"position\": 80}, {\"embedding\": 0.9634328484535217, \"dimension\": 5, \"position\": 81}, {\"embedding\": 0.9090684056282043, \"dimension\": 5, \"position\": 82}, {\"embedding\": 0.8319169878959656, \"dimension\": 5, \"position\": 83}, {\"embedding\": 0.733912467956543, \"dimension\": 5, \"position\": 84}, {\"embedding\": 0.617511510848999, \"dimension\": 5, \"position\": 85}, {\"embedding\": 0.4856317937374115, \"dimension\": 5, \"position\": 86}, {\"embedding\": 0.3415791094303131, \"dimension\": 5, \"position\": 87}, {\"embedding\": 0.18896427750587463, \"dimension\": 5, \"position\": 88}, {\"embedding\": 0.0316128134727478, \"dimension\": 5, \"position\": 89}, {\"embedding\": -0.12653106451034546, \"dimension\": 5, \"position\": 90}, {\"embedding\": -0.28150418400764465, \"dimension\": 5, \"position\": 91}, {\"embedding\": -0.4294200837612152, \"dimension\": 5, \"position\": 92}, {\"embedding\": -0.5665720105171204, \"dimension\": 5, \"position\": 93}, {\"embedding\": -0.6895220875740051, \"dimension\": 5, \"position\": 94}, {\"embedding\": -0.7951884269714355, \"dimension\": 5, \"position\": 95}, {\"embedding\": -0.880922257900238, \"dimension\": 5, \"position\": 96}, {\"embedding\": -0.9445747137069702, \"dimension\": 5, \"position\": 97}, {\"embedding\": -0.9845501184463501, \"dimension\": 5, \"position\": 98}, {\"embedding\": -0.9998465180397034, \"dimension\": 5, \"position\": 99}, {\"embedding\": 0.0, \"dimension\": 6, \"position\": 0}, {\"embedding\": 0.06305388361215591, \"dimension\": 6, \"position\": 1}, {\"embedding\": 0.12585683166980743, \"dimension\": 6, \"position\": 2}, {\"embedding\": 0.18815888464450836, \"dimension\": 6, \"position\": 3}, {\"embedding\": 0.24971213936805725, \"dimension\": 6, \"position\": 4}, {\"embedding\": 0.31027159094810486, \"dimension\": 6, \"position\": 5}, {\"embedding\": 0.3695962131023407, \"dimension\": 6, \"position\": 6}, {\"embedding\": 0.4274499714374542, \"dimension\": 6, \"position\": 7}, {\"embedding\": 0.4836025834083557, \"dimension\": 6, \"position\": 8}, {\"embedding\": 0.5378305315971375, \"dimension\": 6, \"position\": 9}, {\"embedding\": 0.5899181365966797, \"dimension\": 6, \"position\": 10}, {\"embedding\": 0.6396579146385193, \"dimension\": 6, \"position\": 11}, {\"embedding\": 0.6868520379066467, \"dimension\": 6, \"position\": 12}, {\"embedding\": 0.7313126921653748, \"dimension\": 6, \"position\": 13}, {\"embedding\": 0.7728629112243652, \"dimension\": 6, \"position\": 14}, {\"embedding\": 0.8113372921943665, \"dimension\": 6, \"position\": 15}, {\"embedding\": 0.8465827703475952, \"dimension\": 6, \"position\": 16}, {\"embedding\": 0.8784590363502502, \"dimension\": 6, \"position\": 17}, {\"embedding\": 0.9068393111228943, \"dimension\": 6, \"position\": 18}, {\"embedding\": 0.9316105246543884, \"dimension\": 6, \"position\": 19}, {\"embedding\": 0.9526742100715637, \"dimension\": 6, \"position\": 20}, {\"embedding\": 0.9699464440345764, \"dimension\": 6, \"position\": 21}, {\"embedding\": 0.9833585619926453, \"dimension\": 6, \"position\": 22}, {\"embedding\": 0.9928570985794067, \"dimension\": 6, \"position\": 23}, {\"embedding\": 0.9984043836593628, \"dimension\": 6, \"position\": 24}, {\"embedding\": 0.999978244304657, \"dimension\": 6, \"position\": 25}, {\"embedding\": 0.9975724220275879, \"dimension\": 6, \"position\": 26}, {\"embedding\": 0.9911965131759644, \"dimension\": 6, \"position\": 27}, {\"embedding\": 0.9808759093284607, \"dimension\": 6, \"position\": 28}, {\"embedding\": 0.9666516184806824, \"dimension\": 6, \"position\": 29}, {\"embedding\": 0.9485803842544556, \"dimension\": 6, \"position\": 30}, {\"embedding\": 0.9267339110374451, \"dimension\": 6, \"position\": 31}, {\"embedding\": 0.9011994004249573, \"dimension\": 6, \"position\": 32}, {\"embedding\": 0.8720782399177551, \"dimension\": 6, \"position\": 33}, {\"embedding\": 0.8394865393638611, \"dimension\": 6, \"position\": 34}, {\"embedding\": 0.8035537600517273, \"dimension\": 6, \"position\": 35}, {\"embedding\": 0.7644230127334595, \"dimension\": 6, \"position\": 36}, {\"embedding\": 0.7222501039505005, \"dimension\": 6, \"position\": 37}, {\"embedding\": 0.6772029399871826, \"dimension\": 6, \"position\": 38}, {\"embedding\": 0.6294605731964111, \"dimension\": 6, \"position\": 39}, {\"embedding\": 0.57921302318573, \"dimension\": 6, \"position\": 40}, {\"embedding\": 0.5266605615615845, \"dimension\": 6, \"position\": 41}, {\"embedding\": 0.4720119535923004, \"dimension\": 6, \"position\": 42}, {\"embedding\": 0.41548484563827515, \"dimension\": 6, \"position\": 43}, {\"embedding\": 0.357304185628891, \"dimension\": 6, \"position\": 44}, {\"embedding\": 0.29770180583000183, \"dimension\": 6, \"position\": 45}, {\"embedding\": 0.23691439628601074, \"dimension\": 6, \"position\": 46}, {\"embedding\": 0.17518411576747894, \"dimension\": 6, \"position\": 47}, {\"embedding\": 0.1127568930387497, \"dimension\": 6, \"position\": 48}, {\"embedding\": 0.04988069087266922, \"dimension\": 6, \"position\": 49}, {\"embedding\": -0.013194027356803417, \"dimension\": 6, \"position\": 50}, {\"embedding\": -0.07621623575687408, \"dimension\": 6, \"position\": 51}, {\"embedding\": -0.1389348804950714, \"dimension\": 6, \"position\": 52}, {\"embedding\": -0.20110084116458893, \"dimension\": 6, \"position\": 53}, {\"embedding\": -0.2624664604663849, \"dimension\": 6, \"position\": 54}, {\"embedding\": -0.3227875530719757, \"dimension\": 6, \"position\": 55}, {\"embedding\": -0.3818237781524658, \"dimension\": 6, \"position\": 56}, {\"embedding\": -0.4393406808376312, \"dimension\": 6, \"position\": 57}, {\"embedding\": -0.49510911107063293, \"dimension\": 6, \"position\": 58}, {\"embedding\": -0.5489069223403931, \"dimension\": 6, \"position\": 59}, {\"embedding\": -0.6005204319953918, \"dimension\": 6, \"position\": 60}, {\"embedding\": -0.6497439742088318, \"dimension\": 6, \"position\": 61}, {\"embedding\": -0.6963817477226257, \"dimension\": 6, \"position\": 62}, {\"embedding\": -0.7402478456497192, \"dimension\": 6, \"position\": 63}, {\"embedding\": -0.7811681628227234, \"dimension\": 6, \"position\": 64}, {\"embedding\": -0.8189795017242432, \"dimension\": 6, \"position\": 65}, {\"embedding\": -0.8535317778587341, \"dimension\": 6, \"position\": 66}, {\"embedding\": -0.8846868872642517, \"dimension\": 6, \"position\": 67}, {\"embedding\": -0.9123212099075317, \"dimension\": 6, \"position\": 68}, {\"embedding\": -0.936324954032898, \"dimension\": 6, \"position\": 69}, {\"embedding\": -0.9566020965576172, \"dimension\": 6, \"position\": 70}, {\"embedding\": -0.9730724096298218, \"dimension\": 6, \"position\": 71}, {\"embedding\": -0.9856699705123901, \"dimension\": 6, \"position\": 72}, {\"embedding\": -0.9943448305130005, \"dimension\": 6, \"position\": 73}, {\"embedding\": -0.9990625381469727, \"dimension\": 6, \"position\": 74}, {\"embedding\": -0.9998041391372681, \"dimension\": 6, \"position\": 75}, {\"embedding\": -0.9965668320655823, \"dimension\": 6, \"position\": 76}, {\"embedding\": -0.9893633723258972, \"dimension\": 6, \"position\": 77}, {\"embedding\": -0.9782225489616394, \"dimension\": 6, \"position\": 78}, {\"embedding\": -0.963188648223877, \"dimension\": 6, \"position\": 79}, {\"embedding\": -0.9443213939666748, \"dimension\": 6, \"position\": 80}, {\"embedding\": -0.9216960668563843, \"dimension\": 6, \"position\": 81}, {\"embedding\": -0.8954026699066162, \"dimension\": 6, \"position\": 82}, {\"embedding\": -0.8655455708503723, \"dimension\": 6, \"position\": 83}, {\"embedding\": -0.8322440981864929, \"dimension\": 6, \"position\": 84}, {\"embedding\": -0.795630156993866, \"dimension\": 6, \"position\": 85}, {\"embedding\": -0.7558501362800598, \"dimension\": 6, \"position\": 86}, {\"embedding\": -0.7130619883537292, \"dimension\": 6, \"position\": 87}, {\"embedding\": -0.6674357056617737, \"dimension\": 6, \"position\": 88}, {\"embedding\": -0.6191535592079163, \"dimension\": 6, \"position\": 89}, {\"embedding\": -0.5684073567390442, \"dimension\": 6, \"position\": 90}, {\"embedding\": -0.5153986215591431, \"dimension\": 6, \"position\": 91}, {\"embedding\": -0.46033912897109985, \"dimension\": 6, \"position\": 92}, {\"embedding\": -0.40344759821891785, \"dimension\": 6, \"position\": 93}, {\"embedding\": -0.34495002031326294, \"dimension\": 6, \"position\": 94}, {\"embedding\": -0.28508007526397705, \"dimension\": 6, \"position\": 95}, {\"embedding\": -0.22407560050487518, \"dimension\": 6, \"position\": 96}, {\"embedding\": -0.1621788740158081, \"dimension\": 6, \"position\": 97}, {\"embedding\": -0.09963719546794891, \"dimension\": 6, \"position\": 98}, {\"embedding\": -0.03669850528240204, \"dimension\": 6, \"position\": 99}, {\"embedding\": 1.0, \"dimension\": 7, \"position\": 0}, {\"embedding\": 0.9980100989341736, \"dimension\": 7, \"position\": 1}, {\"embedding\": 0.992048442363739, \"dimension\": 7, \"position\": 2}, {\"embedding\": 0.9821385741233826, \"dimension\": 7, \"position\": 3}, {\"embedding\": 0.9683201313018799, \"dimension\": 7, \"position\": 4}, {\"embedding\": 0.9506479501724243, \"dimension\": 7, \"position\": 5}, {\"embedding\": 0.9291924834251404, \"dimension\": 7, \"position\": 6}, {\"embedding\": 0.9040390253067017, \"dimension\": 7, \"position\": 7}, {\"embedding\": 0.8752877116203308, \"dimension\": 7, \"position\": 8}, {\"embedding\": 0.8430529832839966, \"dimension\": 7, \"position\": 9}, {\"embedding\": 0.8074630498886108, \"dimension\": 7, \"position\": 10}, {\"embedding\": 0.7686597108840942, \"dimension\": 7, \"position\": 11}, {\"embedding\": 0.7267972826957703, \"dimension\": 7, \"position\": 12}, {\"embedding\": 0.6820423603057861, \"dimension\": 7, \"position\": 13}, {\"embedding\": 0.6345730423927307, \"dimension\": 7, \"position\": 14}, {\"embedding\": 0.5845783352851868, \"dimension\": 7, \"position\": 15}, {\"embedding\": 0.532257080078125, \"dimension\": 7, \"position\": 16}, {\"embedding\": 0.47781768441200256, \"dimension\": 7, \"position\": 17}, {\"embedding\": 0.4214765727519989, \"dimension\": 7, \"position\": 18}, {\"embedding\": 0.36345821619033813, \"dimension\": 7, \"position\": 19}, {\"embedding\": 0.30399325489997864, \"dimension\": 7, \"position\": 20}, {\"embedding\": 0.243318572640419, \"dimension\": 7, \"position\": 21}, {\"embedding\": 0.18167544901371002, \"dimension\": 7, \"position\": 22}, {\"embedding\": 0.11930941045284271, \"dimension\": 7, \"position\": 23}, {\"embedding\": 0.056468550115823746, \"dimension\": 7, \"position\": 24}, {\"embedding\": -0.006597157102078199, \"dimension\": 7, \"position\": 25}, {\"embedding\": -0.06963648647069931, \"dimension\": 7, \"position\": 26}, {\"embedding\": -0.1323987990617752, \"dimension\": 7, \"position\": 27}, {\"embedding\": -0.1946340948343277, \"dimension\": 7, \"position\": 28}, {\"embedding\": -0.25609490275382996, \"dimension\": 7, \"position\": 29}, {\"embedding\": -0.31653639674186707, \"dimension\": 7, \"position\": 30}, {\"embedding\": -0.37571826577186584, \"dimension\": 7, \"position\": 31}, {\"embedding\": -0.43340474367141724, \"dimension\": 7, \"position\": 32}, {\"embedding\": -0.4893665015697479, \"dimension\": 7, \"position\": 33}, {\"embedding\": -0.5433804988861084, \"dimension\": 7, \"position\": 34}, {\"embedding\": -0.5952321887016296, \"dimension\": 7, \"position\": 35}, {\"embedding\": -0.6447150111198425, \"dimension\": 7, \"position\": 36}, {\"embedding\": -0.6916319727897644, \"dimension\": 7, \"position\": 37}, {\"embedding\": -0.7357962727546692, \"dimension\": 7, \"position\": 38}, {\"embedding\": -0.7770324349403381, \"dimension\": 7, \"position\": 39}, {\"embedding\": -0.815176248550415, \"dimension\": 7, \"position\": 40}, {\"embedding\": -0.8500756621360779, \"dimension\": 7, \"position\": 41}, {\"embedding\": -0.8815921545028687, \"dimension\": 7, \"position\": 42}, {\"embedding\": -0.9096000790596008, \"dimension\": 7, \"position\": 43}, {\"embedding\": -0.933988094329834, \"dimension\": 7, \"position\": 44}, {\"embedding\": -0.9546589255332947, \"dimension\": 7, \"position\": 45}, {\"embedding\": -0.971530556678772, \"dimension\": 7, \"position\": 46}, {\"embedding\": -0.9845356941223145, \"dimension\": 7, \"position\": 47}, {\"embedding\": -0.9936226010322571, \"dimension\": 7, \"position\": 48}, {\"embedding\": -0.998755156993866, \"dimension\": 7, \"position\": 49}, {\"embedding\": -0.9999129772186279, \"dimension\": 7, \"position\": 50}, {\"embedding\": -0.9970912933349609, \"dimension\": 7, \"position\": 51}, {\"embedding\": -0.9903014898300171, \"dimension\": 7, \"position\": 52}, {\"embedding\": -0.9795705676078796, \"dimension\": 7, \"position\": 53}, {\"embedding\": -0.9649410843849182, \"dimension\": 7, \"position\": 54}, {\"embedding\": -0.9464714527130127, \"dimension\": 7, \"position\": 55}, {\"embedding\": -0.9242351651191711, \"dimension\": 7, \"position\": 56}, {\"embedding\": -0.8983205556869507, \"dimension\": 7, \"position\": 57}, {\"embedding\": -0.8688308000564575, \"dimension\": 7, \"position\": 58}, {\"embedding\": -0.8358834981918335, \"dimension\": 7, \"position\": 59}, {\"embedding\": -0.7996094226837158, \"dimension\": 7, \"position\": 60}, {\"embedding\": -0.7601531147956848, \"dimension\": 7, \"position\": 61}, {\"embedding\": -0.7176715731620789, \"dimension\": 7, \"position\": 62}, {\"embedding\": -0.6723340749740601, \"dimension\": 7, \"position\": 63}, {\"embedding\": -0.6243206262588501, \"dimension\": 7, \"position\": 64}, {\"embedding\": -0.5738227963447571, \"dimension\": 7, \"position\": 65}, {\"embedding\": -0.5210408568382263, \"dimension\": 7, \"position\": 66}, {\"embedding\": -0.46618568897247314, \"dimension\": 7, \"position\": 67}, {\"embedding\": -0.4094752371311188, \"dimension\": 7, \"position\": 68}, {\"embedding\": -0.3511347472667694, \"dimension\": 7, \"position\": 69}, {\"embedding\": -0.2913972735404968, \"dimension\": 7, \"position\": 70}, {\"embedding\": -0.23049965500831604, \"dimension\": 7, \"position\": 71}, {\"embedding\": -0.1686851680278778, \"dimension\": 7, \"position\": 72}, {\"embedding\": -0.10619935393333435, \"dimension\": 7, \"position\": 73}, {\"embedding\": -0.04329042136669159, \"dimension\": 7, \"position\": 74}, {\"embedding\": 0.019790323451161385, \"dimension\": 7, \"position\": 75}, {\"embedding\": 0.08279230445623398, \"dimension\": 7, \"position\": 76}, {\"embedding\": 0.14546526968479156, \"dimension\": 7, \"position\": 77}, {\"embedding\": 0.20755885541439056, \"dimension\": 7, \"position\": 78}, {\"embedding\": 0.2688263952732086, \"dimension\": 7, \"position\": 79}, {\"embedding\": 0.3290245532989502, \"dimension\": 7, \"position\": 80}, {\"embedding\": 0.3879128098487854, \"dimension\": 7, \"position\": 81}, {\"embedding\": 0.4452572762966156, \"dimension\": 7, \"position\": 82}, {\"embedding\": 0.5008301138877869, \"dimension\": 7, \"position\": 83}, {\"embedding\": 0.5544094443321228, \"dimension\": 7, \"position\": 84}, {\"embedding\": 0.605782687664032, \"dimension\": 7, \"position\": 85}, {\"embedding\": 0.6547446846961975, \"dimension\": 7, \"position\": 86}, {\"embedding\": 0.7011010050773621, \"dimension\": 7, \"position\": 87}, {\"embedding\": 0.7446674108505249, \"dimension\": 7, \"position\": 88}, {\"embedding\": 0.7852699160575867, \"dimension\": 7, \"position\": 89}, {\"embedding\": 0.8227472901344299, \"dimension\": 7, \"position\": 90}, {\"embedding\": 0.856950581073761, \"dimension\": 7, \"position\": 91}, {\"embedding\": 0.8877431154251099, \"dimension\": 7, \"position\": 92}, {\"embedding\": 0.9150027632713318, \"dimension\": 7, \"position\": 93}, {\"embedding\": 0.9386210441589355, \"dimension\": 7, \"position\": 94}, {\"embedding\": 0.9585037231445312, \"dimension\": 7, \"position\": 95}, {\"embedding\": 0.9745717644691467, \"dimension\": 7, \"position\": 96}, {\"embedding\": 0.9867613911628723, \"dimension\": 7, \"position\": 97}, {\"embedding\": 0.9950238466262817, \"dimension\": 7, \"position\": 98}, {\"embedding\": 0.9993264079093933, \"dimension\": 7, \"position\": 99}]}}, {\"mode\": \"vega-lite\"});\n",
              "</script>"
            ],
            "text/plain": [
              "alt.Chart(...)"
            ]
          },
          "metadata": {},
          "execution_count": 320
        }
      ]
    },
    {
      "cell_type": "code",
      "source": [
        "import matplotlib\n",
        "import matplotlib.pyplot as plt\n",
        "plt.set_cmap('cividis')\n",
        "%matplotlib inline\n",
        "from IPython.display import set_matplotlib_formats\n",
        "set_matplotlib_formats('svg', 'pdf')\n",
        "from matplotlib.colors import to_rgb\n",
        "matplotlib.rcParams['lines.linewidth']=2.0\n",
        "import seaborn as sns\n",
        "sns.reset_orig()"
      ],
      "metadata": {
        "colab": {
          "base_uri": "https://localhost:8080/",
          "height": 89
        },
        "id": "qWri-TnwN3io",
        "outputId": "a8bd5f7a-c8a0-4aef-d1c2-fc189bc82d2f"
      },
      "execution_count": null,
      "outputs": [
        {
          "output_type": "stream",
          "name": "stderr",
          "text": [
            "<ipython-input-148-e9e448fab539>:6: DeprecationWarning: `set_matplotlib_formats` is deprecated since IPython 7.23, directly use `matplotlib_inline.backend_inline.set_matplotlib_formats()`\n",
            "  set_matplotlib_formats('svg', 'pdf')\n"
          ]
        },
        {
          "output_type": "display_data",
          "data": {
            "text/plain": [
              "<Figure size 640x480 with 0 Axes>"
            ]
          },
          "metadata": {}
        }
      ]
    },
    {
      "cell_type": "code",
      "source": [
        "encod_block = SinusoidalPosEmb(d_model=48, seq_len=96, dropout_rate=0.0)\n",
        "#pe = jnp.transpose(jnp.squeeze(encod_block.pos_emb))\n",
        "pe = jnp.transpose(encod_block.pos_emb)\n",
        "\n",
        "fig, ax = plt.subplots(nrows=1, ncols=1, figsize=(8,3))\n",
        "pos=ax.imshow(pe, cmap=\"RdGy\", extent=(1, pe.shape[1]+1, pe.shape[0]+1, 1))\n",
        "fig.colorbar(pos, ax=ax)\n",
        "ax.set_xlabel(\"Position\")\n",
        "ax.set_ylabel(\"Embedding dimension\")\n",
        "ax.set_title(\"Sinusoidal positional encoding\")\n",
        "\n",
        "ax.set_xticks([1]+[i*10 for i in range(1, 1+pe.shape[1] //10)])\n",
        "ax.set_yticks([1]+[i*10 for i in range(1,1+pe.shape[0]//10)])\n",
        "\n",
        "plt.show()"
      ],
      "metadata": {
        "colab": {
          "base_uri": "https://localhost:8080/",
          "height": 323
        },
        "id": "xTbwPZx804R7",
        "outputId": "c7eff79d-1b4b-444b-a77e-d9bff6dad79b"
      },
      "execution_count": null,
      "outputs": [
        {
          "output_type": "display_data",
          "data": {
            "text/plain": [
              "<Figure size 800x300 with 2 Axes>"
            ],
            "image/svg+xml": "<?xml version=\"1.0\" encoding=\"utf-8\" standalone=\"no\"?>\n<!DOCTYPE svg PUBLIC \"-//W3C//DTD SVG 1.1//EN\"\n  \"http://www.w3.org/Graphics/SVG/1.1/DTD/svg11.dtd\">\n<svg xmlns:xlink=\"http://www.w3.org/1999/xlink\" width=\"448.724438pt\" height=\"226.194375pt\" viewBox=\"0 0 448.724438 226.194375\" xmlns=\"http://www.w3.org/2000/svg\" version=\"1.1\">\n <metadata>\n  <rdf:RDF xmlns:dc=\"http://purl.org/dc/elements/1.1/\" xmlns:cc=\"http://creativecommons.org/ns#\" xmlns:rdf=\"http://www.w3.org/1999/02/22-rdf-syntax-ns#\">\n   <cc:Work>\n    <dc:type rdf:resource=\"http://purl.org/dc/dcmitype/StillImage\"/>\n    <dc:date>2023-07-06T23:46:13.052526</dc:date>\n    <dc:format>image/svg+xml</dc:format>\n    <dc:creator>\n     <cc:Agent>\n      <dc:title>Matplotlib v3.7.1, https://matplotlib.org/</dc:title>\n     </cc:Agent>\n    </dc:creator>\n   </cc:Work>\n  </rdf:RDF>\n </metadata>\n <defs>\n  <style type=\"text/css\">*{stroke-linejoin: round; stroke-linecap: butt}</style>\n </defs>\n <g id=\"figure_1\">\n  <g id=\"patch_1\">\n   <path d=\"M 0 226.194375 \nL 448.724438 226.194375 \nL 448.724438 0 \nL 0 0 \nz\n\" style=\"fill: #ffffff\"/>\n  </g>\n  <g id=\"axes_1\">\n   <g id=\"patch_2\">\n    <path d=\"M 40.603125 188.638125 \nL 373.243125 188.638125 \nL 373.243125 22.318125 \nL 40.603125 22.318125 \nz\n\" style=\"fill: #ffffff\"/>\n   </g>\n   <g clip-path=\"url(#p311892b20e)\">\n    <image xlink:href=\"data:image/png;base64,\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\" id=\"image98c37b9529\" transform=\"scale(1 -1) translate(0 -166.32)\" x=\"40.603125\" y=\"-22.318125\" width=\"332.64\" height=\"166.32\"/>\n   </g>\n   <g id=\"matplotlib.axis_1\">\n    <g id=\"xtick_1\">\n     <g id=\"line2d_1\">\n      <defs>\n       <path id=\"m72cae1c7f3\" d=\"M 0 0 \nL 0 3.5 \n\" style=\"stroke: #000000; stroke-width: 0.8\"/>\n      </defs>\n      <g>\n       <use xlink:href=\"#m72cae1c7f3\" x=\"40.603125\" y=\"188.638125\" style=\"stroke: #000000; stroke-width: 0.8\"/>\n      </g>\n     </g>\n     <g id=\"text_1\">\n      <!-- 1 -->\n      <g transform=\"translate(37.421875 203.236563) scale(0.1 -0.1)\">\n       <defs>\n        <path id=\"DejaVuSans-31\" d=\"M 794 531 \nL 1825 531 \nL 1825 4091 \nL 703 3866 \nL 703 4441 \nL 1819 4666 \nL 2450 4666 \nL 2450 531 \nL 3481 531 \nL 3481 0 \nL 794 0 \nL 794 531 \nz\n\" transform=\"scale(0.015625)\"/>\n       </defs>\n       <use xlink:href=\"#DejaVuSans-31\"/>\n      </g>\n     </g>\n    </g>\n    <g id=\"xtick_2\">\n     <g id=\"line2d_2\">\n      <g>\n       <use xlink:href=\"#m72cae1c7f3\" x=\"71.788125\" y=\"188.638125\" style=\"stroke: #000000; stroke-width: 0.8\"/>\n      </g>\n     </g>\n     <g id=\"text_2\">\n      <!-- 10 -->\n      <g transform=\"translate(65.425625 203.236563) scale(0.1 -0.1)\">\n       <defs>\n        <path id=\"DejaVuSans-30\" d=\"M 2034 4250 \nQ 1547 4250 1301 3770 \nQ 1056 3291 1056 2328 \nQ 1056 1369 1301 889 \nQ 1547 409 2034 409 \nQ 2525 409 2770 889 \nQ 3016 1369 3016 2328 \nQ 3016 3291 2770 3770 \nQ 2525 4250 2034 4250 \nz\nM 2034 4750 \nQ 2819 4750 3233 4129 \nQ 3647 3509 3647 2328 \nQ 3647 1150 3233 529 \nQ 2819 -91 2034 -91 \nQ 1250 -91 836 529 \nQ 422 1150 422 2328 \nQ 422 3509 836 4129 \nQ 1250 4750 2034 4750 \nz\n\" transform=\"scale(0.015625)\"/>\n       </defs>\n       <use xlink:href=\"#DejaVuSans-31\"/>\n       <use xlink:href=\"#DejaVuSans-30\" x=\"63.623047\"/>\n      </g>\n     </g>\n    </g>\n    <g id=\"xtick_3\">\n     <g id=\"line2d_3\">\n      <g>\n       <use xlink:href=\"#m72cae1c7f3\" x=\"106.438125\" y=\"188.638125\" style=\"stroke: #000000; stroke-width: 0.8\"/>\n      </g>\n     </g>\n     <g id=\"text_3\">\n      <!-- 20 -->\n      <g transform=\"translate(100.075625 203.236563) scale(0.1 -0.1)\">\n       <defs>\n        <path id=\"DejaVuSans-32\" d=\"M 1228 531 \nL 3431 531 \nL 3431 0 \nL 469 0 \nL 469 531 \nQ 828 903 1448 1529 \nQ 2069 2156 2228 2338 \nQ 2531 2678 2651 2914 \nQ 2772 3150 2772 3378 \nQ 2772 3750 2511 3984 \nQ 2250 4219 1831 4219 \nQ 1534 4219 1204 4116 \nQ 875 4013 500 3803 \nL 500 4441 \nQ 881 4594 1212 4672 \nQ 1544 4750 1819 4750 \nQ 2544 4750 2975 4387 \nQ 3406 4025 3406 3419 \nQ 3406 3131 3298 2873 \nQ 3191 2616 2906 2266 \nQ 2828 2175 2409 1742 \nQ 1991 1309 1228 531 \nz\n\" transform=\"scale(0.015625)\"/>\n       </defs>\n       <use xlink:href=\"#DejaVuSans-32\"/>\n       <use xlink:href=\"#DejaVuSans-30\" x=\"63.623047\"/>\n      </g>\n     </g>\n    </g>\n    <g id=\"xtick_4\">\n     <g id=\"line2d_4\">\n      <g>\n       <use xlink:href=\"#m72cae1c7f3\" x=\"141.088125\" y=\"188.638125\" style=\"stroke: #000000; stroke-width: 0.8\"/>\n      </g>\n     </g>\n     <g id=\"text_4\">\n      <!-- 30 -->\n      <g transform=\"translate(134.725625 203.236563) scale(0.1 -0.1)\">\n       <defs>\n        <path id=\"DejaVuSans-33\" d=\"M 2597 2516 \nQ 3050 2419 3304 2112 \nQ 3559 1806 3559 1356 \nQ 3559 666 3084 287 \nQ 2609 -91 1734 -91 \nQ 1441 -91 1130 -33 \nQ 819 25 488 141 \nL 488 750 \nQ 750 597 1062 519 \nQ 1375 441 1716 441 \nQ 2309 441 2620 675 \nQ 2931 909 2931 1356 \nQ 2931 1769 2642 2001 \nQ 2353 2234 1838 2234 \nL 1294 2234 \nL 1294 2753 \nL 1863 2753 \nQ 2328 2753 2575 2939 \nQ 2822 3125 2822 3475 \nQ 2822 3834 2567 4026 \nQ 2313 4219 1838 4219 \nQ 1578 4219 1281 4162 \nQ 984 4106 628 3988 \nL 628 4550 \nQ 988 4650 1302 4700 \nQ 1616 4750 1894 4750 \nQ 2613 4750 3031 4423 \nQ 3450 4097 3450 3541 \nQ 3450 3153 3228 2886 \nQ 3006 2619 2597 2516 \nz\n\" transform=\"scale(0.015625)\"/>\n       </defs>\n       <use xlink:href=\"#DejaVuSans-33\"/>\n       <use xlink:href=\"#DejaVuSans-30\" x=\"63.623047\"/>\n      </g>\n     </g>\n    </g>\n    <g id=\"xtick_5\">\n     <g id=\"line2d_5\">\n      <g>\n       <use xlink:href=\"#m72cae1c7f3\" x=\"175.738125\" y=\"188.638125\" style=\"stroke: #000000; stroke-width: 0.8\"/>\n      </g>\n     </g>\n     <g id=\"text_5\">\n      <!-- 40 -->\n      <g transform=\"translate(169.375625 203.236563) scale(0.1 -0.1)\">\n       <defs>\n        <path id=\"DejaVuSans-34\" d=\"M 2419 4116 \nL 825 1625 \nL 2419 1625 \nL 2419 4116 \nz\nM 2253 4666 \nL 3047 4666 \nL 3047 1625 \nL 3713 1625 \nL 3713 1100 \nL 3047 1100 \nL 3047 0 \nL 2419 0 \nL 2419 1100 \nL 313 1100 \nL 313 1709 \nL 2253 4666 \nz\n\" transform=\"scale(0.015625)\"/>\n       </defs>\n       <use xlink:href=\"#DejaVuSans-34\"/>\n       <use xlink:href=\"#DejaVuSans-30\" x=\"63.623047\"/>\n      </g>\n     </g>\n    </g>\n    <g id=\"xtick_6\">\n     <g id=\"line2d_6\">\n      <g>\n       <use xlink:href=\"#m72cae1c7f3\" x=\"210.388125\" y=\"188.638125\" style=\"stroke: #000000; stroke-width: 0.8\"/>\n      </g>\n     </g>\n     <g id=\"text_6\">\n      <!-- 50 -->\n      <g transform=\"translate(204.025625 203.236563) scale(0.1 -0.1)\">\n       <defs>\n        <path id=\"DejaVuSans-35\" d=\"M 691 4666 \nL 3169 4666 \nL 3169 4134 \nL 1269 4134 \nL 1269 2991 \nQ 1406 3038 1543 3061 \nQ 1681 3084 1819 3084 \nQ 2600 3084 3056 2656 \nQ 3513 2228 3513 1497 \nQ 3513 744 3044 326 \nQ 2575 -91 1722 -91 \nQ 1428 -91 1123 -41 \nQ 819 9 494 109 \nL 494 744 \nQ 775 591 1075 516 \nQ 1375 441 1709 441 \nQ 2250 441 2565 725 \nQ 2881 1009 2881 1497 \nQ 2881 1984 2565 2268 \nQ 2250 2553 1709 2553 \nQ 1456 2553 1204 2497 \nQ 953 2441 691 2322 \nL 691 4666 \nz\n\" transform=\"scale(0.015625)\"/>\n       </defs>\n       <use xlink:href=\"#DejaVuSans-35\"/>\n       <use xlink:href=\"#DejaVuSans-30\" x=\"63.623047\"/>\n      </g>\n     </g>\n    </g>\n    <g id=\"xtick_7\">\n     <g id=\"line2d_7\">\n      <g>\n       <use xlink:href=\"#m72cae1c7f3\" x=\"245.038125\" y=\"188.638125\" style=\"stroke: #000000; stroke-width: 0.8\"/>\n      </g>\n     </g>\n     <g id=\"text_7\">\n      <!-- 60 -->\n      <g transform=\"translate(238.675625 203.236563) scale(0.1 -0.1)\">\n       <defs>\n        <path id=\"DejaVuSans-36\" d=\"M 2113 2584 \nQ 1688 2584 1439 2293 \nQ 1191 2003 1191 1497 \nQ 1191 994 1439 701 \nQ 1688 409 2113 409 \nQ 2538 409 2786 701 \nQ 3034 994 3034 1497 \nQ 3034 2003 2786 2293 \nQ 2538 2584 2113 2584 \nz\nM 3366 4563 \nL 3366 3988 \nQ 3128 4100 2886 4159 \nQ 2644 4219 2406 4219 \nQ 1781 4219 1451 3797 \nQ 1122 3375 1075 2522 \nQ 1259 2794 1537 2939 \nQ 1816 3084 2150 3084 \nQ 2853 3084 3261 2657 \nQ 3669 2231 3669 1497 \nQ 3669 778 3244 343 \nQ 2819 -91 2113 -91 \nQ 1303 -91 875 529 \nQ 447 1150 447 2328 \nQ 447 3434 972 4092 \nQ 1497 4750 2381 4750 \nQ 2619 4750 2861 4703 \nQ 3103 4656 3366 4563 \nz\n\" transform=\"scale(0.015625)\"/>\n       </defs>\n       <use xlink:href=\"#DejaVuSans-36\"/>\n       <use xlink:href=\"#DejaVuSans-30\" x=\"63.623047\"/>\n      </g>\n     </g>\n    </g>\n    <g id=\"xtick_8\">\n     <g id=\"line2d_8\">\n      <g>\n       <use xlink:href=\"#m72cae1c7f3\" x=\"279.688125\" y=\"188.638125\" style=\"stroke: #000000; stroke-width: 0.8\"/>\n      </g>\n     </g>\n     <g id=\"text_8\">\n      <!-- 70 -->\n      <g transform=\"translate(273.325625 203.236563) scale(0.1 -0.1)\">\n       <defs>\n        <path id=\"DejaVuSans-37\" d=\"M 525 4666 \nL 3525 4666 \nL 3525 4397 \nL 1831 0 \nL 1172 0 \nL 2766 4134 \nL 525 4134 \nL 525 4666 \nz\n\" transform=\"scale(0.015625)\"/>\n       </defs>\n       <use xlink:href=\"#DejaVuSans-37\"/>\n       <use xlink:href=\"#DejaVuSans-30\" x=\"63.623047\"/>\n      </g>\n     </g>\n    </g>\n    <g id=\"xtick_9\">\n     <g id=\"line2d_9\">\n      <g>\n       <use xlink:href=\"#m72cae1c7f3\" x=\"314.338125\" y=\"188.638125\" style=\"stroke: #000000; stroke-width: 0.8\"/>\n      </g>\n     </g>\n     <g id=\"text_9\">\n      <!-- 80 -->\n      <g transform=\"translate(307.975625 203.236563) scale(0.1 -0.1)\">\n       <defs>\n        <path id=\"DejaVuSans-38\" d=\"M 2034 2216 \nQ 1584 2216 1326 1975 \nQ 1069 1734 1069 1313 \nQ 1069 891 1326 650 \nQ 1584 409 2034 409 \nQ 2484 409 2743 651 \nQ 3003 894 3003 1313 \nQ 3003 1734 2745 1975 \nQ 2488 2216 2034 2216 \nz\nM 1403 2484 \nQ 997 2584 770 2862 \nQ 544 3141 544 3541 \nQ 544 4100 942 4425 \nQ 1341 4750 2034 4750 \nQ 2731 4750 3128 4425 \nQ 3525 4100 3525 3541 \nQ 3525 3141 3298 2862 \nQ 3072 2584 2669 2484 \nQ 3125 2378 3379 2068 \nQ 3634 1759 3634 1313 \nQ 3634 634 3220 271 \nQ 2806 -91 2034 -91 \nQ 1263 -91 848 271 \nQ 434 634 434 1313 \nQ 434 1759 690 2068 \nQ 947 2378 1403 2484 \nz\nM 1172 3481 \nQ 1172 3119 1398 2916 \nQ 1625 2713 2034 2713 \nQ 2441 2713 2670 2916 \nQ 2900 3119 2900 3481 \nQ 2900 3844 2670 4047 \nQ 2441 4250 2034 4250 \nQ 1625 4250 1398 4047 \nQ 1172 3844 1172 3481 \nz\n\" transform=\"scale(0.015625)\"/>\n       </defs>\n       <use xlink:href=\"#DejaVuSans-38\"/>\n       <use xlink:href=\"#DejaVuSans-30\" x=\"63.623047\"/>\n      </g>\n     </g>\n    </g>\n    <g id=\"xtick_10\">\n     <g id=\"line2d_10\">\n      <g>\n       <use xlink:href=\"#m72cae1c7f3\" x=\"348.988125\" y=\"188.638125\" style=\"stroke: #000000; stroke-width: 0.8\"/>\n      </g>\n     </g>\n     <g id=\"text_10\">\n      <!-- 90 -->\n      <g transform=\"translate(342.625625 203.236563) scale(0.1 -0.1)\">\n       <defs>\n        <path id=\"DejaVuSans-39\" d=\"M 703 97 \nL 703 672 \nQ 941 559 1184 500 \nQ 1428 441 1663 441 \nQ 2288 441 2617 861 \nQ 2947 1281 2994 2138 \nQ 2813 1869 2534 1725 \nQ 2256 1581 1919 1581 \nQ 1219 1581 811 2004 \nQ 403 2428 403 3163 \nQ 403 3881 828 4315 \nQ 1253 4750 1959 4750 \nQ 2769 4750 3195 4129 \nQ 3622 3509 3622 2328 \nQ 3622 1225 3098 567 \nQ 2575 -91 1691 -91 \nQ 1453 -91 1209 -44 \nQ 966 3 703 97 \nz\nM 1959 2075 \nQ 2384 2075 2632 2365 \nQ 2881 2656 2881 3163 \nQ 2881 3666 2632 3958 \nQ 2384 4250 1959 4250 \nQ 1534 4250 1286 3958 \nQ 1038 3666 1038 3163 \nQ 1038 2656 1286 2365 \nQ 1534 2075 1959 2075 \nz\n\" transform=\"scale(0.015625)\"/>\n       </defs>\n       <use xlink:href=\"#DejaVuSans-39\"/>\n       <use xlink:href=\"#DejaVuSans-30\" x=\"63.623047\"/>\n      </g>\n     </g>\n    </g>\n    <g id=\"text_11\">\n     <!-- Position -->\n     <g transform=\"translate(187.459062 216.914688) scale(0.1 -0.1)\">\n      <defs>\n       <path id=\"DejaVuSans-50\" d=\"M 1259 4147 \nL 1259 2394 \nL 2053 2394 \nQ 2494 2394 2734 2622 \nQ 2975 2850 2975 3272 \nQ 2975 3691 2734 3919 \nQ 2494 4147 2053 4147 \nL 1259 4147 \nz\nM 628 4666 \nL 2053 4666 \nQ 2838 4666 3239 4311 \nQ 3641 3956 3641 3272 \nQ 3641 2581 3239 2228 \nQ 2838 1875 2053 1875 \nL 1259 1875 \nL 1259 0 \nL 628 0 \nL 628 4666 \nz\n\" transform=\"scale(0.015625)\"/>\n       <path id=\"DejaVuSans-6f\" d=\"M 1959 3097 \nQ 1497 3097 1228 2736 \nQ 959 2375 959 1747 \nQ 959 1119 1226 758 \nQ 1494 397 1959 397 \nQ 2419 397 2687 759 \nQ 2956 1122 2956 1747 \nQ 2956 2369 2687 2733 \nQ 2419 3097 1959 3097 \nz\nM 1959 3584 \nQ 2709 3584 3137 3096 \nQ 3566 2609 3566 1747 \nQ 3566 888 3137 398 \nQ 2709 -91 1959 -91 \nQ 1206 -91 779 398 \nQ 353 888 353 1747 \nQ 353 2609 779 3096 \nQ 1206 3584 1959 3584 \nz\n\" transform=\"scale(0.015625)\"/>\n       <path id=\"DejaVuSans-73\" d=\"M 2834 3397 \nL 2834 2853 \nQ 2591 2978 2328 3040 \nQ 2066 3103 1784 3103 \nQ 1356 3103 1142 2972 \nQ 928 2841 928 2578 \nQ 928 2378 1081 2264 \nQ 1234 2150 1697 2047 \nL 1894 2003 \nQ 2506 1872 2764 1633 \nQ 3022 1394 3022 966 \nQ 3022 478 2636 193 \nQ 2250 -91 1575 -91 \nQ 1294 -91 989 -36 \nQ 684 19 347 128 \nL 347 722 \nQ 666 556 975 473 \nQ 1284 391 1588 391 \nQ 1994 391 2212 530 \nQ 2431 669 2431 922 \nQ 2431 1156 2273 1281 \nQ 2116 1406 1581 1522 \nL 1381 1569 \nQ 847 1681 609 1914 \nQ 372 2147 372 2553 \nQ 372 3047 722 3315 \nQ 1072 3584 1716 3584 \nQ 2034 3584 2315 3537 \nQ 2597 3491 2834 3397 \nz\n\" transform=\"scale(0.015625)\"/>\n       <path id=\"DejaVuSans-69\" d=\"M 603 3500 \nL 1178 3500 \nL 1178 0 \nL 603 0 \nL 603 3500 \nz\nM 603 4863 \nL 1178 4863 \nL 1178 4134 \nL 603 4134 \nL 603 4863 \nz\n\" transform=\"scale(0.015625)\"/>\n       <path id=\"DejaVuSans-74\" d=\"M 1172 4494 \nL 1172 3500 \nL 2356 3500 \nL 2356 3053 \nL 1172 3053 \nL 1172 1153 \nQ 1172 725 1289 603 \nQ 1406 481 1766 481 \nL 2356 481 \nL 2356 0 \nL 1766 0 \nQ 1100 0 847 248 \nQ 594 497 594 1153 \nL 594 3053 \nL 172 3053 \nL 172 3500 \nL 594 3500 \nL 594 4494 \nL 1172 4494 \nz\n\" transform=\"scale(0.015625)\"/>\n       <path id=\"DejaVuSans-6e\" d=\"M 3513 2113 \nL 3513 0 \nL 2938 0 \nL 2938 2094 \nQ 2938 2591 2744 2837 \nQ 2550 3084 2163 3084 \nQ 1697 3084 1428 2787 \nQ 1159 2491 1159 1978 \nL 1159 0 \nL 581 0 \nL 581 3500 \nL 1159 3500 \nL 1159 2956 \nQ 1366 3272 1645 3428 \nQ 1925 3584 2291 3584 \nQ 2894 3584 3203 3211 \nQ 3513 2838 3513 2113 \nz\n\" transform=\"scale(0.015625)\"/>\n      </defs>\n      <use xlink:href=\"#DejaVuSans-50\"/>\n      <use xlink:href=\"#DejaVuSans-6f\" x=\"56.677734\"/>\n      <use xlink:href=\"#DejaVuSans-73\" x=\"117.859375\"/>\n      <use xlink:href=\"#DejaVuSans-69\" x=\"169.958984\"/>\n      <use xlink:href=\"#DejaVuSans-74\" x=\"197.742188\"/>\n      <use xlink:href=\"#DejaVuSans-69\" x=\"236.951172\"/>\n      <use xlink:href=\"#DejaVuSans-6f\" x=\"264.734375\"/>\n      <use xlink:href=\"#DejaVuSans-6e\" x=\"325.916016\"/>\n     </g>\n    </g>\n   </g>\n   <g id=\"matplotlib.axis_2\">\n    <g id=\"ytick_1\">\n     <g id=\"line2d_11\">\n      <defs>\n       <path id=\"m875e7904cf\" d=\"M 0 0 \nL -3.5 0 \n\" style=\"stroke: #000000; stroke-width: 0.8\"/>\n      </defs>\n      <g>\n       <use xlink:href=\"#m875e7904cf\" x=\"40.603125\" y=\"22.318125\" style=\"stroke: #000000; stroke-width: 0.8\"/>\n      </g>\n     </g>\n     <g id=\"text_12\">\n      <!-- 1 -->\n      <g transform=\"translate(27.240625 26.117344) scale(0.1 -0.1)\">\n       <use xlink:href=\"#DejaVuSans-31\"/>\n      </g>\n     </g>\n    </g>\n    <g id=\"ytick_2\">\n     <g id=\"line2d_12\">\n      <g>\n       <use xlink:href=\"#m875e7904cf\" x=\"40.603125\" y=\"53.503125\" style=\"stroke: #000000; stroke-width: 0.8\"/>\n      </g>\n     </g>\n     <g id=\"text_13\">\n      <!-- 10 -->\n      <g transform=\"translate(20.878125 57.302344) scale(0.1 -0.1)\">\n       <use xlink:href=\"#DejaVuSans-31\"/>\n       <use xlink:href=\"#DejaVuSans-30\" x=\"63.623047\"/>\n      </g>\n     </g>\n    </g>\n    <g id=\"ytick_3\">\n     <g id=\"line2d_13\">\n      <g>\n       <use xlink:href=\"#m875e7904cf\" x=\"40.603125\" y=\"88.153125\" style=\"stroke: #000000; stroke-width: 0.8\"/>\n      </g>\n     </g>\n     <g id=\"text_14\">\n      <!-- 20 -->\n      <g transform=\"translate(20.878125 91.952344) scale(0.1 -0.1)\">\n       <use xlink:href=\"#DejaVuSans-32\"/>\n       <use xlink:href=\"#DejaVuSans-30\" x=\"63.623047\"/>\n      </g>\n     </g>\n    </g>\n    <g id=\"ytick_4\">\n     <g id=\"line2d_14\">\n      <g>\n       <use xlink:href=\"#m875e7904cf\" x=\"40.603125\" y=\"122.803125\" style=\"stroke: #000000; stroke-width: 0.8\"/>\n      </g>\n     </g>\n     <g id=\"text_15\">\n      <!-- 30 -->\n      <g transform=\"translate(20.878125 126.602344) scale(0.1 -0.1)\">\n       <use xlink:href=\"#DejaVuSans-33\"/>\n       <use xlink:href=\"#DejaVuSans-30\" x=\"63.623047\"/>\n      </g>\n     </g>\n    </g>\n    <g id=\"ytick_5\">\n     <g id=\"line2d_15\">\n      <g>\n       <use xlink:href=\"#m875e7904cf\" x=\"40.603125\" y=\"157.453125\" style=\"stroke: #000000; stroke-width: 0.8\"/>\n      </g>\n     </g>\n     <g id=\"text_16\">\n      <!-- 40 -->\n      <g transform=\"translate(20.878125 161.252344) scale(0.1 -0.1)\">\n       <use xlink:href=\"#DejaVuSans-34\"/>\n       <use xlink:href=\"#DejaVuSans-30\" x=\"63.623047\"/>\n      </g>\n     </g>\n    </g>\n    <g id=\"text_17\">\n     <!-- Embedding dimension -->\n     <g transform=\"translate(14.798438 161.328906) rotate(-90) scale(0.1 -0.1)\">\n      <defs>\n       <path id=\"DejaVuSans-45\" d=\"M 628 4666 \nL 3578 4666 \nL 3578 4134 \nL 1259 4134 \nL 1259 2753 \nL 3481 2753 \nL 3481 2222 \nL 1259 2222 \nL 1259 531 \nL 3634 531 \nL 3634 0 \nL 628 0 \nL 628 4666 \nz\n\" transform=\"scale(0.015625)\"/>\n       <path id=\"DejaVuSans-6d\" d=\"M 3328 2828 \nQ 3544 3216 3844 3400 \nQ 4144 3584 4550 3584 \nQ 5097 3584 5394 3201 \nQ 5691 2819 5691 2113 \nL 5691 0 \nL 5113 0 \nL 5113 2094 \nQ 5113 2597 4934 2840 \nQ 4756 3084 4391 3084 \nQ 3944 3084 3684 2787 \nQ 3425 2491 3425 1978 \nL 3425 0 \nL 2847 0 \nL 2847 2094 \nQ 2847 2600 2669 2842 \nQ 2491 3084 2119 3084 \nQ 1678 3084 1418 2786 \nQ 1159 2488 1159 1978 \nL 1159 0 \nL 581 0 \nL 581 3500 \nL 1159 3500 \nL 1159 2956 \nQ 1356 3278 1631 3431 \nQ 1906 3584 2284 3584 \nQ 2666 3584 2933 3390 \nQ 3200 3197 3328 2828 \nz\n\" transform=\"scale(0.015625)\"/>\n       <path id=\"DejaVuSans-62\" d=\"M 3116 1747 \nQ 3116 2381 2855 2742 \nQ 2594 3103 2138 3103 \nQ 1681 3103 1420 2742 \nQ 1159 2381 1159 1747 \nQ 1159 1113 1420 752 \nQ 1681 391 2138 391 \nQ 2594 391 2855 752 \nQ 3116 1113 3116 1747 \nz\nM 1159 2969 \nQ 1341 3281 1617 3432 \nQ 1894 3584 2278 3584 \nQ 2916 3584 3314 3078 \nQ 3713 2572 3713 1747 \nQ 3713 922 3314 415 \nQ 2916 -91 2278 -91 \nQ 1894 -91 1617 61 \nQ 1341 213 1159 525 \nL 1159 0 \nL 581 0 \nL 581 4863 \nL 1159 4863 \nL 1159 2969 \nz\n\" transform=\"scale(0.015625)\"/>\n       <path id=\"DejaVuSans-65\" d=\"M 3597 1894 \nL 3597 1613 \nL 953 1613 \nQ 991 1019 1311 708 \nQ 1631 397 2203 397 \nQ 2534 397 2845 478 \nQ 3156 559 3463 722 \nL 3463 178 \nQ 3153 47 2828 -22 \nQ 2503 -91 2169 -91 \nQ 1331 -91 842 396 \nQ 353 884 353 1716 \nQ 353 2575 817 3079 \nQ 1281 3584 2069 3584 \nQ 2775 3584 3186 3129 \nQ 3597 2675 3597 1894 \nz\nM 3022 2063 \nQ 3016 2534 2758 2815 \nQ 2500 3097 2075 3097 \nQ 1594 3097 1305 2825 \nQ 1016 2553 972 2059 \nL 3022 2063 \nz\n\" transform=\"scale(0.015625)\"/>\n       <path id=\"DejaVuSans-64\" d=\"M 2906 2969 \nL 2906 4863 \nL 3481 4863 \nL 3481 0 \nL 2906 0 \nL 2906 525 \nQ 2725 213 2448 61 \nQ 2172 -91 1784 -91 \nQ 1150 -91 751 415 \nQ 353 922 353 1747 \nQ 353 2572 751 3078 \nQ 1150 3584 1784 3584 \nQ 2172 3584 2448 3432 \nQ 2725 3281 2906 2969 \nz\nM 947 1747 \nQ 947 1113 1208 752 \nQ 1469 391 1925 391 \nQ 2381 391 2643 752 \nQ 2906 1113 2906 1747 \nQ 2906 2381 2643 2742 \nQ 2381 3103 1925 3103 \nQ 1469 3103 1208 2742 \nQ 947 2381 947 1747 \nz\n\" transform=\"scale(0.015625)\"/>\n       <path id=\"DejaVuSans-67\" d=\"M 2906 1791 \nQ 2906 2416 2648 2759 \nQ 2391 3103 1925 3103 \nQ 1463 3103 1205 2759 \nQ 947 2416 947 1791 \nQ 947 1169 1205 825 \nQ 1463 481 1925 481 \nQ 2391 481 2648 825 \nQ 2906 1169 2906 1791 \nz\nM 3481 434 \nQ 3481 -459 3084 -895 \nQ 2688 -1331 1869 -1331 \nQ 1566 -1331 1297 -1286 \nQ 1028 -1241 775 -1147 \nL 775 -588 \nQ 1028 -725 1275 -790 \nQ 1522 -856 1778 -856 \nQ 2344 -856 2625 -561 \nQ 2906 -266 2906 331 \nL 2906 616 \nQ 2728 306 2450 153 \nQ 2172 0 1784 0 \nQ 1141 0 747 490 \nQ 353 981 353 1791 \nQ 353 2603 747 3093 \nQ 1141 3584 1784 3584 \nQ 2172 3584 2450 3431 \nQ 2728 3278 2906 2969 \nL 2906 3500 \nL 3481 3500 \nL 3481 434 \nz\n\" transform=\"scale(0.015625)\"/>\n       <path id=\"DejaVuSans-20\" transform=\"scale(0.015625)\"/>\n      </defs>\n      <use xlink:href=\"#DejaVuSans-45\"/>\n      <use xlink:href=\"#DejaVuSans-6d\" x=\"63.183594\"/>\n      <use xlink:href=\"#DejaVuSans-62\" x=\"160.595703\"/>\n      <use xlink:href=\"#DejaVuSans-65\" x=\"224.072266\"/>\n      <use xlink:href=\"#DejaVuSans-64\" x=\"285.595703\"/>\n      <use xlink:href=\"#DejaVuSans-64\" x=\"349.072266\"/>\n      <use xlink:href=\"#DejaVuSans-69\" x=\"412.548828\"/>\n      <use xlink:href=\"#DejaVuSans-6e\" x=\"440.332031\"/>\n      <use xlink:href=\"#DejaVuSans-67\" x=\"503.710938\"/>\n      <use xlink:href=\"#DejaVuSans-20\" x=\"567.1875\"/>\n      <use xlink:href=\"#DejaVuSans-64\" x=\"598.974609\"/>\n      <use xlink:href=\"#DejaVuSans-69\" x=\"662.451172\"/>\n      <use xlink:href=\"#DejaVuSans-6d\" x=\"690.234375\"/>\n      <use xlink:href=\"#DejaVuSans-65\" x=\"787.646484\"/>\n      <use xlink:href=\"#DejaVuSans-6e\" x=\"849.169922\"/>\n      <use xlink:href=\"#DejaVuSans-73\" x=\"912.548828\"/>\n      <use xlink:href=\"#DejaVuSans-69\" x=\"964.648438\"/>\n      <use xlink:href=\"#DejaVuSans-6f\" x=\"992.431641\"/>\n      <use xlink:href=\"#DejaVuSans-6e\" x=\"1053.613281\"/>\n     </g>\n    </g>\n   </g>\n   <g id=\"patch_3\">\n    <path d=\"M 40.603125 188.638125 \nL 40.603125 22.318125 \n\" style=\"fill: none; stroke: #000000; stroke-width: 0.8; stroke-linejoin: miter; stroke-linecap: square\"/>\n   </g>\n   <g id=\"patch_4\">\n    <path d=\"M 373.243125 188.638125 \nL 373.243125 22.318125 \n\" style=\"fill: none; stroke: #000000; stroke-width: 0.8; stroke-linejoin: miter; stroke-linecap: square\"/>\n   </g>\n   <g id=\"patch_5\">\n    <path d=\"M 40.603125 188.638125 \nL 373.243125 188.638125 \n\" style=\"fill: none; stroke: #000000; stroke-width: 0.8; stroke-linejoin: miter; stroke-linecap: square\"/>\n   </g>\n   <g id=\"patch_6\">\n    <path d=\"M 40.603125 22.318125 \nL 373.243125 22.318125 \n\" style=\"fill: none; stroke: #000000; stroke-width: 0.8; stroke-linejoin: miter; stroke-linecap: square\"/>\n   </g>\n   <g id=\"text_18\">\n    <!-- Sinusoidal positional encoding -->\n    <g transform=\"translate(115.750313 16.318125) scale(0.12 -0.12)\">\n     <defs>\n      <path id=\"DejaVuSans-53\" d=\"M 3425 4513 \nL 3425 3897 \nQ 3066 4069 2747 4153 \nQ 2428 4238 2131 4238 \nQ 1616 4238 1336 4038 \nQ 1056 3838 1056 3469 \nQ 1056 3159 1242 3001 \nQ 1428 2844 1947 2747 \nL 2328 2669 \nQ 3034 2534 3370 2195 \nQ 3706 1856 3706 1288 \nQ 3706 609 3251 259 \nQ 2797 -91 1919 -91 \nQ 1588 -91 1214 -16 \nQ 841 59 441 206 \nL 441 856 \nQ 825 641 1194 531 \nQ 1563 422 1919 422 \nQ 2459 422 2753 634 \nQ 3047 847 3047 1241 \nQ 3047 1584 2836 1778 \nQ 2625 1972 2144 2069 \nL 1759 2144 \nQ 1053 2284 737 2584 \nQ 422 2884 422 3419 \nQ 422 4038 858 4394 \nQ 1294 4750 2059 4750 \nQ 2388 4750 2728 4690 \nQ 3069 4631 3425 4513 \nz\n\" transform=\"scale(0.015625)\"/>\n      <path id=\"DejaVuSans-75\" d=\"M 544 1381 \nL 544 3500 \nL 1119 3500 \nL 1119 1403 \nQ 1119 906 1312 657 \nQ 1506 409 1894 409 \nQ 2359 409 2629 706 \nQ 2900 1003 2900 1516 \nL 2900 3500 \nL 3475 3500 \nL 3475 0 \nL 2900 0 \nL 2900 538 \nQ 2691 219 2414 64 \nQ 2138 -91 1772 -91 \nQ 1169 -91 856 284 \nQ 544 659 544 1381 \nz\nM 1991 3584 \nL 1991 3584 \nz\n\" transform=\"scale(0.015625)\"/>\n      <path id=\"DejaVuSans-61\" d=\"M 2194 1759 \nQ 1497 1759 1228 1600 \nQ 959 1441 959 1056 \nQ 959 750 1161 570 \nQ 1363 391 1709 391 \nQ 2188 391 2477 730 \nQ 2766 1069 2766 1631 \nL 2766 1759 \nL 2194 1759 \nz\nM 3341 1997 \nL 3341 0 \nL 2766 0 \nL 2766 531 \nQ 2569 213 2275 61 \nQ 1981 -91 1556 -91 \nQ 1019 -91 701 211 \nQ 384 513 384 1019 \nQ 384 1609 779 1909 \nQ 1175 2209 1959 2209 \nL 2766 2209 \nL 2766 2266 \nQ 2766 2663 2505 2880 \nQ 2244 3097 1772 3097 \nQ 1472 3097 1187 3025 \nQ 903 2953 641 2809 \nL 641 3341 \nQ 956 3463 1253 3523 \nQ 1550 3584 1831 3584 \nQ 2591 3584 2966 3190 \nQ 3341 2797 3341 1997 \nz\n\" transform=\"scale(0.015625)\"/>\n      <path id=\"DejaVuSans-6c\" d=\"M 603 4863 \nL 1178 4863 \nL 1178 0 \nL 603 0 \nL 603 4863 \nz\n\" transform=\"scale(0.015625)\"/>\n      <path id=\"DejaVuSans-70\" d=\"M 1159 525 \nL 1159 -1331 \nL 581 -1331 \nL 581 3500 \nL 1159 3500 \nL 1159 2969 \nQ 1341 3281 1617 3432 \nQ 1894 3584 2278 3584 \nQ 2916 3584 3314 3078 \nQ 3713 2572 3713 1747 \nQ 3713 922 3314 415 \nQ 2916 -91 2278 -91 \nQ 1894 -91 1617 61 \nQ 1341 213 1159 525 \nz\nM 3116 1747 \nQ 3116 2381 2855 2742 \nQ 2594 3103 2138 3103 \nQ 1681 3103 1420 2742 \nQ 1159 2381 1159 1747 \nQ 1159 1113 1420 752 \nQ 1681 391 2138 391 \nQ 2594 391 2855 752 \nQ 3116 1113 3116 1747 \nz\n\" transform=\"scale(0.015625)\"/>\n      <path id=\"DejaVuSans-63\" d=\"M 3122 3366 \nL 3122 2828 \nQ 2878 2963 2633 3030 \nQ 2388 3097 2138 3097 \nQ 1578 3097 1268 2742 \nQ 959 2388 959 1747 \nQ 959 1106 1268 751 \nQ 1578 397 2138 397 \nQ 2388 397 2633 464 \nQ 2878 531 3122 666 \nL 3122 134 \nQ 2881 22 2623 -34 \nQ 2366 -91 2075 -91 \nQ 1284 -91 818 406 \nQ 353 903 353 1747 \nQ 353 2603 823 3093 \nQ 1294 3584 2113 3584 \nQ 2378 3584 2631 3529 \nQ 2884 3475 3122 3366 \nz\n\" transform=\"scale(0.015625)\"/>\n     </defs>\n     <use xlink:href=\"#DejaVuSans-53\"/>\n     <use xlink:href=\"#DejaVuSans-69\" x=\"63.476562\"/>\n     <use xlink:href=\"#DejaVuSans-6e\" x=\"91.259766\"/>\n     <use xlink:href=\"#DejaVuSans-75\" x=\"154.638672\"/>\n     <use xlink:href=\"#DejaVuSans-73\" x=\"218.017578\"/>\n     <use xlink:href=\"#DejaVuSans-6f\" x=\"270.117188\"/>\n     <use xlink:href=\"#DejaVuSans-69\" x=\"331.298828\"/>\n     <use xlink:href=\"#DejaVuSans-64\" x=\"359.082031\"/>\n     <use xlink:href=\"#DejaVuSans-61\" x=\"422.558594\"/>\n     <use xlink:href=\"#DejaVuSans-6c\" x=\"483.837891\"/>\n     <use xlink:href=\"#DejaVuSans-20\" x=\"511.621094\"/>\n     <use xlink:href=\"#DejaVuSans-70\" x=\"543.408203\"/>\n     <use xlink:href=\"#DejaVuSans-6f\" x=\"606.884766\"/>\n     <use xlink:href=\"#DejaVuSans-73\" x=\"668.066406\"/>\n     <use xlink:href=\"#DejaVuSans-69\" x=\"720.166016\"/>\n     <use xlink:href=\"#DejaVuSans-74\" x=\"747.949219\"/>\n     <use xlink:href=\"#DejaVuSans-69\" x=\"787.158203\"/>\n     <use xlink:href=\"#DejaVuSans-6f\" x=\"814.941406\"/>\n     <use xlink:href=\"#DejaVuSans-6e\" x=\"876.123047\"/>\n     <use xlink:href=\"#DejaVuSans-61\" x=\"939.501953\"/>\n     <use xlink:href=\"#DejaVuSans-6c\" x=\"1000.78125\"/>\n     <use xlink:href=\"#DejaVuSans-20\" x=\"1028.564453\"/>\n     <use xlink:href=\"#DejaVuSans-65\" x=\"1060.351562\"/>\n     <use xlink:href=\"#DejaVuSans-6e\" x=\"1121.875\"/>\n     <use xlink:href=\"#DejaVuSans-63\" x=\"1185.253906\"/>\n     <use xlink:href=\"#DejaVuSans-6f\" x=\"1240.234375\"/>\n     <use xlink:href=\"#DejaVuSans-64\" x=\"1301.416016\"/>\n     <use xlink:href=\"#DejaVuSans-69\" x=\"1364.892578\"/>\n     <use xlink:href=\"#DejaVuSans-6e\" x=\"1392.675781\"/>\n     <use xlink:href=\"#DejaVuSans-67\" x=\"1456.054688\"/>\n    </g>\n   </g>\n  </g>\n  <g id=\"axes_2\">\n   <g id=\"patch_7\">\n    <path d=\"M 395.563125 188.638125 \nL 403.879125 188.638125 \nL 403.879125 22.318125 \nL 395.563125 22.318125 \nz\n\" style=\"fill: #ffffff\"/>\n   </g>\n   <image xlink:href=\"data:image/png;base64,\niVBORw0KGgoAAAANSUhEUgAAAAwAAADnCAYAAAAq9remAAABLElEQVR4nO2YSw6DMBBDZ5KQa/R4vf+aX6/Qh2RkQrrGsj1vElDzG58zwK/VJI9HtJpM4ejQC3aAgoIeH2Sshg4dgnDsMIJDwZEguZYVC2gHKsgCI3EHLlBHqktlggsdMDj5atAXip4D7lA7BUdL6znwS4AfUf29RCMti9qBTklfGoO7gYN++XpTO1R8e7+QNI/UOhMELw3BRVEL8JQcI1FwFziop5R8rPg86JePRlrwifNb78QOVJDybcUdqCAr/Py5ocMNU/IDx8+DGlxOcH8I0B/GEdGO44AOJ/PgAsNIhh1GcDAUGJbe913sMMJYDR304AxLj+AwwT3UYds2scMUeAgm6YcKRgCH3w8jdNCDMxyrYSQsWNdV7DDCWA0jvfJufaVggnuowA/cD++JW/ZYqqiKAAAAAElFTkSuQmCC\" id=\"image64f1717e24\" transform=\"scale(1 -1) translate(0 -166.32)\" x=\"395.28\" y=\"-22.32\" width=\"8.64\" height=\"166.32\"/>\n   <g id=\"matplotlib.axis_3\"/>\n   <g id=\"matplotlib.axis_4\">\n    <g id=\"ytick_6\">\n     <g id=\"line2d_16\">\n      <defs>\n       <path id=\"m096f9f13bf\" d=\"M 0 0 \nL 3.5 0 \n\" style=\"stroke: #000000; stroke-width: 0.8\"/>\n      </defs>\n      <g>\n       <use xlink:href=\"#m096f9f13bf\" x=\"403.879125\" y=\"167.848836\" style=\"stroke: #000000; stroke-width: 0.8\"/>\n      </g>\n     </g>\n     <g id=\"text_19\">\n      <!-- −0.75 -->\n      <g transform=\"translate(410.879125 171.648055) scale(0.1 -0.1)\">\n       <defs>\n        <path id=\"DejaVuSans-2212\" d=\"M 678 2272 \nL 4684 2272 \nL 4684 1741 \nL 678 1741 \nL 678 2272 \nz\n\" transform=\"scale(0.015625)\"/>\n        <path id=\"DejaVuSans-2e\" d=\"M 684 794 \nL 1344 794 \nL 1344 0 \nL 684 0 \nL 684 794 \nz\n\" transform=\"scale(0.015625)\"/>\n       </defs>\n       <use xlink:href=\"#DejaVuSans-2212\"/>\n       <use xlink:href=\"#DejaVuSans-30\" x=\"83.789062\"/>\n       <use xlink:href=\"#DejaVuSans-2e\" x=\"147.412109\"/>\n       <use xlink:href=\"#DejaVuSans-37\" x=\"179.199219\"/>\n       <use xlink:href=\"#DejaVuSans-35\" x=\"242.822266\"/>\n      </g>\n     </g>\n    </g>\n    <g id=\"ytick_7\">\n     <g id=\"line2d_17\">\n      <g>\n       <use xlink:href=\"#m096f9f13bf\" x=\"403.879125\" y=\"147.058735\" style=\"stroke: #000000; stroke-width: 0.8\"/>\n      </g>\n     </g>\n     <g id=\"text_20\">\n      <!-- −0.50 -->\n      <g transform=\"translate(410.879125 150.857953) scale(0.1 -0.1)\">\n       <use xlink:href=\"#DejaVuSans-2212\"/>\n       <use xlink:href=\"#DejaVuSans-30\" x=\"83.789062\"/>\n       <use xlink:href=\"#DejaVuSans-2e\" x=\"147.412109\"/>\n       <use xlink:href=\"#DejaVuSans-35\" x=\"179.199219\"/>\n       <use xlink:href=\"#DejaVuSans-30\" x=\"242.822266\"/>\n      </g>\n     </g>\n    </g>\n    <g id=\"ytick_8\">\n     <g id=\"line2d_18\">\n      <g>\n       <use xlink:href=\"#m096f9f13bf\" x=\"403.879125\" y=\"126.268633\" style=\"stroke: #000000; stroke-width: 0.8\"/>\n      </g>\n     </g>\n     <g id=\"text_21\">\n      <!-- −0.25 -->\n      <g transform=\"translate(410.879125 130.067852) scale(0.1 -0.1)\">\n       <use xlink:href=\"#DejaVuSans-2212\"/>\n       <use xlink:href=\"#DejaVuSans-30\" x=\"83.789062\"/>\n       <use xlink:href=\"#DejaVuSans-2e\" x=\"147.412109\"/>\n       <use xlink:href=\"#DejaVuSans-32\" x=\"179.199219\"/>\n       <use xlink:href=\"#DejaVuSans-35\" x=\"242.822266\"/>\n      </g>\n     </g>\n    </g>\n    <g id=\"ytick_9\">\n     <g id=\"line2d_19\">\n      <g>\n       <use xlink:href=\"#m096f9f13bf\" x=\"403.879125\" y=\"105.478531\" style=\"stroke: #000000; stroke-width: 0.8\"/>\n      </g>\n     </g>\n     <g id=\"text_22\">\n      <!-- 0.00 -->\n      <g transform=\"translate(410.879125 109.27775) scale(0.1 -0.1)\">\n       <use xlink:href=\"#DejaVuSans-30\"/>\n       <use xlink:href=\"#DejaVuSans-2e\" x=\"63.623047\"/>\n       <use xlink:href=\"#DejaVuSans-30\" x=\"95.410156\"/>\n       <use xlink:href=\"#DejaVuSans-30\" x=\"159.033203\"/>\n      </g>\n     </g>\n    </g>\n    <g id=\"ytick_10\">\n     <g id=\"line2d_20\">\n      <g>\n       <use xlink:href=\"#m096f9f13bf\" x=\"403.879125\" y=\"84.68843\" style=\"stroke: #000000; stroke-width: 0.8\"/>\n      </g>\n     </g>\n     <g id=\"text_23\">\n      <!-- 0.25 -->\n      <g transform=\"translate(410.879125 88.487649) scale(0.1 -0.1)\">\n       <use xlink:href=\"#DejaVuSans-30\"/>\n       <use xlink:href=\"#DejaVuSans-2e\" x=\"63.623047\"/>\n       <use xlink:href=\"#DejaVuSans-32\" x=\"95.410156\"/>\n       <use xlink:href=\"#DejaVuSans-35\" x=\"159.033203\"/>\n      </g>\n     </g>\n    </g>\n    <g id=\"ytick_11\">\n     <g id=\"line2d_21\">\n      <g>\n       <use xlink:href=\"#m096f9f13bf\" x=\"403.879125\" y=\"63.898328\" style=\"stroke: #000000; stroke-width: 0.8\"/>\n      </g>\n     </g>\n     <g id=\"text_24\">\n      <!-- 0.50 -->\n      <g transform=\"translate(410.879125 67.697547) scale(0.1 -0.1)\">\n       <use xlink:href=\"#DejaVuSans-30\"/>\n       <use xlink:href=\"#DejaVuSans-2e\" x=\"63.623047\"/>\n       <use xlink:href=\"#DejaVuSans-35\" x=\"95.410156\"/>\n       <use xlink:href=\"#DejaVuSans-30\" x=\"159.033203\"/>\n      </g>\n     </g>\n    </g>\n    <g id=\"ytick_12\">\n     <g id=\"line2d_22\">\n      <g>\n       <use xlink:href=\"#m096f9f13bf\" x=\"403.879125\" y=\"43.108227\" style=\"stroke: #000000; stroke-width: 0.8\"/>\n      </g>\n     </g>\n     <g id=\"text_25\">\n      <!-- 0.75 -->\n      <g transform=\"translate(410.879125 46.907445) scale(0.1 -0.1)\">\n       <use xlink:href=\"#DejaVuSans-30\"/>\n       <use xlink:href=\"#DejaVuSans-2e\" x=\"63.623047\"/>\n       <use xlink:href=\"#DejaVuSans-37\" x=\"95.410156\"/>\n       <use xlink:href=\"#DejaVuSans-35\" x=\"159.033203\"/>\n      </g>\n     </g>\n    </g>\n    <g id=\"ytick_13\">\n     <g id=\"line2d_23\">\n      <g>\n       <use xlink:href=\"#m096f9f13bf\" x=\"403.879125\" y=\"22.318125\" style=\"stroke: #000000; stroke-width: 0.8\"/>\n      </g>\n     </g>\n     <g id=\"text_26\">\n      <!-- 1.00 -->\n      <g transform=\"translate(410.879125 26.117344) scale(0.1 -0.1)\">\n       <use xlink:href=\"#DejaVuSans-31\"/>\n       <use xlink:href=\"#DejaVuSans-2e\" x=\"63.623047\"/>\n       <use xlink:href=\"#DejaVuSans-30\" x=\"95.410156\"/>\n       <use xlink:href=\"#DejaVuSans-30\" x=\"159.033203\"/>\n      </g>\n     </g>\n    </g>\n   </g>\n   <g id=\"LineCollection_1\"/>\n   <g id=\"patch_8\">\n    <path d=\"M 395.563125 188.638125 \nL 399.721125 188.638125 \nL 403.879125 188.638125 \nL 403.879125 22.318125 \nL 399.721125 22.318125 \nL 395.563125 22.318125 \nL 395.563125 188.638125 \nz\n\" style=\"fill: none; stroke: #000000; stroke-width: 0.8; stroke-linejoin: miter; stroke-linecap: square\"/>\n   </g>\n  </g>\n </g>\n <defs>\n  <clipPath id=\"p311892b20e\">\n   <rect x=\"40.603125\" y=\"22.318125\" width=\"332.64\" height=\"166.32\"/>\n  </clipPath>\n </defs>\n</svg>\n",
            "application/pdf": "[encoded data removed]"
          },
          "metadata": {}
        }
      ]
    },
    {
      "cell_type": "markdown",
      "source": [
        "#### *Toy test*"
      ],
      "metadata": {
        "id": "m4HrZFG9p88r"
      }
    },
    {
      "cell_type": "code",
      "source": [
        "gpt_config = {\n",
        "    \"src_vocab_size\": int,\n",
        "    \"tgt_vocab_size\": int,\n",
        "    \"src_seq_len\": int,\n",
        "    \"tgt_seq_len\": int,\n",
        "    \"d_model\": 512,     # - 512\n",
        "    \"num_hidden_layers\": 6,   #N - 6\n",
        "    \"num_attention_heads\": 8,   #h - 8\n",
        "    \"intermediate_size\": 2048,    #d_ff - 2048\n",
        "    \"hidden_dropout_prob\": 0.1,\n",
        "    \"attention_dropout_prob\": 0.1,\n",
        "}\n",
        "\n",
        "new_config = {\"src_vocab_size\": 11,\n",
        "    \"tgt_vocab_size\": 11,\n",
        "    \"src_seq_len\": 10,\n",
        "    \"tgt_seq_len\": 1}\n",
        "\n",
        "gpt_config.update(new_config)"
      ],
      "metadata": {
        "id": "dt5dcYSdUdoe"
      },
      "execution_count": null,
      "outputs": []
    },
    {
      "cell_type": "code",
      "source": [
        "def inf_test(test_model, inf_key):\n",
        "\n",
        "    src = jnp.array([1, 2, 3, 4, 5, 6, 7, 8, 9, 10], dtype= int)\n",
        "    src_mask = jnp.ones((1,10))\n",
        "\n",
        "    memory = test_model.encode(src, src_mask, False, inf_key)\n",
        "\n",
        "    ys = jnp.zeros((1), dtype= int)\n",
        "\n",
        "    for i in range(9):\n",
        "        out = test_model.decode(memory, src_mask, ys, causal_attention_mask(ys), False, inf_key)\n",
        "        proj_out = test_model.project(out)\n",
        "        prob = jax.nn.softmax(proj_out, axis=-1)\n",
        "        h_prob = jnp.argmax(prob[-1])\n",
        "        ys = jnp.concatenate([ys, jnp.array([h_prob])])\n",
        "        rand_key\n",
        "\n",
        "    print(\"Model Prediction:\", ys)\n",
        "\n",
        "    return inf_key"
      ],
      "metadata": {
        "id": "X35tQjL8LBSv"
      },
      "execution_count": null,
      "outputs": []
    },
    {
      "cell_type": "code",
      "source": [
        "inf_key = rand_key.copy()\n",
        "for _ in range(10):\n",
        "    inf_key = jr.split(inf_key)[0]\n",
        "    test_model = Transformer(gpt_config, inf_key)\n",
        "    #test_model = eqx.tree_inference(test_model, value=True)\n",
        "    inf_key = inf_test(test_model, inf_key)"
      ],
      "metadata": {
        "colab": {
          "base_uri": "https://localhost:8080/"
        },
        "id": "zgdql45kLjGm",
        "outputId": "8ba8b6a9-1789-4520-e3d8-654d28df0ddb"
      },
      "execution_count": null,
      "outputs": [
        {
          "output_type": "stream",
          "name": "stdout",
          "text": [
            "Model Prediction: [0 9 7 2 3 4 4 4 4 4]\n",
            "Model Prediction: [0 3 2 3 2 3 2 3 2 3]\n",
            "Model Prediction: [ 0  9  8  3 10  3 10  3 10  3]\n",
            "Model Prediction: [0 7 1 0 7 1 0 7 1 0]\n",
            "Model Prediction: [ 0  1  6 10  9  9  9  9  9  9]\n",
            "Model Prediction: [0 0 0 0 0 0 0 0 0 0]\n",
            "Model Prediction: [0 1 2 4 4 4 4 4 4 4]\n",
            "Model Prediction: [0 5 5 5 5 5 5 5 5 5]\n",
            "Model Prediction: [0 1 8 3 9 6 5 0 1 8]\n",
            "Model Prediction: [0 2 2 2 2 2 2 2 2 2]\n"
          ]
        }
      ]
    },
    {
      "cell_type": "code",
      "source": [
        "# with xavier initialisation #\n",
        "inf_key = rand_key.copy()\n",
        "for _ in range(10):\n",
        "    inf_key, init_key = jr.split(inf_key)\n",
        "    init_model = Transformer(gpt_config, inf_key)\n",
        "    test_model = init_parameters(init_model, xavier_init, xavier_init_b, init_key)\n",
        "    inf_key = inf_test(test_model, inf_key)"
      ],
      "metadata": {
        "colab": {
          "base_uri": "https://localhost:8080/"
        },
        "id": "mEKPAIocYMm9",
        "outputId": "a14162a2-dee5-4192-dc42-7d86f00fb52f"
      },
      "execution_count": null,
      "outputs": [
        {
          "output_type": "stream",
          "name": "stdout",
          "text": [
            "Model Prediction: [0 7 0 7 0 7 0 7 0 7]\n",
            "Model Prediction: [0 3 3 3 3 3 3 3 3 3]\n",
            "Model Prediction: [0 3 2 5 1 6 5 1 6 5]\n",
            "Model Prediction: [0 5 5 5 5 5 5 5 5 5]\n",
            "Model Prediction: [0 2 6 2 6 2 6 2 6 2]\n",
            "Model Prediction: [0 6 9 6 9 6 9 6 9 6]\n",
            "Model Prediction: [0 6 0 6 0 6 0 6 0 6]\n",
            "Model Prediction: [0 2 2 2 2 2 2 2 2 2]\n",
            "Model Prediction: [0 5 8 4 4 4 4 4 4 4]\n",
            "Model Prediction: [0 2 2 2 2 2 2 2 2 2]\n"
          ]
        }
      ]
    },
    {
      "cell_type": "markdown",
      "source": [
        "## **Training**"
      ],
      "metadata": {
        "id": "CNe_Frjge_j7"
      }
    },
    {
      "cell_type": "markdown",
      "source": [
        "###### **Test**"
      ],
      "metadata": {
        "id": "06KUdnAXGkTC"
      }
    },
    {
      "cell_type": "code",
      "source": [
        "a = list(next(iter(val_dataloader)))[0]"
      ],
      "metadata": {
        "id": "6gCYY5SXGYu5"
      },
      "execution_count": 285,
      "outputs": []
    },
    {
      "cell_type": "code",
      "source": [
        "jnp.sum(jnp.where(a[\"src_mask\"], 1,0))"
      ],
      "metadata": {
        "colab": {
          "base_uri": "https://localhost:8080/"
        },
        "id": "k17FPMN2_PTK",
        "outputId": "b0cae6a0-0ca8-4dbd-ff40-58cf0ffcb574"
      },
      "execution_count": 432,
      "outputs": [
        {
          "output_type": "execute_result",
          "data": {
            "text/plain": [
              "Array(23, dtype=int32)"
            ]
          },
          "metadata": {},
          "execution_count": 432
        }
      ]
    },
    {
      "cell_type": "code",
      "source": [
        "jnp.sum(jnp.where(a[\"tgt_mask\"], 1,0))"
      ],
      "metadata": {
        "id": "DsTV6w37XLgh"
      },
      "execution_count": null,
      "outputs": []
    },
    {
      "cell_type": "code",
      "source": [
        "model = Transformer(gpt_config, rand_key)"
      ],
      "metadata": {
        "id": "Jd5r3taUnb8S"
      },
      "execution_count": 440,
      "outputs": []
    },
    {
      "cell_type": "code",
      "source": [
        "enc_output = model.encode(a[\"encoder_input\"], a[\"src_mask\"])"
      ],
      "metadata": {
        "id": "zR-yifr-nFRi"
      },
      "execution_count": 441,
      "outputs": []
    },
    {
      "cell_type": "code",
      "source": [
        "enc_output"
      ],
      "metadata": {
        "id": "CyHLgoikWBwj"
      },
      "execution_count": null,
      "outputs": []
    },
    {
      "cell_type": "code",
      "source": [
        "dec_output = model.decode(a[\"decoder_input\"], enc_output, a[\"src_mask\"], a[\"tgt_mask\"], True)"
      ],
      "metadata": {
        "id": "CzxXKcLGsMI8"
      },
      "execution_count": null,
      "outputs": []
    },
    {
      "cell_type": "code",
      "source": [
        "# dec_output = model.decode(a[\"decoder_input\"], jnp.array([[True, True, True, True, False, False]]), enc_output, jnp.array([[True, True, True, True, True, False]]), True)"
      ],
      "metadata": {
        "id": "7Dlfixk7AG7a"
      },
      "execution_count": 172,
      "outputs": []
    },
    {
      "cell_type": "code",
      "source": [
        "output = model.project(dec_output)"
      ],
      "metadata": {
        "id": "Zjfw6jvwRUix"
      },
      "execution_count": 345,
      "outputs": []
    },
    {
      "cell_type": "code",
      "source": [
        "output"
      ],
      "metadata": {
        "id": "t-xoxcWhYc64"
      },
      "execution_count": null,
      "outputs": []
    },
    {
      "cell_type": "code",
      "source": [
        "output_in_one = model(a[\"encoder_input\"], a[\"decoder_input\"], a[\"src_mask\"], a[\"tgt_mask\"], True)   # %timeit"
      ],
      "metadata": {
        "id": "mkGOkwPu1eaC"
      },
      "execution_count": null,
      "outputs": []
    },
    {
      "cell_type": "code",
      "source": [
        "output_in_one"
      ],
      "metadata": {
        "id": "TKJ-hZ7VYkgx"
      },
      "execution_count": null,
      "outputs": []
    },
    {
      "cell_type": "code",
      "source": [
        "jnp.sum(output - output_in_one)"
      ],
      "metadata": {
        "colab": {
          "base_uri": "https://localhost:8080/"
        },
        "id": "batJ7dcc2C0X",
        "outputId": "33f68362-acc1-4c9a-dc3d-6b2bbb8687c6"
      },
      "execution_count": 346,
      "outputs": [
        {
          "output_type": "execute_result",
          "data": {
            "text/plain": [
              "Array(0., dtype=float32)"
            ]
          },
          "metadata": {},
          "execution_count": 346
        }
      ]
    },
    {
      "cell_type": "code",
      "source": [
        "inf_dec_ouput = model.decode(jnp.array([2, 4, 5, 6]), enc_output, a[\"src_mask\"], look_ahead_mask = True)"
      ],
      "metadata": {
        "id": "gDdt4sYSZqwy"
      },
      "execution_count": 442,
      "outputs": []
    },
    {
      "cell_type": "markdown",
      "source": [
        "###### Rest of code"
      ],
      "metadata": {
        "id": "bCwPS05hG52j"
      }
    },
    {
      "cell_type": "markdown",
      "source": [
        "**Random key split**"
      ],
      "metadata": {
        "id": "fLT_-GWqvDGV"
      }
    },
    {
      "cell_type": "code",
      "source": [
        "train_key, loader_key, split_key, r_init_key, c_init_key, val_key, acc_key = jr.split(rand_key, 7)"
      ],
      "metadata": {
        "id": "LGDcp9o563Ru"
      },
      "execution_count": 16,
      "outputs": []
    },
    {
      "cell_type": "markdown",
      "source": [
        "**Model configuration and training hyperparameters**"
      ],
      "metadata": {
        "id": "0OrZeq3puZ2b"
      }
    },
    {
      "cell_type": "code",
      "source": [
        "gpt_config = {\n",
        "    \"src_vocab_size\": int,\n",
        "    \"tgt_vocab_size\": int,\n",
        "    \"src_seq_len\": int,\n",
        "    \"tgt_seq_len\": int,\n",
        "    \"d_model\": 512,     # - 512\n",
        "    \"num_hidden_layers\": 6,   #N - 6\n",
        "    \"num_attention_heads\": 8,   #h - 8\n",
        "    \"intermediate_size\": 2048,    #d_ff - 2048\n",
        "    \"hidden_dropout_prob\": 0.1,\n",
        "    \"attention_dropout_prob\": 0.1,\n",
        "    \"src_lang\": \"en\",\n",
        "    \"tgt_lang\": \"fr\",\n",
        "    \"epochs\": 20,\n",
        "    \"batch_size\": 32,\n",
        "    \"learning_rate\": 1e-4,\n",
        "    \"ds_size\": int,\n",
        "}"
      ],
      "metadata": {
        "id": "E_CA4g5OxAji"
      },
      "execution_count": 49,
      "outputs": []
    },
    {
      "cell_type": "markdown",
      "source": [
        "#### Data utility functions"
      ],
      "metadata": {
        "id": "mU6I5N68sK5g"
      }
    },
    {
      "cell_type": "markdown",
      "source": [
        "**Tokenizer**"
      ],
      "metadata": {
        "id": "34Ss-YPHrcha"
      }
    },
    {
      "cell_type": "code",
      "source": [
        "def get_or_build_tokenizer(ds, lang):\n",
        "\n",
        "    def get_all_sentences(ds, lang):\n",
        "        for item in ds:\n",
        "            yield item['translation'][lang]\n",
        "\n",
        "    tokenizer_path = Path(\"tokenizer_{0}.json\".format(lang))\n",
        "\n",
        "    if not Path.exists(tokenizer_path):\n",
        "        tokenizer = Tokenizer(WordLevel(unk_token='[UNK]'))\n",
        "        tokenizer.pre_tokenizer = Whitespace()\n",
        "        trainer = WordLevelTrainer(special_tokens=[\"[UNK]\",\"[PAD]\",\"[SOS]\",\"[EOS]\"], min_frequency=2)\n",
        "        tokenizer.train_from_iterator(get_all_sentences(ds, lang), trainer=trainer)\n",
        "        tokenizer.save(str(tokenizer_path))\n",
        "    else:\n",
        "        tokenizer = Tokenizer.from_file(str(tokenizer_path))\n",
        "    return tokenizer"
      ],
      "metadata": {
        "id": "64Ri2SWeWYxY"
      },
      "execution_count": 22,
      "outputs": []
    },
    {
      "cell_type": "markdown",
      "source": [
        "**Train/Test split**"
      ],
      "metadata": {
        "id": "-KNj9vuzsO8S"
      }
    },
    {
      "cell_type": "code",
      "source": [
        "def rand_split(ds, train_size, val_size, key):\n",
        "    ds_size = ds.shape[0]\n",
        "    indices = jnp.arange(ds_size)\n",
        "    perm = jr.permutation(rand_key, indices, independent=False)  # get random permutation of indices\n",
        "    train_ind = perm[:train_size]\n",
        "    val_ind = perm[train_size:]\n",
        "    train_ds = ds[train_ind]\n",
        "    val_ds = ds[val_ind]\n",
        "    assert (len(train_ds[\"id\"]) + len(val_ds[\"id\"])) - ds_size == 0\n",
        "\n",
        "    return (train_ds, val_ds)"
      ],
      "metadata": {
        "id": "Ksx90B5V5CPL"
      },
      "execution_count": 23,
      "outputs": []
    },
    {
      "cell_type": "code",
      "source": [
        "import datasets"
      ],
      "metadata": {
        "id": "rNnr6gq2xldU"
      },
      "execution_count": 24,
      "outputs": []
    },
    {
      "cell_type": "code",
      "source": [
        "def rand_split_two(ds,prop, key):\n",
        "    ds_size = len(ds[\"id\"])\n",
        "    train_size = int(prop * ds_size)\n",
        "    indices = jnp.arange(ds_size)\n",
        "    perm = jr.permutation(rand_key, indices, independent=False)  # get random permutation of indices\n",
        "    train_ind = perm[:train_size]\n",
        "    val_ind = perm[train_size:]\n",
        "    train_ds = datasets.Dataset.from_dict({\"id\":[ds[\"id\"][i] for i in train_ind], \"translation\":[ds[\"translation\"][i] for i in train_ind]})\n",
        "    val_ds = datasets.Dataset.from_dict({\"id\":[ds[\"id\"][i] for i in val_ind], \"translation\":[ds[\"translation\"][i] for i in val_ind]})\n",
        "    assert (len(train_ds[\"id\"]) + len(val_ds[\"id\"])) - ds_size == 0\n",
        "    assert (len(train_ds[\"translation\"]) + len(val_ds[\"translation\"])) - ds_size == 0\n",
        "\n",
        "    return (train_ds, val_ds)"
      ],
      "metadata": {
        "id": "eGGgZPtxp8us"
      },
      "execution_count": 25,
      "outputs": []
    },
    {
      "cell_type": "code",
      "source": [
        "def new_rand_split(ds, prop, key):\n",
        "    ds_size = len(ds[\"encoder_input\"])\n",
        "    train_size = int(prop * ds_size)\n",
        "    val_size = ds_size - train_size\n",
        "    indices = jnp.arange(ds_size)\n",
        "    perm = jr.permutation(rand_key, indices, independent=False)  # get random permutation of indices\n",
        "    train_ind = perm[:train_size]\n",
        "    val_ind = perm[train_size:]\n",
        "\n",
        "    train_ds = {\"encoder_input\": ds[\"encoder_input\"][train_ind], \"decoder_input\": ds[\"decoder_input\"][train_ind], \"encoder_mask\": ds[\"encoder_mask\"][train_ind], \"decoder_mask\": ds[\"decoder_mask\"][train_ind], \"label\": ds[\"label\"][train_ind]}\n",
        "    val_ds ={\"encoder_input\": ds[\"encoder_input\"][val_ind], \"decoder_input\": ds[\"decoder_input\"][val_ind], \"encoder_mask\": ds[\"encoder_mask\"][val_ind], \"decoder_mask\": ds[\"decoder_mask\"][val_ind], \"label\": ds[\"label\"][val_ind]}\n",
        "\n",
        "    return (train_ds, val_ds)"
      ],
      "metadata": {
        "id": "eYlYCOVzZS9V"
      },
      "execution_count": 26,
      "outputs": []
    },
    {
      "cell_type": "markdown",
      "source": [
        "**Dataset processor**"
      ],
      "metadata": {
        "id": "ZcEvkTUTrmvM"
      }
    },
    {
      "cell_type": "code",
      "source": [
        "def process_ds(ds, tokenizer_src, tokenizer_tgt, src_lang, tgt_lang, src_seq_len, tgt_seq_len):\n",
        "    sos_token = jnp.asarray([tokenizer_src.token_to_id(\"[SOS]\")], dtype=int) # get sos token id from tokeniser - would be array of shape [1,]\n",
        "    eos_token = jnp.asarray([tokenizer_src.token_to_id(\"[EOS]\")], dtype=int)\n",
        "    pad_token  = jnp.asarray([tokenizer_src.token_to_id(\"[PAD]\")], dtype=int)\n",
        "\n",
        "    src_text = ds['translation'][src_lang]\n",
        "    tgt_text = ds['translation'][tgt_lang]\n",
        "\n",
        "    enc_input_tokens = tokenizer_src.encode(src_text).ids\n",
        "    dec_input_tokens =  tokenizer_tgt.encode(tgt_text).ids\n",
        "\n",
        "    enc_num_padding_tokens = src_seq_len - len(enc_input_tokens) - 2\n",
        "    dec_num_padding_tokens = tgt_seq_len - len(dec_input_tokens) - 1\n",
        "\n",
        "    if enc_num_padding_tokens < 0 or dec_num_padding_tokens < 0:\n",
        "        raise ValueError('Sentence is too long')\n",
        "\n",
        "    # add SOS and EOS to source text\n",
        "    encoder_input = jnp.concatenate([\n",
        "        sos_token,\n",
        "        jnp.asarray(enc_input_tokens),\n",
        "        eos_token,\n",
        "        jnp.repeat(pad_token, enc_num_padding_tokens)\n",
        "    ])\n",
        "\n",
        "    # add SOS to decoder input\n",
        "    decoder_input = jnp.concatenate([\n",
        "        sos_token,\n",
        "        jnp.asarray(dec_input_tokens, dtype=int),\n",
        "        jnp.repeat(pad_token, dec_num_padding_tokens)\n",
        "    ])\n",
        "\n",
        "    # add EOS to expected decoder output\n",
        "\n",
        "    label = jnp.concatenate([\n",
        "        jnp.asarray(dec_input_tokens, dtype=int),\n",
        "        eos_token,\n",
        "        jnp.repeat(pad_token, dec_num_padding_tokens)\n",
        "    ])\n",
        "\n",
        "    assert encoder_input.shape[0] == src_seq_len\n",
        "    assert decoder_input.shape[0] == tgt_seq_len\n",
        "    assert label.shape[0] == tgt_seq_len\n",
        "\n",
        "    encoder_mask = jnp.expand_dims((encoder_input!= pad_token), axis=0)  # (1, seq_len)\n",
        "    decoder_mask = jnp.expand_dims((encoder_input!= pad_token), axis=0) & causal_attention_mask(decoder_input) # (1 seq_len) & (seq_len seq_len)\n",
        "\n",
        "    return encoder_input, decoder_input, encoder_mask, decoder_mask, label, src_text, tgt_text"
      ],
      "metadata": {
        "id": "OyhO-_UPJRaZ"
      },
      "execution_count": 27,
      "outputs": []
    },
    {
      "cell_type": "code",
      "source": [
        "def batch_process_ds(ds, tokenizer_src, tokenizer_tgt, src_lang, tgt_lang, src_seq_len, tgt_seq_len):\n",
        "    sos_token = jnp.asarray([tokenizer_src.token_to_id(\"[SOS]\")], dtype=int) # get sos token id from tokeniser - would be array of shape [1,]\n",
        "    eos_token = jnp.asarray([tokenizer_src.token_to_id(\"[EOS]\")], dtype=int)\n",
        "    pad_token  = jnp.asarray([tokenizer_src.token_to_id(\"[PAD]\")], dtype=int)\n",
        "\n",
        "\n",
        "    # list comp #\n",
        "    src_text = [i[src_lang] for i in ds['translation']]   # if src_lang in ds['translation'][i]\n",
        "    tgt_text = [i[tgt_lang] for i in ds['translation']]\n",
        "\n",
        "    # func #\n",
        "    #get_words = lambda ds,src_lang,tgt_lang : ([i[src_lang] for i in ds['translation']], [i[tgt_lang] for i in ds['translation']])\n",
        "    #src_text, tgt_text = get_words(ds, src_lang, tgt_lang)\n",
        "\n",
        "\n",
        "    enc_input_tokens = [tokenizer_src.encode(i).ids for i in src_text]\n",
        "    dec_input_tokens = [tokenizer_tgt.encode(i).ids for i in tgt_text]\n",
        "\n",
        "    enc_num_padding_tokens = []\n",
        "    dec_num_padding_tokens = []\n",
        "\n",
        "    for i,j in zip(enc_input_tokens, dec_input_tokens):\n",
        "        enpt = src_seq_len - len(i) - 2\n",
        "        dnpt = tgt_seq_len - len(j) - 1\n",
        "\n",
        "        if enpt < 0 or dnpt < 0:\n",
        "            raise ValueError('Sentence is too long')\n",
        "\n",
        "        enc_num_padding_tokens.append(enpt)\n",
        "        dec_num_padding_tokens.append(dnpt)\n",
        "\n",
        "    encoder_input = [jnp.concatenate([\n",
        "    sos_token,\n",
        "    jnp.asarray(i),\n",
        "    eos_token,\n",
        "    jnp.repeat(pad_token, j)\n",
        "    ]) for i, j in zip(enc_input_tokens, enc_num_padding_tokens)]\n",
        "\n",
        "    decoder_input = [jnp.concatenate([\n",
        "        sos_token,\n",
        "        jnp.asarray(i, dtype=int),\n",
        "        jnp.repeat(pad_token, j)\n",
        "    ]) for i, j in zip(dec_input_tokens, dec_num_padding_tokens)]\n",
        "\n",
        "    label = [jnp.concatenate([\n",
        "        jnp.asarray(i, dtype=int),\n",
        "        eos_token,\n",
        "        jnp.repeat(pad_token, j)\n",
        "    ]) for i, j in zip(dec_input_tokens, dec_num_padding_tokens)]\n",
        "\n",
        "    for i,j,k in zip(encoder_input, decoder_input, label):\n",
        "        assert i.shape[0] == src_seq_len\n",
        "        assert j.shape[0] == tgt_seq_len\n",
        "        assert k.shape[0] == tgt_seq_len\n",
        "\n",
        "    encoder_mask = [jnp.expand_dims((i!=pad_token), axis=0) for i in encoder_input]  # (1, seq_len)\n",
        "    decoder_mask = [jnp.expand_dims((i!=pad_token), axis=0) & causal_attention_mask(j) for i,j in zip(encoder_input, decoder_input)] # (1 seq_len) & (seq_len seq_len)\n",
        "\n",
        "    return jnp.asarray(encoder_input), jnp.asarray(decoder_input), jnp.asarray(encoder_mask), jnp.asarray(decoder_mask), jnp.asarray(label), src_text, tgt_text"
      ],
      "metadata": {
        "id": "ierCbZFm3lNH"
      },
      "execution_count": 28,
      "outputs": []
    },
    {
      "cell_type": "markdown",
      "source": [
        "**Data loader**"
      ],
      "metadata": {
        "id": "a7-kpX-ZsZcg"
      }
    },
    {
      "cell_type": "code",
      "source": [
        "def dataloader(data, batch_size, *, key):\n",
        "    dataset_size = len(data[\"id\"])\n",
        "    indices = jnp.arange(dataset_size)\n",
        "    perm = jr.permutation(key, indices)  # get random permutation of indices\n",
        "    (key, ) = jr.split(key, 1)\n",
        "    start = 0\n",
        "    end = batch_size\n",
        "    while end < dataset_size:\n",
        "        batch_perm = perm[start:end]\n",
        "        #new_dict = {\"id\": [list(data[\"id\"])[i] for i in batch_perm], \"translation\": [list(data[\"translation\"])[j] for j in batch_perm]}\n",
        "        new_dict = {\"id\": [data[\"id\"][i] for i in batch_perm], \"translation\": [data[\"translation\"][j] for j in batch_perm]}\n",
        "        yield new_dict\n",
        "        start = end\n",
        "        end = start + batch_size"
      ],
      "metadata": {
        "id": "LO1JMJ9CHqTG"
      },
      "execution_count": 29,
      "outputs": []
    },
    {
      "cell_type": "code",
      "source": [
        "def new_dataloader(data, batch_size, ds_size, *, key):\n",
        "    dataset_size = ds_size\n",
        "    indices = jnp.arange(dataset_size)\n",
        "    perm = jr.permutation(key, indices)  # get random permutation of indices\n",
        "    (key, ) = jr.split(key, 1)\n",
        "    start = 0\n",
        "    end = batch_size\n",
        "    while end < dataset_size:\n",
        "        batch_perm = perm[start:end]\n",
        "        yield {\"encoder_inputs\":data[\"encoder_input\"][batch_perm], \"encoder_masks\":data[\"encoder_mask\"][batch_perm], \"decoder_inputs\":data[\"decoder_input\"][batch_perm], \"decoder_masks\":data[\"decoder_mask\"][batch_perm], \"labels\":data[\"label\"][batch_perm]}\n",
        "        start = end\n",
        "        end = start + batch_size"
      ],
      "metadata": {
        "id": "Qg_-RbzcIhn4"
      },
      "execution_count": 30,
      "outputs": []
    },
    {
      "cell_type": "markdown",
      "source": [
        "#### Data download and setup"
      ],
      "metadata": {
        "id": "tXYf7UM6xWfb"
      }
    },
    {
      "cell_type": "code",
      "source": [
        "# def new_data(ds):\n",
        "#     new_ds = {'id':[], 'en':[], 'it':[]}\n",
        "\n",
        "#     ds_size = len(ds['translation'])\n",
        "#     count=0\n",
        "#     #tip = math.floor((5/100)*ds_size)\n",
        "#     for i in range(50):   #ds_size\n",
        "\n",
        "#         trans_in = ds['translation'][i]['en']\n",
        "#         trans_out = ds['translation'][i]['it']\n",
        "#         index = ds['id'][i]\n",
        "\n",
        "#         new_ds['en'].append(trans_in)\n",
        "#         new_ds['it'].append(trans_out)\n",
        "#         new_ds['id'].append(index)\n",
        "\n",
        "#         count+=1\n",
        "\n",
        "#         if count % 100 == 0:\n",
        "#             print(count)\n",
        "\n",
        "#     return new_ds"
      ],
      "metadata": {
        "id": "UCDsZqEs3Apd"
      },
      "execution_count": null,
      "outputs": []
    },
    {
      "cell_type": "code",
      "source": [
        "def new_process_ds(data):\n",
        "    encoder_inputs = []\n",
        "    decoder_inputs = []\n",
        "    encoder_masks = []\n",
        "    decoder_masks = []\n",
        "    labels = []\n",
        "\n",
        "\n",
        "    count=0\n",
        "    for i in range(gpt_config[\"ds_size\"]):\n",
        "\n",
        "        nd = {'id':data[\"id\"][i], 'translation':data[\"translation\"][i]}\n",
        "        encoder_input, decoder_input, encoder_mask, decoder_mask, label, src_text, tgt_text = process_ds(\n",
        "            nd, tokenizer_src, tokenizer_tgt, gpt_config[\"src_lang\"], gpt_config[\"tgt_lang\"], gpt_config[\"src_seq_len\"], gpt_config[\"tgt_seq_len\"]\n",
        "            )\n",
        "\n",
        "        encoder_inputs.append(encoder_input)\n",
        "        decoder_inputs.append(decoder_input)\n",
        "        encoder_masks.append(encoder_mask)\n",
        "        decoder_masks.append(decoder_mask)\n",
        "        labels.append(label)\n",
        "\n",
        "        count+=1\n",
        "\n",
        "        if count % 1000 == 0:\n",
        "            print(count)\n",
        "\n",
        "    encoder_inputs = jnp.asarray(encoder_inputs)\n",
        "    decoder_inputs = jnp.asarray(decoder_inputs)\n",
        "    encoder_masks = jnp.asarray(encoder_masks)\n",
        "    decoder_masks = jnp.asarray(decoder_masks)\n",
        "    labels = jnp.asarray(labels)\n",
        "\n",
        "\n",
        "    #return [encoder_inputs, decoder_inputs, encoder_masks, decoder_masks, labels]\n",
        "    return {\"encoder_input\": encoder_inputs, \"decoder_input\": decoder_inputs, \"encoder_mask\": encoder_masks, \"decoder_mask\": decoder_masks, \"label\": labels}"
      ],
      "metadata": {
        "id": "9J84tPAK1bpo"
      },
      "execution_count": 25,
      "outputs": []
    },
    {
      "cell_type": "code",
      "source": [
        "# load dataset #\n",
        "ds_raw = load_dataset('opus_books', f'{gpt_config[\"src_lang\"]}-{gpt_config[\"tgt_lang\"]}', split='train')\n",
        "ds_raw = ds_raw.with_format(\"jax\")\n",
        "\n",
        "# tokenize input data #\n",
        "tokenizer_src = get_or_build_tokenizer(ds_raw, gpt_config[\"src_lang\"])\n",
        "tokenizer_tgt = get_or_build_tokenizer(ds_raw, gpt_config[\"tgt_lang\"])\n",
        "\n",
        "# # train/validation split #\n",
        "# train_ds_size = int(0.9 * len(ds_raw))\n",
        "# val_ds_size = len(ds_raw) - train_ds_size\n",
        "# train_ds_raw, val_ds_raw = rand_split(ds_raw, train_ds_size, val_ds_size, split_key)"
      ],
      "metadata": {
        "id": "bZEFDMmIggab",
        "colab": {
          "base_uri": "https://localhost:8080/",
          "height": 201,
          "referenced_widgets": [
            "acc0a3b09dc44520a6edb717efd8e275",
            "b6e503637f454e998dfb8e23f5f8f47f",
            "263a0a6c7af7474a816d4f713d8f1243",
            "8b6512363d734b65a669f38ffb248599",
            "37a729d684e547f1b8d2389a348056a3",
            "c6bec26f019a4f16a2d49e522a2e709e",
            "33314ab85e794050b24e0edfe57a2684",
            "3a7a94a121c34027beb1367b4534c6a3",
            "12cd939501f44f00b3ea415cc3396579",
            "5669305aa6f3477298d73ed3ef815cad",
            "884e69bee58847fabb6d52c7916d898a",
            "616af203679f4388b534973d3f6fe262",
            "3bf450fadab945abbb956deaacf39ded",
            "c66fe251c3254e0ca077cf9e9b1f9df6",
            "87944546cf564e13ace94e9f3ebde987",
            "cccc0a79e6444576978887610ce0e90e",
            "d2d2c25066fe4a0fb54bc4d6148d6606",
            "aea786e32d694b18ba287df7c869ec05",
            "5e95f63e93cb4175b79b593f929d6619",
            "1816b539896740c08e983a6cec13880b",
            "e230568962e042e0a1a98a5a77dc8bba",
            "3e9c0c16c12643e19b01e21049ad474a",
            "8ec3e49cfbe24a2ea11592015019d709",
            "fcef5de89e5e469ea5fc5fcf7e56a437",
            "753549b9ec0a485386fc3c6e9bee79e0",
            "707c7e75053e42178bd0808c0ac092d3",
            "3d3e8fb79aa54e598e52e9735cb55962",
            "1c26ef863c624dd393348ed4f4c01604",
            "a913437a828d4260b3bcee572398204f",
            "a16d7204d18e4b8d878de12eb83f38d7",
            "97b7de03628a4ffda7db56e2862d1430",
            "2bfa54104a434fb3bb5a421f6a16378b",
            "8ef6516ba54248859862f5da081cdf15",
            "68cf6234851d4b4f8c1f7babe3d2e9f8",
            "adf2429006bc4f268814b6dfd4a55a2c",
            "11048785fbd14809a9bc4357285600de",
            "8a2149a3f33d4d478326c20229403170",
            "425e732c10324be7956328773ee1c6d6",
            "268dd324b60b477994f67933d82d49c0",
            "dfd1b94854254e5a901b830745455d90",
            "d308601dcd6348ac926a2a9a4fa66f30",
            "b35a113c25844c0d81e00bd46902c2cd",
            "7c6c45c8b17b45b789fae90151e813f0",
            "b3fdd711e3764157bc58d122661f2550",
            "60b4d17771764ea98a422552436c86fa",
            "294ed3cd43bc4d4f83a6212daa3ce944",
            "17498048193049eaa56cafce97c37e9b",
            "c2db5d94fa2d4018bc0c4d9f06d681d1",
            "018a8ba61ebb403f90e17e85ce40e7ac",
            "68c7e4c53e1b45bbb35c0a5c46474a36",
            "cb0d4a5da56e4201abcf7aa0b447be73",
            "3e012902e6b14deca3db6efa095373e4",
            "d5f2e8b85bd948f1a8eb258a8f74d93c",
            "07acc05845e941e9855ee86c3821eeae",
            "e583833895444a5db1dab3d8bb321c3c"
          ]
        },
        "outputId": "037fcdc2-3f89-407a-a03f-53d0436d2341"
      },
      "execution_count": 26,
      "outputs": [
        {
          "output_type": "display_data",
          "data": {
            "text/plain": [
              "Downloading builder script:   0%|          | 0.00/6.08k [00:00<?, ?B/s]"
            ],
            "application/vnd.jupyter.widget-view+json": {
              "version_major": 2,
              "version_minor": 0,
              "model_id": "acc0a3b09dc44520a6edb717efd8e275"
            }
          },
          "metadata": {}
        },
        {
          "output_type": "display_data",
          "data": {
            "text/plain": [
              "Downloading metadata:   0%|          | 0.00/161k [00:00<?, ?B/s]"
            ],
            "application/vnd.jupyter.widget-view+json": {
              "version_major": 2,
              "version_minor": 0,
              "model_id": "616af203679f4388b534973d3f6fe262"
            }
          },
          "metadata": {}
        },
        {
          "output_type": "display_data",
          "data": {
            "text/plain": [
              "Downloading readme:   0%|          | 0.00/20.5k [00:00<?, ?B/s]"
            ],
            "application/vnd.jupyter.widget-view+json": {
              "version_major": 2,
              "version_minor": 0,
              "model_id": "8ec3e49cfbe24a2ea11592015019d709"
            }
          },
          "metadata": {}
        },
        {
          "output_type": "stream",
          "name": "stdout",
          "text": [
            "Downloading and preparing dataset opus_books/en-fr to /root/.cache/huggingface/datasets/opus_books/en-fr/1.0.0/e8f950a4f32dc39b7f9088908216cd2d7e21ac35f893d04d39eb594746af2daf...\n"
          ]
        },
        {
          "output_type": "display_data",
          "data": {
            "text/plain": [
              "Downloading data:   0%|          | 0.00/12.0M [00:00<?, ?B/s]"
            ],
            "application/vnd.jupyter.widget-view+json": {
              "version_major": 2,
              "version_minor": 0,
              "model_id": "68cf6234851d4b4f8c1f7babe3d2e9f8"
            }
          },
          "metadata": {}
        },
        {
          "output_type": "display_data",
          "data": {
            "text/plain": [
              "Generating train split:   0%|          | 0/127085 [00:00<?, ? examples/s]"
            ],
            "application/vnd.jupyter.widget-view+json": {
              "version_major": 2,
              "version_minor": 0,
              "model_id": "60b4d17771764ea98a422552436c86fa"
            }
          },
          "metadata": {}
        },
        {
          "output_type": "stream",
          "name": "stdout",
          "text": [
            "Dataset opus_books downloaded and prepared to /root/.cache/huggingface/datasets/opus_books/en-fr/1.0.0/e8f950a4f32dc39b7f9088908216cd2d7e21ac35f893d04d39eb594746af2daf. Subsequent calls will reuse this data.\n"
          ]
        }
      ]
    },
    {
      "cell_type": "markdown",
      "source": [
        "*Check length of sentences*"
      ],
      "metadata": {
        "id": "493LLtN1spoB"
      }
    },
    {
      "cell_type": "code",
      "source": [
        "max_len_src = 0\n",
        "max_len_tgt = 0\n",
        "for item in ds_raw:\n",
        "    src_ids = tokenizer_src.encode(item['translation'][gpt_config[\"src_lang\"]]).ids\n",
        "    tgt_ids = tokenizer_tgt.encode(item['translation'][gpt_config[\"tgt_lang\"]]).ids\n",
        "    max_len_src = max(max_len_src, len(src_ids))\n",
        "    max_len_tgt = max(max_len_tgt, len(tgt_ids))\n",
        "\n",
        "print(f'Max length of source sentence: {max_len_src}')\n",
        "print(f'Max length of target sentence: {max_len_tgt}')"
      ],
      "metadata": {
        "colab": {
          "base_uri": "https://localhost:8080/"
        },
        "id": "wlOH4AozC4CP",
        "outputId": "49812859-3ee9-4148-94d7-9373750326f5"
      },
      "execution_count": 26,
      "outputs": [
        {
          "output_type": "stream",
          "name": "stdout",
          "text": [
            "Max length of source sentence: 471\n",
            "Max length of target sentence: 482\n"
          ]
        }
      ]
    },
    {
      "cell_type": "markdown",
      "source": [
        "*Check sentence length within certain number*"
      ],
      "metadata": {
        "id": "oYwh2cpJUtue"
      }
    },
    {
      "cell_type": "code",
      "source": [
        "max_len_src = 0\n",
        "max_len_tgt = 0\n",
        "count=0\n",
        "for item in ds_raw:\n",
        "    src_ids = tokenizer_src.encode(item['translation'][gpt_config[\"src_lang\"]]).ids\n",
        "    tgt_ids = tokenizer_tgt.encode(item['translation'][gpt_config[\"tgt_lang\"]]).ids\n",
        "    if len(src_ids) >50 or len(tgt_ids) > 50:\n",
        "        count+=1\n",
        "\n",
        "    max_len_src = max(max_len_src, len(src_ids))\n",
        "    max_len_tgt = max(max_len_tgt, len(tgt_ids))\n",
        "\n",
        "\n",
        "\n",
        "print(f'Max length of source sentence: {max_len_src}')\n",
        "print(f'Max length of target sentence: {max_len_tgt}')\n",
        "print(count)"
      ],
      "metadata": {
        "colab": {
          "base_uri": "https://localhost:8080/"
        },
        "id": "785n0QZ5QqQh",
        "outputId": "9bc06c30-0e07-4fdc-ab3f-e42dce068abf"
      },
      "execution_count": 30,
      "outputs": [
        {
          "output_type": "stream",
          "name": "stdout",
          "text": [
            "Max length of source sentence: 471\n",
            "Max length of target sentence: 482\n",
            "15214\n"
          ]
        }
      ]
    },
    {
      "cell_type": "markdown",
      "source": [
        "*New data set composed of sentences with minimum length*"
      ],
      "metadata": {
        "id": "9NQVdeM5Uzks"
      }
    },
    {
      "cell_type": "code",
      "source": [
        "max_len_src = 0\n",
        "max_len_tgt = 0\n",
        "new_ds = {\"id\":[], \"translation\":[]}\n",
        "for item in ds_raw:\n",
        "    src_ids = tokenizer_src.encode(item['translation'][gpt_config[\"src_lang\"]]).ids\n",
        "    tgt_ids = tokenizer_tgt.encode(item['translation'][gpt_config[\"tgt_lang\"]]).ids\n",
        "    if len(src_ids) <=50 and len(tgt_ids) <= 50:\n",
        "        new_ds[\"id\"].append(item[\"id\"])\n",
        "        new_ds[\"translation\"].append(item[\"translation\"])"
      ],
      "metadata": {
        "id": "MoxqcjuNSJsR"
      },
      "execution_count": 36,
      "outputs": []
    },
    {
      "cell_type": "markdown",
      "source": [
        "*Check new dataset*"
      ],
      "metadata": {
        "id": "fOCH9If3U3gy"
      }
    },
    {
      "cell_type": "code",
      "source": [
        "max_len_src = 0\n",
        "max_len_tgt = 0\n",
        "for i in range(len(new_ds[\"id\"])):\n",
        "    src_ids = tokenizer_src.encode(new_ds['translation'][i][gpt_config[\"src_lang\"]]).ids\n",
        "    tgt_ids = tokenizer_tgt.encode(new_ds['translation'][i][gpt_config[\"tgt_lang\"]]).ids\n",
        "    max_len_src = max(max_len_src, len(src_ids))\n",
        "    max_len_tgt = max(max_len_tgt, len(tgt_ids))\n",
        "\n",
        "print(f'Max length of source sentence: {max_len_src}')\n",
        "print(f'Max length of target sentence: {max_len_tgt}')"
      ],
      "metadata": {
        "colab": {
          "base_uri": "https://localhost:8080/"
        },
        "id": "EcGET5tkTW-x",
        "outputId": "24e3ec51-9619-4d03-a397-2ee37c9ef840"
      },
      "execution_count": 51,
      "outputs": [
        {
          "output_type": "stream",
          "name": "stdout",
          "text": [
            "Max length of source sentence: 50\n",
            "Max length of target sentence: 50\n"
          ]
        }
      ]
    },
    {
      "cell_type": "code",
      "source": [
        "# update gpt configuration #\n",
        "new_config = {\n",
        "    \"src_vocab_size\": tokenizer_src.get_vocab_size(),\n",
        "    \"tgt_vocab_size\": tokenizer_tgt.get_vocab_size(),\n",
        "    \"src_seq_len\": 55,\n",
        "    \"tgt_seq_len\": 55,\n",
        "    \"ds_size\": len(new_ds[\"id\"])\n",
        "    }\n",
        "gpt_config.update(new_config)"
      ],
      "metadata": {
        "id": "3h8OAxaNhLos"
      },
      "execution_count": null,
      "outputs": []
    },
    {
      "cell_type": "code",
      "source": [
        "new_ds_raw = new_process_ds(new_ds)"
      ],
      "metadata": {
        "id": "hCdRIT1eNW0Q"
      },
      "execution_count": null,
      "outputs": []
    },
    {
      "cell_type": "code",
      "source": [
        "import shutil\n",
        "from google.colab import drive\n",
        "drive.mount('/content/gdrive')"
      ],
      "metadata": {
        "colab": {
          "base_uri": "https://localhost:8080/"
        },
        "id": "bhVujShesdbs",
        "outputId": "c1e18b25-1824-45ba-87fb-3b19be7b0efb"
      },
      "execution_count": 27,
      "outputs": [
        {
          "output_type": "stream",
          "name": "stdout",
          "text": [
            "Mounted at /content/gdrive\n"
          ]
        }
      ]
    },
    {
      "cell_type": "code",
      "source": [
        "from pickle import dump, load"
      ],
      "metadata": {
        "id": "gNrZkJfWwfNS"
      },
      "execution_count": 28,
      "outputs": []
    },
    {
      "cell_type": "code",
      "source": [
        "with open('./OpusEnFrproc.pkl', 'wb') as file:\n",
        "    dump(new_ds_raw, file)\n",
        "\n",
        "import shutil\n",
        "shutil.copy('./OpusEnFrproc.pkl','/content/gdrive/MyDrive/Colab_Notebooks')"
      ],
      "metadata": {
        "colab": {
          "base_uri": "https://localhost:8080/",
          "height": 36
        },
        "id": "f4upQu5Ysriy",
        "outputId": "a1558eec-0a98-45e5-c61f-9878f1d67279"
      },
      "execution_count": 56,
      "outputs": [
        {
          "output_type": "execute_result",
          "data": {
            "text/plain": [
              "'/content/gdrive/MyDrive/Colab_Notebooks/OpusEnFrproc.pkl'"
            ],
            "application/vnd.google.colaboratory.intrinsic+json": {
              "type": "string"
            }
          },
          "metadata": {},
          "execution_count": 56
        }
      ]
    },
    {
      "cell_type": "code",
      "source": [
        "new_ds_raw = load(open('gdrive/MyDrive/Colab_Notebooks/OpusEnFrproc.pkl', 'rb'))"
      ],
      "metadata": {
        "id": "G5uOTYvisuFk"
      },
      "execution_count": 29,
      "outputs": []
    },
    {
      "cell_type": "code",
      "source": [
        "# update gpt configuration #\n",
        "new_config = {\n",
        "    \"src_vocab_size\": tokenizer_src.get_vocab_size(),\n",
        "    \"tgt_vocab_size\": tokenizer_tgt.get_vocab_size(),\n",
        "    \"src_seq_len\": 55,\n",
        "    \"tgt_seq_len\": 55,\n",
        "    \"ds_size\": len(new_ds_raw[\"encoder_input\"])\n",
        "    }\n",
        "gpt_config.update(new_config)"
      ],
      "metadata": {
        "id": "YzYpnYvxblcj"
      },
      "execution_count": 94,
      "outputs": []
    },
    {
      "cell_type": "code",
      "source": [
        "# train/validation split #\n",
        "train_ds_raw, val_ds_raw = new_rand_split(new_ds_raw, 0.9, split_key)"
      ],
      "metadata": {
        "id": "5pfKgFCDVdtA"
      },
      "execution_count": 30,
      "outputs": []
    },
    {
      "cell_type": "markdown",
      "source": [
        "#### Training loop"
      ],
      "metadata": {
        "id": "BkUDtDTijyIW"
      }
    },
    {
      "cell_type": "markdown",
      "source": [
        "**Loss functions**"
      ],
      "metadata": {
        "id": "_H_v9R_XuU0D"
      }
    },
    {
      "cell_type": "markdown",
      "source": [
        "*Without label smoothing*"
      ],
      "metadata": {
        "id": "YS7uCggzUBJk"
      }
    },
    {
      "cell_type": "code",
      "source": [
        "# def compute_loss(model, encoder_inputs, encoder_masks, decoder_inputs, decoder_masks, labels, key):   # key\n",
        "#     batch_size = encoder_inputs.shape[0]\n",
        "#     batch_keys = jr.split(key, num=2*batch_size)\n",
        "#     encoder_output = jax.vmap(model.encode, in_axes=(0, 0, None, 0))(encoder_inputs, encoder_masks, True, batch_keys[0:batch_size])\n",
        "#         #encoder_output = jax.vmap(functools.partial(model.encode, enable_dropout=True), in_axes=(0, 0, 0))(encoder_inputs, encoder_masks, batch_keys[0:8])\n",
        "#     decoder_output = jax.vmap(model.decode, in_axes=(0, 0, 0, 0, None, 0))(encoder_output, encoder_masks, decoder_inputs, decoder_masks, True, batch_keys[batch_size:2*batch_size])\n",
        "#     proj_output = jax.vmap(model.project, in_axes=0)(decoder_output)\n",
        "#     logits = einops.rearrange(proj_output, \"b s v -> (b s) v\") # , b=batch_size, s = proj_output[1], tokenizer_tgt.get_vocab_size())\n",
        "#     labels = einops.rearrange(labels, \" b s -> (b s)\")\n",
        "#     pad_pos = tokenizer_tgt.token_to_id(\"[PAD]\")\n",
        "#     pad_mask = jnp.where(labels==pad_pos, 0., 1.)\n",
        "#     # label smoothing #\n",
        "#     oh_labels = jax.nn.one_hot(labels, tokenizer_tgt.get_vocab_size())\n",
        "#     oh_labels = oh_labels.at[:, pad_pos].set(0.)\n",
        "#     # s_labels = optax.smooth_labels(oh_labels, alpha=0.1)\n",
        "#     # s_labels = s_labels.at[:, pad_pos].set(0.)\n",
        "\n",
        "#     logits=logits.at[:, pad_pos].set(-1e3)\n",
        "\n",
        "#     loss = optax.softmax_cross_entropy(logits=logits, labels=oh_labels)\n",
        "#     loss_masked = loss * pad_mask\n",
        "\n",
        "#     return jnp.sum(loss_masked)/jnp.sum(pad_mask)   # loss_masked"
      ],
      "metadata": {
        "id": "i5OMPSUdc0ts"
      },
      "execution_count": 32,
      "outputs": []
    },
    {
      "cell_type": "markdown",
      "source": [
        "*With label smoothing*"
      ],
      "metadata": {
        "id": "ypgkLU67UE4t"
      }
    },
    {
      "cell_type": "code",
      "source": [
        "# ds = jnp.stack([jnp.concatenate([jnp.array([75, 4, 56, 32, 51, 49, 78, 23], dtype=int), jnp.ones(shape=(47,), dtype=int)]), jnp.concatenate([jnp.array([31, 84, 33, 23, 4, 97, 65], dtype=int), jnp.ones(shape=(48,), dtype=int)])])"
      ],
      "metadata": {
        "id": "evBXGdw_Gi5h"
      },
      "execution_count": 31,
      "outputs": []
    },
    {
      "cell_type": "code",
      "source": [
        "# gpt_config = {\n",
        "#     \"src_vocab_size\": 22000,\n",
        "#     \"tgt_vocab_size\": 30000,\n",
        "#     \"src_seq_len\": 55,\n",
        "#     \"tgt_seq_len\": 55,\n",
        "#     \"d_model\": 64,     # - 512\n",
        "#     \"num_hidden_layers\": 2,   #N - 6\n",
        "#     \"num_attention_heads\": 2,   #h - 8\n",
        "#     \"intermediate_size\": 128,    #d_ff - 2048\n",
        "#     \"hidden_dropout_prob\": 0.1,\n",
        "#     \"attention_dropout_prob\": 0.1,\n",
        "#     \"src_lang\": \"en\",\n",
        "#     \"tgt_lang\": \"fr\",\n",
        "#     \"epochs\": 20,\n",
        "#     \"batch_size\": 2,\n",
        "#     \"learning_rate\": 1e-4,\n",
        "#     \"ds_size\": 20,\n",
        "# }"
      ],
      "metadata": {
        "id": "CEAyLLOkIobg"
      },
      "execution_count": 72,
      "outputs": []
    },
    {
      "cell_type": "code",
      "source": [
        "# model = Transformer(gpt_config, rand_key)"
      ],
      "metadata": {
        "id": "-gkG39DLGtKP"
      },
      "execution_count": 73,
      "outputs": []
    },
    {
      "cell_type": "code",
      "source": [
        "# compute_loss(model, new_ds_raw[\"encoder_input\"][0:2], new_ds_raw[\"encoder_mask\"][0:2], new_ds_raw[\"decoder_input\"][0:2], new_ds_raw[\"decoder_mask\"][0:2], new_ds_raw[\"label\"][0:2], rand_key)"
      ],
      "metadata": {
        "colab": {
          "base_uri": "https://localhost:8080/"
        },
        "id": "Oz2n9gqpJ2qm",
        "outputId": "cedff619-5871-4cb5-b8d4-3faed4a528dd"
      },
      "execution_count": 81,
      "outputs": [
        {
          "output_type": "execute_result",
          "data": {
            "text/plain": [
              "Array(20.431934, dtype=float32)"
            ]
          },
          "metadata": {},
          "execution_count": 81
        }
      ]
    },
    {
      "cell_type": "code",
      "source": [
        "def compute_loss(model, encoder_inputs, encoder_masks, decoder_inputs, decoder_masks, labels, key):   # key\n",
        "    batch_size = encoder_inputs.shape[0]\n",
        "    batch_keys = jr.split(key, num=2*batch_size)\n",
        "    encoder_output = jax.vmap(model.encode, in_axes=(0, 0, None, 0))(encoder_inputs, encoder_masks, True, batch_keys[0:batch_size])\n",
        "        #encoder_output = jax.vmap(functools.partial(model.encode, enable_dropout=True), in_axes=(0, 0, 0))(encoder_inputs, encoder_masks, batch_keys[0:8])\n",
        "    decoder_output = jax.vmap(model.decode, in_axes=(0, 0, 0, 0, None, 0))(encoder_output, encoder_masks, decoder_inputs, decoder_masks, True, batch_keys[batch_size:2*batch_size])\n",
        "    proj_output = jax.vmap(model.project, in_axes=0)(decoder_output)\n",
        "\n",
        "    output = einops.rearrange(proj_output, \"b s v -> (b s) v\") # , b=batch_size, s = proj_output[1], tokenizer_tgt.get_vocab_size())\n",
        "    labels = einops.rearrange(labels, \" b s -> (b s)\")\n",
        "\n",
        "    pad_pos = tokenizer_tgt.token_to_id(\"[PAD]\")\n",
        "\n",
        "    oh_labels = jax.nn.one_hot(labels, tokenizer_tgt.get_vocab_size())\n",
        "    oh_labels = oh_labels.at[:, pad_pos].set(0.)  # unnecessary step but useful if I want to get rid of \"label smoothing\"\n",
        "\n",
        "    s_labels = optax.smooth_labels(oh_labels, alpha=0.1)  # label smoothing\n",
        "\n",
        "    s_labels = s_labels.at[:, pad_pos].set(0.)   # set all \"vertical\" padding tokens to one i.e. all possible alternatives to 0 (this wouldn't be necessary with no label smoothing - redundacy yet)\n",
        "    mask = jnp.asarray(labels == pad_pos) # T/F - true/false mask\n",
        "    new_labels = jax.vmap(jnp.where, in_axes=(0,None, 0))(mask, 0., s_labels)  # so padding token is zero vertically but also entire rows of the paddding tokens are zero (think cross in a way)\n",
        "    pad_mask = jnp.where(labels==pad_pos, 0., 1.)  # 1/0  - useful for working out number of non-padding tokens\n",
        "\n",
        "    output=output.at[:, pad_pos].set(-1e4)  #or -jnp.inf - for model output, ensure for every prediction that the padding token is set as negative possible for getting zero probability in the softmax\n",
        "\n",
        "    loss = optax.softmax_cross_entropy(logits=output, labels=new_labels)  #compute cross entropy loss\n",
        "\n",
        "    return jnp.sum(loss)/jnp.sum(pad_mask)  # calculate mean of non padding tokens only!"
      ],
      "metadata": {
        "id": "p2QalBOLH8aF"
      },
      "execution_count": 80,
      "outputs": []
    },
    {
      "cell_type": "markdown",
      "source": [
        "*Make update step*"
      ],
      "metadata": {
        "id": "frRoEmlGWkoP"
      }
    },
    {
      "cell_type": "code",
      "source": [
        "@eqx.filter_jit\n",
        "def make_step(model, encoder_inputs, encoder_masks, decoder_inputs, decoder_masks, labels, opt_state, opt_update, key):  # key\n",
        "    key, new_key = jr.split(key)\n",
        "    loss_fn = eqx.filter_value_and_grad(compute_loss)\n",
        "    loss, grads = loss_fn(model, encoder_inputs, encoder_masks, decoder_inputs, decoder_masks, labels, key) # key\n",
        "    updates, opt_state = opt_update(grads, opt_state)\n",
        "    model = eqx.apply_updates(model, updates)\n",
        "\n",
        "    return loss, model, opt_state, new_key"
      ],
      "metadata": {
        "id": "yl2e7PSA37B0"
      },
      "execution_count": 82,
      "outputs": []
    },
    {
      "cell_type": "markdown",
      "source": [
        "**Model initialisation** - *Including custom Xavier uniform initialisation*"
      ],
      "metadata": {
        "id": "cx-OjrY5unHU"
      }
    },
    {
      "cell_type": "code",
      "source": [
        "# weight initialiser #\n",
        "def xavier_init(param: jax.Array, key = jr.PRNGKey) -> jax.Array:\n",
        "    initialiser = jax.nn.initializers.glorot_uniform()\n",
        "    params = initialiser(key, param.shape)\n",
        "    return params\n",
        "\n",
        "# bias initialiser #\n",
        "def xavier_init_b(param: jax.Array, key = jr.PRNGKey) -> jax.Array:\n",
        "    initialiser = jax.nn.initializers.glorot_uniform()\n",
        "    params = initialiser(key, (1, param.shape[0]))\n",
        "    params = jnp.squeeze(params, axis=0)\n",
        "    return params\n",
        "\n",
        "# initiliase custom model parameters #\n",
        "def init_parameters(model, init_fn, init_fn_b, key):\n",
        "\n",
        "    wkey, bkey, ekey = jr.split(key, 3)\n",
        "\n",
        "    is_linear = lambda x: isinstance(x, eqx.nn.Linear)\n",
        "\n",
        "    get_weights = lambda m: [x.weight for x in jax.tree_util.tree_leaves(m, is_leaf=is_linear) if is_linear(x)]\n",
        "    weights = get_weights(model)\n",
        "    new_weights = [init_fn(weight, subkey) for weight, subkey in zip(weights, jr.split(wkey, len(weights)))]\n",
        "    model_w = eqx.tree_at(get_weights, model, new_weights)\n",
        "\n",
        "    get_biases = lambda m: [x.bias for x in jax.tree_util.tree_leaves(m, is_leaf=is_linear) if is_linear(x)]\n",
        "    biases = get_biases(model_w)\n",
        "    new_biases = [init_fn_b(bias, subkey) for bias, subkey in zip(biases, jr.split(bkey, len(biases)))]\n",
        "    model_wb = eqx.tree_at(get_biases, model_w, new_biases)\n",
        "\n",
        "    is_embedding = lambda x: isinstance(x, eqx.nn.Embedding)\n",
        "\n",
        "    get_embs = lambda m: [x.weight for x in jax.tree_util.tree_leaves(m, is_leaf=is_embedding) if is_embedding(x)]\n",
        "    embs = get_embs(model_wb)\n",
        "    new_embs = [init_fn(embedding, subkey) for embedding, subkey in zip(embs, jr.split(ekey, len(embs)))]\n",
        "    new_model = eqx.tree_at(get_embs, model_wb, new_embs)\n",
        "\n",
        "    return new_model"
      ],
      "metadata": {
        "id": "XqAfU8oym-Ry"
      },
      "execution_count": 83,
      "outputs": []
    },
    {
      "cell_type": "code",
      "source": [
        "# custom model initialisation #\n",
        "init_model = Transformer(gpt_config, r_init_key)\n",
        "model = init_parameters(init_model, xavier_init, xavier_init_b, c_init_key)"
      ],
      "metadata": {
        "id": "E-5NHiDx63O4"
      },
      "execution_count": 95,
      "outputs": []
    },
    {
      "cell_type": "markdown",
      "source": [
        "**Optimiser initialisation**  - *including clipping grad norm and learning rate schedule*"
      ],
      "metadata": {
        "id": "ZlIh4kGou4yI"
      }
    },
    {
      "cell_type": "code",
      "source": [
        "# setup optax #\n",
        "opt = optax.inject_hyperparams(optax.adam)(learning_rate = optax.warmup_cosine_decay_schedule(\n",
        "    init_value=1e-9,\n",
        "    peak_value=1e-3,\n",
        "    warmup_steps = math.floor((gpt_config[\"ds_size\"]//gpt_config[\"batch_size\"]) * gpt_config[\"epochs\"] * 0.075),\n",
        "    decay_steps = math.floor((gpt_config[\"ds_size\"]//gpt_config[\"batch_size\"]) * gpt_config[\"epochs\"] * 0.925),\n",
        "    end_value = 2e-4 * 1e-3)  # min value (alpha) for cosine schedule is alpha = end_value / peak_value, so I want alpha to be 2e-4\n",
        ")\n",
        "\n",
        "#opt = optax.adam(learning_rate=gpt_config[\"learning_rate\"])\n",
        "\n",
        "opt = optax.chain(optax.clip_by_global_norm(1.0), opt)\n",
        "\n",
        "opt_state = opt.init(eqx.filter(model, eqx.is_inexact_array))"
      ],
      "metadata": {
        "id": "aoTgiL9R5QOY"
      },
      "execution_count": 96,
      "outputs": []
    },
    {
      "cell_type": "markdown",
      "source": [
        "**Validation accuracy**"
      ],
      "metadata": {
        "id": "RiyScf064_w7"
      }
    },
    {
      "cell_type": "code",
      "source": [
        "def new_run_validation(\n",
        "    model,\n",
        "    validation_ds,\n",
        "    tokenizer_src,\n",
        "    tokenizer_tgt,\n",
        "    max_len,\n",
        "    num_examples,\n",
        "    val_key\n",
        "):\n",
        "\n",
        "    inference_model = eqx.tree_inference(model, value=True)\n",
        "\n",
        "    # match with training loop and process ds\n",
        "    val_ds = next(new_dataloader(validation_ds, batch_size=num_examples, ds_size=len(validation_ds[\"encoder_input\"]), key=val_key))\n",
        "\n",
        "\n",
        "    model_out = [greedy_decode(model, i, j, tokenizer_src, tokenizer_tgt, max_len) for i,j in zip(val_ds[\"encoder_inputs\"], val_ds[\"encoder_masks\"])]\n",
        "\n",
        "    model_out_text = [tokenizer_tgt.decode(mo) for mo in model_out]\n",
        "\n",
        "    targets = [tokenizer_tgt.decode(val_ds[\"decoder_inputs\"][i]) for i in range(num_examples)]\n",
        "\n",
        "    metric1 = WordErrorRate()\n",
        "    lossWER = metric1(model_out_text, targets)\n",
        "\n",
        "    metric2 = CharErrorRate()\n",
        "    lossCER = metric2(model_out_text, targets)\n",
        "\n",
        "    metric3 = BLEUScore()\n",
        "    lossBS = metric3(model_out_text, targets)\n",
        "\n",
        "    return lossWER, lossCER, lossBS\n",
        ""
      ],
      "metadata": {
        "id": "z37U6abTMPYW"
      },
      "execution_count": 90,
      "outputs": []
    },
    {
      "cell_type": "code",
      "source": [
        "# a,b,c = new_run_validation(model, val_ds_raw, tokenizer_src, tokenizer_tgt, 5, 2, rand_key)"
      ],
      "metadata": {
        "id": "GuLmy1qqRra0"
      },
      "execution_count": 48,
      "outputs": []
    },
    {
      "cell_type": "markdown",
      "source": [
        "**Training loop**"
      ],
      "metadata": {
        "id": "wNeGnSTQvGdD"
      }
    },
    {
      "cell_type": "code",
      "source": [
        "train_loss = {}   # for graphing training loss\n",
        "val_loss = {}\n",
        "epochs = gpt_config[\"epochs\"]\n",
        "ocr = 0.1   # % of steps that we want to validate the model\n",
        "num_steps = (gpt_config[\"ds_size\"]//gpt_config[\"batch_size\"]) * ocr\n",
        "curr_state = 0\n",
        "for epoch in range(epochs):\n",
        "    with tqdm.tqdm(\n",
        "        new_dataloader(train_ds_raw, gpt_config[\"batch_size\"], gpt_config[\"ds_size\"], key=loader_key),\n",
        "        total = gpt_config[\"ds_size\"]//gpt_config[\"batch_size\"],\n",
        "        unit = \"steps\",\n",
        "        desc = f\"Epoch {epoch+1}/{epochs}\",\n",
        "    ) as tqdm_epoch:\n",
        "        for data in tqdm_epoch:\n",
        "\n",
        "            tr_loss, model, opt_state, train_key = make_step(model, data[\"encoder_inputs\"], data[\"encoder_masks\"], data[\"decoder_inputs\"], data[\"decoder_masks\"], data[\"labels\"], opt_state, opt.update, train_key)\n",
        "\n",
        "            if curr_state % num_steps == 0:\n",
        "                w_l, c_l, BS_l = new_run_validation(model, val_ds_raw, tokenizer_src, tokenizer_tgt, max_len=51, num_examples=gpt_config[\"batch_size\"], val_key=acc_key)\n",
        "                (acc_key, ) = jr.split(acc_key, 1)\n",
        "\n",
        "\n",
        "            tqdm_epoch.set_postfix(loss = tr_loss, wordloss=w_l, characterloss=c_l, BLEUScore=BS_l)\n",
        "            curr_state += 1\n",
        "\n",
        "    loader_key = jr.split(loader_key, 1)[0]\n",
        "    train_loss[epoch]=tr_loss\n",
        "    val_loss[epoch]=w_l"
      ],
      "metadata": {
        "id": "_GsNUnkn5Neo"
      },
      "execution_count": null,
      "outputs": []
    },
    {
      "cell_type": "markdown",
      "source": [
        "*Time-saving loop attempt*"
      ],
      "metadata": {
        "id": "AgDvvLcRKL6X"
      }
    },
    {
      "cell_type": "code",
      "source": [
        "# train_loss = {}   # for graphing training loss\n",
        "# epochs = gpt_config[\"epochs\"]\n",
        "# for epoch in range(epochs):\n",
        "#     with tqdm.tqdm(\n",
        "#         new_dataloader(train_ds_raw, gpt_config[\"batch_size\"], gpt_config[\"ds_size\"], key=loader_key),\n",
        "#         total = gpt_config[\"ds_size\"]//gpt_config[\"batch_size\"],\n",
        "#         unit = \"steps\",\n",
        "#         desc = f\"Epoch {epoch+1}/{epochs}\",\n",
        "#     ) as tqdm_epoch:\n",
        "#         for data in tqdm_epoch:\n",
        "\n",
        "#             tr_loss, model, opt_state, train_key = make_step(model, data[\"encoder_inputs\"], data[\"encoder_masks\"], data[\"decoder_inputs\"], data[\"decoder_masks\"], data[\"labels\"], opt_state, opt.update, train_key)\n",
        "\n",
        "#             tqdm_epoch.set_postfix(loss = tr_loss)\n",
        "#     loader_key = jr.split(loader_key, 1)[0]\n",
        "#     train_loss[epoch]=tr_loss"
      ],
      "metadata": {
        "id": "idFWE-t-KSLL"
      },
      "execution_count": null,
      "outputs": []
    },
    {
      "cell_type": "markdown",
      "source": [
        "*Normal loop*"
      ],
      "metadata": {
        "id": "l6UT4OT0KMAo"
      }
    },
    {
      "cell_type": "code",
      "source": [
        "# train_loss = {}   # for graphing training loss\n",
        "# epochs = gpt_config[\"epochs\"]\n",
        "# for epoch in range(gpt_config[\"epochs\"]):\n",
        "#     with tqdm.tqdm(\n",
        "#         dataloader(train_ds_raw, gpt_config[\"batch_size\"], key=loader_key),\n",
        "#         total = len(train_ds_raw[\"translation\"])//gpt_config[\"batch_size\"],\n",
        "#         unit = \"steps\",\n",
        "#         desc = f\"Epoch {epoch+1}/{epochs}\",\n",
        "#     ) as tqdm_epoch:\n",
        "#         for data in tqdm_epoch:\n",
        "#             encoder_inputs = []\n",
        "#             decoder_inputs = []\n",
        "#             encoder_masks = []\n",
        "#             decoder_masks = []\n",
        "#             labels = []\n",
        "#             for i in range(gpt_config[\"batch_size\"]):\n",
        "#                 id = data[\"id\"][i]\n",
        "#                 trans = data[\"translation\"][i]\n",
        "#                 new_dict = {\"id\":id, \"translation\":trans}\n",
        "#                 encoder_input, decoder_input, encoder_mask, decoder_mask, label, src_text, tgt_text = process_ds(\n",
        "#                     new_dict, tokenizer_src, tokenizer_tgt, gpt_config[\"src_lang\"], gpt_config[\"tgt_lang\"], gpt_config[\"src_seq_len\"], gpt_config[\"tgt_seq_len\"]\n",
        "#                     )\n",
        "\n",
        "#                 encoder_inputs.append(encoder_input)\n",
        "#                 decoder_inputs.append(decoder_input)\n",
        "#                 encoder_masks.append(encoder_mask)\n",
        "#                 decoder_masks.append(decoder_mask)\n",
        "#                 labels.append(label)\n",
        "\n",
        "#             encoder_inputs = jnp.asarray(encoder_inputs)\n",
        "#             decoder_inputs = jnp.asarray(decoder_inputs)\n",
        "#             encoder_masks = jnp.asarray(encoder_masks)\n",
        "#             decoder_masks = jnp.asarray(decoder_masks)\n",
        "#             labels = jnp.asarray(labels)\n",
        "\n",
        "#             tr_loss, model, opt_state, train_key = make_step(model, encoder_inputs, encoder_masks, decoder_inputs, decoder_masks, labels, opt_state, opt.update, train_key)\n",
        "\n",
        "#             tqdm_epoch.set_postfix(loss = tr_loss)\n",
        "#     loader_key = jr.split(loader_key, 1)[0]\n",
        "#     train_loss[epoch]=tr_loss"
      ],
      "metadata": {
        "id": "uSjVIBwtGSdO"
      },
      "execution_count": null,
      "outputs": []
    },
    {
      "cell_type": "markdown",
      "source": [
        "*Batched loop*"
      ],
      "metadata": {
        "id": "UPhICv-9KIaM"
      }
    },
    {
      "cell_type": "code",
      "source": [
        "# train_loss = {}   # for graphing training loss\n",
        "# epochs = gpt_config[\"epochs\"]\n",
        "# for epoch in range(epochs):\n",
        "#     with tqdm.tqdm(\n",
        "#         dataloader(train_ds_raw, gpt_config[\"batch_size\"], key=loader_key),\n",
        "#         total = len(train_ds_raw[\"translation\"])//gpt_config[\"batch_size\"],\n",
        "#         unit = \"steps\",\n",
        "#         desc = f\"Epoch {epoch+1}/{epochs}\",\n",
        "#     ) as tqdm_epoch:\n",
        "#         for data in tqdm_epoch:\n",
        "#             encoder_inputs, decoder_inputs, encoder_masks, decoder_masks, labels, src_text, tgt_text = batch_process_ds(\n",
        "#                 data, tokenizer_src, tokenizer_tgt, gpt_config[\"src_lang\"], gpt_config[\"tgt_lang\"], gpt_config[\"src_seq_len\"], gpt_config[\"tgt_seq_len\"]\n",
        "#                 )\n",
        "\n",
        "#             tr_loss, model, opt_state, train_key = make_step(model, encoder_inputs, encoder_masks, decoder_inputs, decoder_masks, labels, opt_state, opt.update, train_key)\n",
        "\n",
        "#             tqdm_epoch.set_postfix(loss = tr_loss)\n",
        "#     loader_key = jr.split(loader_key, 1)[0]\n",
        "#     train_loss[epoch]=tr_loss"
      ],
      "metadata": {
        "id": "UHyREc5mOsYu"
      },
      "execution_count": null,
      "outputs": []
    },
    {
      "cell_type": "markdown",
      "source": [
        "*With validation*"
      ],
      "metadata": {
        "id": "qZlfkqkz37u3"
      }
    },
    {
      "cell_type": "code",
      "source": [
        "# train_loss = {}   # for graphing training loss\n",
        "# #val_loss = {}\n",
        "# epochs = gpt_config[\"epochs\"]\n",
        "# for epoch in range(epochs):\n",
        "#     with tqdm.tqdm(\n",
        "#         dataloader(train_ds_raw, gpt_config[\"batch_size\"], key=loader_key),\n",
        "#         total = len(train_ds_raw[\"translation\"])//gpt_config[\"batch_size\"],\n",
        "#         unit = \"steps\",\n",
        "#         desc = f\"Epoch {epoch+1}/{epochs}\",\n",
        "#     ) as tqdm_epoch:\n",
        "#         for data in tqdm_epoch:\n",
        "#             encoder_inputs, decoder_inputs, encoder_masks, decoder_masks, labels, src_text, tgt_text = batch_process_ds(\n",
        "#                 data, tokenizer_src, tokenizer_tgt, gpt_config[\"src_lang\"], gpt_config[\"tgt_lang\"], gpt_config[\"src_seq_len\"], gpt_config[\"tgt_seq_len\"]\n",
        "#                 )\n",
        "\n",
        "#             tr_loss, model, opt_state, train_key = make_step(model, encoder_inputs, encoder_masks, decoder_inputs, decoder_masks, labels, opt_state, opt.update, train_key)\n",
        "\n",
        "#             tqdm_epoch.set_postfix(loss = tr_loss)\n",
        "\n",
        "#     run_validation(model, val_ds_raw, tokenizer_src, tokenizer_tgt, 10, 2, val_key)\n",
        "#     loader_key = jr.split(loader_key, 1)[0]\n",
        "#     val_key = jr.split(val_key, 1)[0]\n",
        "#     train_loss[epoch]=tr_loss"
      ],
      "metadata": {
        "id": "JxDz8hNu3_Q5"
      },
      "execution_count": null,
      "outputs": []
    },
    {
      "cell_type": "markdown",
      "source": [
        "**Save and load model**"
      ],
      "metadata": {
        "id": "PEQnc_4nkfWU"
      }
    },
    {
      "cell_type": "code",
      "source": [
        "eqx.tree_serialise_leaves(\"EnFrVanilla.eqx\", model)\n",
        "shutil.copy('/content/EnFrVanilla.eqx','/content/gdrive/MyDrive/Colab_Notebooks')"
      ],
      "metadata": {
        "colab": {
          "base_uri": "https://localhost:8080/",
          "height": 36
        },
        "id": "wFeSGCZMkd9M",
        "outputId": "dab1753a-ed35-4713-9b98-ff83f8d3a9b9"
      },
      "execution_count": 52,
      "outputs": [
        {
          "output_type": "execute_result",
          "data": {
            "text/plain": [
              "'/content/gdrive/MyDrive/Colab_Notebooks/EnFrVanilla.eqx'"
            ],
            "application/vnd.google.colaboratory.intrinsic+json": {
              "type": "string"
            }
          },
          "metadata": {},
          "execution_count": 52
        }
      ]
    },
    {
      "cell_type": "code",
      "source": [
        "model = Transformer(gpt_config, r_init_key)\n",
        "loaded_model = eqx.tree_deserialise_leaves('/content/gdrive/MyDrive/Colab_Notebooks/EnFrVanilla.eqx', model)"
      ],
      "metadata": {
        "id": "AmqC789RkrcM"
      },
      "execution_count": 34,
      "outputs": []
    },
    {
      "cell_type": "markdown",
      "source": [
        "**Plot loss curve**"
      ],
      "metadata": {
        "id": "VlFLyH9Mjuxm"
      }
    },
    {
      "cell_type": "code",
      "source": [
        "epcs = jnp.arange(1, epochs+1, step=1)\n",
        "plt.plot(epcs, train_loss.values(), label='Training loss')\n",
        "plt.plot(epcs, val_loss.values(), label='Validation loss')\n",
        "\n",
        "plt.title('Training Loss and Validation loss')\n",
        "plt.xlabel('Epochs')\n",
        "plt.ylabel('Loss')\n",
        "\n",
        "plt.xticks(jnp.arange(0, epochs+1, steps=2))\n",
        "\n",
        "plt.legend(loc='best')\n",
        "plt.show()"
      ],
      "metadata": {
        "colab": {
          "base_uri": "https://localhost:8080/",
          "height": 472
        },
        "id": "gJcfYzdvjyCt",
        "outputId": "d345d80a-9778-4cb4-8ce4-9d95c1dcefcf"
      },
      "execution_count": null,
      "outputs": [
        {
          "output_type": "display_data",
          "data": {
            "text/plain": [
              "<Figure size 640x480 with 1 Axes>"
            ],
            "image/png": "[encoded data removed]"
          },
          "metadata": {}
        }
      ]
    },
    {
      "cell_type": "markdown",
      "source": [
        "## **Inference**"
      ],
      "metadata": {
        "id": "eLKWrE8hvTIj"
      }
    },
    {
      "cell_type": "code",
      "source": [
        "def greedy_decode(\n",
        "    model,\n",
        "    source,\n",
        "    source_mask,\n",
        "    tokenizer_src,\n",
        "    tokenizer_tgt,\n",
        "    max_len\n",
        "):\n",
        "    sos_idx = jnp.asarray(tokenizer_tgt.token_to_id(\"[SOS]\"))\n",
        "    eos_idx = jnp.asarray(tokenizer_tgt.token_to_id(\"[EOS]\"))\n",
        "\n",
        "    # This computation now gets used repeatedly\n",
        "    encoder_output = model.encode(source, source_mask)\n",
        "\n",
        "    decoder_input = jnp.asarray([sos_idx])    # SOS token to start decoding\n",
        "\n",
        "    while True:\n",
        "        if decoder_input.shape[0] == max_len:\n",
        "            break\n",
        "        else:\n",
        "            decoder_mask = causal_attention_mask(decoder_input)\n",
        "            out = model.decode(encoder_output, source_mask, decoder_input, decoder_mask)\n",
        "            prob = jax.nn.softmax(model.project(out), axis=-1)\n",
        "            next_word = jnp.asarray([jnp.argmax(prob[-1])])\n",
        "            decoder_input = jnp.concatenate([decoder_input, next_word])\n",
        "            if next_word == eos_idx:\n",
        "                break\n",
        "\n",
        "    return decoder_input"
      ],
      "metadata": {
        "id": "D3SWUsmQsqqt"
      },
      "execution_count": 98,
      "outputs": []
    },
    {
      "cell_type": "code",
      "source": [
        "def run_validation(\n",
        "    model,\n",
        "    validation_ds,\n",
        "    tokenizer_src,\n",
        "    tokenizer_tgt,\n",
        "    max_len,\n",
        "    num_examples,\n",
        "    val_key\n",
        "):\n",
        "\n",
        "    inference_model = eqx.tree_inference(model, value=True)\n",
        "\n",
        "\n",
        "\n",
        "    # match with training loop and process ds\n",
        "    val_ds = next(new_dataloader(validation_ds, batch_size=num_examples, ds_size=len(validation_ds[\"encoder_input\"]), key=val_key))\n",
        "\n",
        "\n",
        "    model_out = [greedy_decode(model, i, j, tokenizer_src, tokenizer_tgt, max_len) for i,j in zip(val_ds[\"encoder_inputs\"], val_ds[\"encoder_masks\"])]\n",
        "\n",
        "    model_out_text = [tokenizer_tgt.decode(mo) for mo in model_out]\n",
        "\n",
        "    for i in range(num_examples):\n",
        "\n",
        "        print(f'SOURCE: {tokenizer_src.decode(val_ds[\"encoder_inputs\"][i])}')\n",
        "        print(f'TARGET: {tokenizer_tgt.decode(val_ds[\"decoder_inputs\"][i])}')\n",
        "        print(f'PREDICTED: {model_out_text[i]}')\n"
      ],
      "metadata": {
        "id": "8w2scN-ldxqT"
      },
      "execution_count": 36,
      "outputs": []
    },
    {
      "cell_type": "code",
      "source": [
        "# def run_validation(\n",
        "#     model,\n",
        "#     validation_ds,\n",
        "#     tokenizer_src,\n",
        "#     tokenizer_tgt,\n",
        "#     max_len,\n",
        "#     num_examples,\n",
        "#     val_key\n",
        "# ):\n",
        "\n",
        "#     inference_model = eqx.tree_inference(model, value=True)\n",
        "\n",
        "\n",
        "\n",
        "#     # match with training loop and process ds\n",
        "#     val_ds = next(dataloader(validation_ds, batch_size=num_examples, key=val_key))\n",
        "\n",
        "#     encoder_inputs, decoder_inputs, encoder_masks, decoder_masks, labels, src_text, tgt_text = batch_process_ds(\n",
        "#             val_ds, tokenizer_src, tokenizer_tgt, gpt_config[\"src_lang\"], gpt_config[\"tgt_lang\"], gpt_config[\"src_seq_len\"], gpt_config[\"tgt_seq_len\"]\n",
        "#             )\n",
        "\n",
        "#     model_out = [greedy_decode(model, i, j, tokenizer_src, tokenizer_tgt, max_len) for i,j in zip(encoder_inputs, encoder_masks)]\n",
        "\n",
        "#     model_out_text = [tokenizer_tgt.decode(mo) for mo in model_out]\n",
        "\n",
        "#     for i in range(num_examples):\n",
        "\n",
        "#         print(f'SOURCE: {src_text[i]}')\n",
        "#         print(f'TARGET: {tgt_text[i]}')\n",
        "#         print(f'PREDICTED: {model_out_text[i]}')\n"
      ],
      "metadata": {
        "id": "soKzbxZT8-uG"
      },
      "execution_count": null,
      "outputs": []
    },
    {
      "cell_type": "code",
      "source": [
        "val_key = jr.split(val_key, 1)[0]\n",
        "run_validation(loaded_model, val_ds_raw, tokenizer_src, tokenizer_tgt, 50, 3, val_key)"
      ],
      "metadata": {
        "colab": {
          "base_uri": "https://localhost:8080/"
        },
        "id": "s6q_zyN_vMjT",
        "outputId": "2310992a-daa3-4c3c-8016-7d813b8b9bf8"
      },
      "execution_count": 39,
      "outputs": [
        {
          "output_type": "stream",
          "name": "stdout",
          "text": [
            "SOURCE: He appealed to his son .\n",
            "TARGET: Il se tourna vers son fils .\n",
            "PREDICTED: Il demandait à son fils :\n",
            "SOURCE: \" _You_ are dancing with the only handsome girl in the room ,\" said Mr . Darcy , looking at the eldest Miss Bennet .\n",
            "TARGET: – Votre danseuse est la seule jolie personne de la réunion , dit Mr . Darcy en désignant du regard l ’ aînée des demoiselles Bennet .\n",
            "PREDICTED: – Vous avec la plus belle enfant , dit Mr . Darcy en regardant le portrait aînée .\n",
            "SOURCE: Mousqueton ’ s horse rejoined them , and galloped by the side of his companions .\n",
            "TARGET: Celui de Mousqueton les avait rejoints , et galopait tout seul à son rang .\n",
            "PREDICTED: Mousqueton est le cheval de Mousqueton , il le cocher en compagnie , et , au côté de ses compagnons .\n"
          ]
        }
      ]
    },
    {
      "cell_type": "code",
      "source": [
        "a = 'Hi I am happy'"
      ],
      "metadata": {
        "id": "KIUKapfa2U-K"
      },
      "execution_count": 40,
      "outputs": []
    },
    {
      "cell_type": "code",
      "source": [
        "b = tokenizer_src.encode(a).ids"
      ],
      "metadata": {
        "id": "v-aSPe-B2YTv"
      },
      "execution_count": 43,
      "outputs": []
    },
    {
      "cell_type": "markdown",
      "source": [
        "**Custom Translation**"
      ],
      "metadata": {
        "id": "bfZXFNJpzxdR"
      }
    },
    {
      "cell_type": "code",
      "source": [
        "def translate(string: str):\n",
        "\n",
        "    #string = str(string)\n",
        "\n",
        "    inference_model = eqx.tree_inference(loaded_model, value=True)\n",
        "\n",
        "    sos_token = jnp.asarray([tokenizer_src.token_to_id(\"[SOS]\")], dtype=int)\n",
        "    eos_token = jnp.asarray([tokenizer_src.token_to_id(\"[EOS]\")], dtype=int)\n",
        "    pad_token  = jnp.asarray([tokenizer_src.token_to_id(\"[PAD]\")], dtype=int)\n",
        "\n",
        "    enc_input_tokens = tokenizer_src.encode(string).ids\n",
        "\n",
        "    enc_num_padding_tokens = gpt_config[\"src_seq_len\"] - len(enc_input_tokens) - 2\n",
        "\n",
        "    if enc_num_padding_tokens < 0:\n",
        "        raise ValueError('Sentence is too long')\n",
        "\n",
        "\n",
        "    encoder_input = jnp.concatenate([\n",
        "        sos_token,\n",
        "        jnp.asarray(enc_input_tokens),\n",
        "        eos_token,\n",
        "        jnp.repeat(pad_token, enc_num_padding_tokens)\n",
        "    ])\n",
        "\n",
        "    assert encoder_input.shape[0] == gpt_config[\"src_seq_len\"]\n",
        "    encoder_mask = jnp.expand_dims((encoder_input!= pad_token), axis=0)\n",
        "\n",
        "    encoder_input = jnp.asarray(encoder_input)\n",
        "    encoder_mask = jnp.asarray(encoder_mask)\n",
        "    model_output = greedy_decode(inference_model, encoder_input, encoder_mask, tokenizer_src, tokenizer_tgt, max_len=50)\n",
        "\n",
        "    print(f'PREDICTED: {tokenizer_tgt.decode(model_output)}')"
      ],
      "metadata": {
        "id": "edaU7ExhICUo"
      },
      "execution_count": 56,
      "outputs": []
    },
    {
      "cell_type": "code",
      "source": [
        "translate('I will go home tomorrow, but I think I will arrive late.')"
      ],
      "metadata": {
        "colab": {
          "base_uri": "https://localhost:8080/"
        },
        "id": "rS1mfqS630sG",
        "outputId": "b1d81a7e-b5f5-413e-957f-067578171988"
      },
      "execution_count": 58,
      "outputs": [
        {
          "output_type": "stream",
          "name": "stdout",
          "text": [
            "PREDICTED: Je rentre chez lui , mais je crois que je arrivera tard .\n"
          ]
        }
      ]
    },
    {
      "cell_type": "markdown",
      "source": [
        "## Pytorch data loader"
      ],
      "metadata": {
        "id": "OIUBtgqjy_VA"
      }
    },
    {
      "cell_type": "code",
      "source": [
        "train_key, loader_key, split_key, r_init_key, c_init_key, val_key = jr.split(rand_key, 6)"
      ],
      "metadata": {
        "id": "hHVvhLj0F4BH"
      },
      "execution_count": 31,
      "outputs": []
    },
    {
      "cell_type": "markdown",
      "source": [
        "*Transformer configuration*"
      ],
      "metadata": {
        "id": "PUTs2rwgn2Qr"
      }
    },
    {
      "cell_type": "code",
      "source": [
        "gpt_config = {\n",
        "    \"src_vocab_size\": int,\n",
        "    \"tgt_vocab_size\": int,\n",
        "    \"src_seq_len\": int,\n",
        "    \"tgt_seq_len\": int,\n",
        "    \"d_model\": 64,     # - 512\n",
        "    \"num_hidden_layers\": 2,   #N - 6\n",
        "    \"num_attention_heads\": 2,   #h - 8\n",
        "    \"intermediate_size\": 128,    #d_ff - 2048\n",
        "    \"hidden_dropout_prob\": 0.1,\n",
        "    \"attention_dropout_prob\": 0.1,\n",
        "    \"src_lang\": \"en\",\n",
        "    \"tgt_lang\": \"fr\",\n",
        "    \"epochs\": 2,\n",
        "    \"batch_size\": 4,\n",
        "    \"learning_rate\": 1e-4,\n",
        "    \"train_ds_size\": int,\n",
        "    \"ds_max_len\": 55,\n",
        "    \"val_batch_size\":1,\n",
        "}"
      ],
      "metadata": {
        "id": "CghvsxrYZAnm"
      },
      "execution_count": 54,
      "outputs": []
    },
    {
      "cell_type": "markdown",
      "source": [
        "*Load Dataset and initialise tokeniser*"
      ],
      "metadata": {
        "id": "Ec-o3J6rn9Px"
      }
    },
    {
      "cell_type": "code",
      "source": [
        "# load dataset #\n",
        "ds_raw = load_dataset('opus_books', f'{gpt_config[\"src_lang\"]}-{gpt_config[\"tgt_lang\"]}', split='train')\n",
        "#ds_raw = ds_raw.with_format(\"jax\")\n",
        "\n",
        "# tokenize input data #\n",
        "tokenizer_src = get_or_build_tokenizer(ds_raw, gpt_config[\"src_lang\"])\n",
        "tokenizer_tgt = get_or_build_tokenizer(ds_raw, gpt_config[\"tgt_lang\"])"
      ],
      "metadata": {
        "colab": {
          "base_uri": "https://localhost:8080/",
          "height": 177,
          "referenced_widgets": [
            "ecfaf2e0fbfd456a85b61b7ea515e692",
            "45bf9ee16bfc4a4b823b616d03ca16ed",
            "4f92cf72db1442399dc10abcb6f51c09",
            "fc9ccde8c80e4a6f85a8fb9de4ac384f",
            "46c713be16cd46039f182a2b1869a647",
            "d45eeb461fc544b594bd34f5fd024879",
            "35739489ca46454297b4a8032d92ce3f",
            "009ac5b5b62a4974bbe832dbaac218e3",
            "c7084a7157774d858bbcc703f6209dcb",
            "590682e1a08346d08d873f2e27cae3cc",
            "3e585b7b2a674fe2b083a7a43c954612",
            "eb59b03d306b4fd2a9dbbecea7341cc3",
            "78b60de78a1d41f886b2f6db4358b822",
            "895d65b6330f43a494d78b48af82aa2e",
            "4cabadee0579491d9073801e91beb833",
            "5878a99e9cc2450a8c1bf5b5e30780f9",
            "bea5ae1dff83453d80c9cb1af8dff8b4",
            "6e74de141a6f4ec1806e79fe5425c8ae",
            "69663a74479c4e28b0725cf57dd92bb1",
            "440687df1ced420f9a3646ee31fb93f4",
            "a789045069ef49e6be013967d0d1307d",
            "cf779c9aa7a14e31bb05343a64e53cb8",
            "9b0543b5e42840adac36675303115404",
            "e6d44c9ec446405181116d3634a19264",
            "c782f2b86a3d47c6bf1ccc0a6dcc9a7f",
            "bfed842f8fa040858fbf7be6e783aa43",
            "0b16f32341f7449b91f02175215719d8",
            "b438264648f3434c8f2a4071d38c4f6f",
            "64fb6619de8f45f98d13f61d1469ebf8",
            "7332a02e50ef40a1a2bf3e8382aa8450",
            "9ca17e594e57492b9ace6eb221948ac7",
            "38f325f1cd0c4f26b1ddba60301506d1",
            "43ce5bf27ee046b0a8372b1f533cd977",
            "d7109d283b0247f9a3c7fbdaec269a0f",
            "89d60f335ce6488c811785f171e060c2",
            "8c109773e5474193aac394f0fbcfc170",
            "e02d6b8d9f294fa2a7fd91ad8d202e57",
            "e81af6e4ac20413da7b7705dccd18a4d",
            "40c411f0b4bf4bf49b607c18fadf34b6",
            "e145f3f2ad2342149fab5e204326a53a",
            "e41cbf3e26f24932b7ee1b7908e4244b",
            "fd5dfd39cbbc4b779803948b0be55a48",
            "4caf1852f1f04842bbd3a58f632d00f3",
            "8d5702f62e7c45e8915b914069159f97",
            "347ead590b1a46dd9d7d811b2d88330b",
            "38a161817f9d45bc91c86690d73c2252",
            "5bb95353317943e1a685ac082cf4dd4d",
            "544f69ebd57e48289685723dc0c49f9d",
            "f57b1e28fb4943d9bb3ae6c203f0135c",
            "29356297a6914e40bd9adb77eadb33ff",
            "fe8b2d613d1b4037aa8dfba716b7b2c4",
            "3f5ecfe3438c43599612829669e58a14",
            "2a45cccc9bf84e849f86878efa826bb9",
            "a6aedec4a6fa46f18b0c399979ba89f1",
            "47a0b3eac2884f67b84d7fd041b9788e"
          ]
        },
        "outputId": "36347b05-d3ba-4449-adb1-0436b0bd3242",
        "id": "Bh-BjJ-8Y0h0"
      },
      "execution_count": 33,
      "outputs": [
        {
          "output_type": "display_data",
          "data": {
            "text/plain": [
              "Downloading builder script:   0%|          | 0.00/6.08k [00:00<?, ?B/s]"
            ],
            "application/vnd.jupyter.widget-view+json": {
              "version_major": 2,
              "version_minor": 0,
              "model_id": "ecfaf2e0fbfd456a85b61b7ea515e692"
            }
          },
          "metadata": {}
        },
        {
          "output_type": "display_data",
          "data": {
            "text/plain": [
              "Downloading metadata:   0%|          | 0.00/161k [00:00<?, ?B/s]"
            ],
            "application/vnd.jupyter.widget-view+json": {
              "version_major": 2,
              "version_minor": 0,
              "model_id": "eb59b03d306b4fd2a9dbbecea7341cc3"
            }
          },
          "metadata": {}
        },
        {
          "output_type": "display_data",
          "data": {
            "text/plain": [
              "Downloading readme:   0%|          | 0.00/20.5k [00:00<?, ?B/s]"
            ],
            "application/vnd.jupyter.widget-view+json": {
              "version_major": 2,
              "version_minor": 0,
              "model_id": "9b0543b5e42840adac36675303115404"
            }
          },
          "metadata": {}
        },
        {
          "output_type": "display_data",
          "data": {
            "text/plain": [
              "Downloading data:   0%|          | 0.00/12.0M [00:00<?, ?B/s]"
            ],
            "application/vnd.jupyter.widget-view+json": {
              "version_major": 2,
              "version_minor": 0,
              "model_id": "d7109d283b0247f9a3c7fbdaec269a0f"
            }
          },
          "metadata": {}
        },
        {
          "output_type": "display_data",
          "data": {
            "text/plain": [
              "Generating train split:   0%|          | 0/127085 [00:00<?, ? examples/s]"
            ],
            "application/vnd.jupyter.widget-view+json": {
              "version_major": 2,
              "version_minor": 0,
              "model_id": "347ead590b1a46dd9d7d811b2d88330b"
            }
          },
          "metadata": {}
        }
      ]
    },
    {
      "cell_type": "code",
      "source": [
        "# # train/validation split #\n",
        "# train_ds_size = int(0.9 * len(short_ds_raw))   # 90% split of dataset\n",
        "# val_ds_size = len(short_ds_raw) - train_ds_size\n",
        "# train_ds_raw, val_ds_raw = rand_split(short_ds_raw, train_ds_size, val_ds_size, split_key)"
      ],
      "metadata": {
        "id": "ZKPN4Y1MpQtT"
      },
      "execution_count": 151,
      "outputs": []
    },
    {
      "cell_type": "markdown",
      "source": [
        "*Check length of sentences*"
      ],
      "metadata": {
        "id": "gjq_L48KY0h-"
      }
    },
    {
      "cell_type": "code",
      "source": [
        "max_len_src = 0\n",
        "max_len_tgt = 0\n",
        "for item in ds_raw:\n",
        "    src_ids = tokenizer_src.encode(item['translation'][gpt_config[\"src_lang\"]]).ids\n",
        "    tgt_ids = tokenizer_tgt.encode(item['translation'][gpt_config[\"tgt_lang\"]]).ids\n",
        "    max_len_src = max(max_len_src, len(src_ids))\n",
        "    max_len_tgt = max(max_len_tgt, len(tgt_ids))\n",
        "\n",
        "print(f'Max length of source sentence: {max_len_src}')\n",
        "print(f'Max length of target sentence: {max_len_tgt}')"
      ],
      "metadata": {
        "colab": {
          "base_uri": "https://localhost:8080/"
        },
        "outputId": "ae2dc6c5-f613-4591-cd29-0410c762796a",
        "id": "h6fIJ1_gY0h_"
      },
      "execution_count": 30,
      "outputs": [
        {
          "output_type": "stream",
          "name": "stdout",
          "text": [
            "Max length of source sentence: 471\n",
            "Max length of target sentence: 482\n"
          ]
        }
      ]
    },
    {
      "cell_type": "markdown",
      "source": [
        "###### Shorten dataset - **optional but recommended for speed**"
      ],
      "metadata": {
        "id": "CGjCyEbsZ8_t"
      }
    },
    {
      "cell_type": "markdown",
      "source": [
        "*Check sentence length within certain number*"
      ],
      "metadata": {
        "id": "itdCLBCoY0h_"
      }
    },
    {
      "cell_type": "code",
      "source": [
        "count=0\n",
        "for item in ds_raw:\n",
        "    src_ids = tokenizer_src.encode(item['translation'][gpt_config[\"src_lang\"]]).ids\n",
        "    tgt_ids = tokenizer_tgt.encode(item['translation'][gpt_config[\"tgt_lang\"]]).ids\n",
        "    if len(src_ids) > gpt_config[\"ds_max_len\"] or len(tgt_ids) > gpt_config[\"ds_max_len\"]:\n",
        "        count+=1\n",
        "print(f'Number of sentences longer than {gpt_config[\"ds_max_len\"]} tokens: {count}')"
      ],
      "metadata": {
        "colab": {
          "base_uri": "https://localhost:8080/"
        },
        "outputId": "286dba42-5b39-41de-ad60-8a34556f0049",
        "id": "FXTPCHcBY0h_"
      },
      "execution_count": 31,
      "outputs": [
        {
          "output_type": "stream",
          "name": "stdout",
          "text": [
            "Number of sentences longer than 55 tokens: 11785\n"
          ]
        }
      ]
    },
    {
      "cell_type": "markdown",
      "source": [
        "*New data set composed of sentences with minimum length*"
      ],
      "metadata": {
        "id": "8DsADItHY0h_"
      }
    },
    {
      "cell_type": "code",
      "source": [
        "# shorten training dataset #\n",
        "short_ds_raw = {\"id\":[], \"translation\":[]}\n",
        "for item in ds_raw:\n",
        "    src_ids = tokenizer_src.encode(item['translation'][gpt_config[\"src_lang\"]]).ids\n",
        "    tgt_ids = tokenizer_tgt.encode(item['translation'][gpt_config[\"tgt_lang\"]]).ids\n",
        "    if len(src_ids) <= gpt_config[\"ds_max_len\"] and len(tgt_ids) <= gpt_config[\"ds_max_len\"]:\n",
        "        short_ds_raw[\"id\"].append(item[\"id\"])\n",
        "        short_ds_raw[\"translation\"].append(item[\"translation\"])"
      ],
      "metadata": {
        "id": "oiWtSR80Y0h_"
      },
      "execution_count": 34,
      "outputs": []
    },
    {
      "cell_type": "markdown",
      "source": [
        "*Check new dataset*"
      ],
      "metadata": {
        "id": "zvdG9hRdY0iA"
      }
    },
    {
      "cell_type": "code",
      "source": [
        "max_len_src = 0\n",
        "max_len_tgt = 0\n",
        "for i in range(len(short_ds_raw[\"id\"])):\n",
        "    src_ids = tokenizer_src.encode(short_ds_raw['translation'][i][gpt_config[\"src_lang\"]]).ids\n",
        "    tgt_ids = tokenizer_tgt.encode(short_ds_raw['translation'][i][gpt_config[\"tgt_lang\"]]).ids\n",
        "    max_len_src = max(max_len_src, len(src_ids))\n",
        "    max_len_tgt = max(max_len_tgt, len(tgt_ids))\n",
        "\n",
        "print(f'Max length of source sentence: {max_len_src}')\n",
        "print(f'Max length of target sentence: {max_len_tgt}')"
      ],
      "metadata": {
        "colab": {
          "base_uri": "https://localhost:8080/"
        },
        "outputId": "1152a6d7-11c2-4267-e303-e7a71f29b97a",
        "id": "6hBUNedeY0iA"
      },
      "execution_count": 33,
      "outputs": [
        {
          "output_type": "stream",
          "name": "stdout",
          "text": [
            "Max length of source sentence: 55\n",
            "Max length of target sentence: 55\n"
          ]
        }
      ]
    },
    {
      "cell_type": "markdown",
      "source": [
        "*Train/validation split*"
      ],
      "metadata": {
        "id": "AB5NYKlzomS6"
      }
    },
    {
      "cell_type": "code",
      "source": [
        "# train/validation split #\n",
        "train_ds_raw, val_ds_raw = rand_split_two(short_ds_raw, 0.9, split_key)   # 90% split of dataset"
      ],
      "metadata": {
        "id": "3xRNopWQohVs"
      },
      "execution_count": 36,
      "outputs": []
    },
    {
      "cell_type": "code",
      "source": [
        "# type(ds_raw)\n",
        "# type(train_ds_raw)"
      ],
      "metadata": {
        "colab": {
          "base_uri": "https://localhost:8080/"
        },
        "id": "N9i-3NrkyHr2",
        "outputId": "6d4b1491-1177-4f44-e1ad-5393d8b9f3cc"
      },
      "execution_count": 179,
      "outputs": [
        {
          "output_type": "execute_result",
          "data": {
            "text/plain": [
              "datasets.arrow_dataset.Dataset"
            ]
          },
          "metadata": {},
          "execution_count": 179
        }
      ]
    },
    {
      "cell_type": "markdown",
      "source": [
        "*Update configuration*"
      ],
      "metadata": {
        "id": "mjJ7YvpqnF_W"
      }
    },
    {
      "cell_type": "code",
      "source": [
        "# update gpt configuration #\n",
        "new_config = {\n",
        "    \"src_vocab_size\": tokenizer_src.get_vocab_size(),\n",
        "    \"tgt_vocab_size\": tokenizer_tgt.get_vocab_size(),\n",
        "    \"src_seq_len\": gpt_config[\"ds_max_len\"]+5,\n",
        "    \"tgt_seq_len\": gpt_config[\"ds_max_len\"]+5,\n",
        "    \"train_ds_size\": len(train_ds_raw[\"id\"])\n",
        "    }\n",
        "gpt_config.update(new_config)"
      ],
      "metadata": {
        "id": "cC2zV51GY0iA"
      },
      "execution_count": 55,
      "outputs": []
    },
    {
      "cell_type": "markdown",
      "source": [
        "###### \"Non-shortened\" dataset - need to look at!"
      ],
      "metadata": {
        "id": "tSTRbp7NaClq"
      }
    },
    {
      "cell_type": "code",
      "source": [
        "# create two batch subsets #\n",
        "# needs to be iterator i.e. a function with yield... & split key also"
      ],
      "metadata": {
        "id": "CPhSJlEHaPgU"
      },
      "execution_count": null,
      "outputs": []
    },
    {
      "cell_type": "code",
      "source": [
        "# update gpt configuration #\n",
        "new_config = {\n",
        "    \"src_vocab_size\": tokenizer_src.get_vocab_size(),\n",
        "    \"tgt_vocab_size\": tokenizer_tgt.get_vocab_size(),\n",
        "    \"src_seq_len\": 55,\n",
        "    \"tgt_seq_len\": 55,\n",
        "    \"ds_size\": len(new_ds[\"id\"])\n",
        "    }\n",
        "gpt_config.update(new_config)"
      ],
      "metadata": {
        "id": "65ENop-QaVLk"
      },
      "execution_count": null,
      "outputs": []
    },
    {
      "cell_type": "markdown",
      "source": [
        "###### DataLoader"
      ],
      "metadata": {
        "id": "GzQnL7_baLXM"
      }
    },
    {
      "cell_type": "code",
      "source": [
        "# import numpy as np\n",
        "# from torch.utils import data"
      ],
      "metadata": {
        "id": "aMFMkz7w-AQk"
      },
      "execution_count": 61,
      "outputs": []
    },
    {
      "cell_type": "code",
      "source": [
        "class TranslationDataset(data.Dataset):\n",
        "\n",
        "      def __init__(self, ds, tokenizer_src, tokenizer_tgt, src_lang, tgt_lang, src_seq_len, tgt_seq_len):\n",
        "          super().__init__()\n",
        "\n",
        "\n",
        "          self.src_seq_len = src_seq_len\n",
        "          self.tgt_seq_len = tgt_seq_len\n",
        "\n",
        "          self.ds = ds\n",
        "          self.tokenizer_src = tokenizer_src\n",
        "          self.tokenizer_tgt = tokenizer_tgt\n",
        "          self.src_lang = src_lang\n",
        "          self.tgt_lang = tgt_lang\n",
        "\n",
        "          self.sos_token = np.asarray([tokenizer_src.token_to_id(\"[SOS]\")], dtype=int)\n",
        "          self.eos_token = np.asarray([tokenizer_src.token_to_id(\"[EOS]\")], dtype=int)\n",
        "          self.pad_token  = np.asarray([tokenizer_src.token_to_id(\"[PAD]\")], dtype=int)\n",
        "\n",
        "      def __len__(self):\n",
        "          return len(self.ds)\n",
        "\n",
        "      def __getitem__(self, idx):\n",
        "          src_target_pair = self.ds[idx]\n",
        "\n",
        "          src_text = src_target_pair['translation'][self.src_lang]\n",
        "          tgt_text = src_target_pair['translation'][self.tgt_lang]\n",
        "\n",
        "          enc_input_tokens = self.tokenizer_src.encode(src_text).ids\n",
        "          dec_input_tokens = self.tokenizer_tgt.encode(tgt_text).ids\n",
        "\n",
        "\n",
        "          enc_num_padding_tokens = self.src_seq_len - len(enc_input_tokens) - 2\n",
        "          dec_num_padding_tokens = self.tgt_seq_len - len(dec_input_tokens) - 2   # should be -1 if not including EOS token\n",
        "          lab_num_padding_tokens = dec_num_padding_tokens + 1   # not necessary if omitting EOS token in decoder input\n",
        "\n",
        "\n",
        "          if enc_num_padding_tokens < 0 or dec_num_padding_tokens < 0:\n",
        "              raise ValueError('Sentence is too long')\n",
        "\n",
        "          # add SOS and EOS to source text\n",
        "          encoder_input = np.concatenate([\n",
        "              self.sos_token,\n",
        "              np.asarray(enc_input_tokens),\n",
        "              self.eos_token,\n",
        "              np.repeat(self.pad_token, enc_num_padding_tokens)\n",
        "          ])\n",
        "\n",
        "\n",
        "          # add SOS to decoder input - I have also added EOS token - logically makes sense as we want the decoder to predict EOS at inference time! but I have seen implementations that specifically do not include EOS in decoder training input\n",
        "          decoder_input = np.concatenate([\n",
        "              self.sos_token,\n",
        "              np.asarray(dec_input_tokens, dtype=int),\n",
        "              self.eos_token,\n",
        "              np.repeat(self.pad_token, dec_num_padding_tokens)\n",
        "          ])\n",
        "\n",
        "          # add EOS to expected decoder output\n",
        "          label = np.concatenate([\n",
        "              np.asarray(dec_input_tokens, dtype=int),\n",
        "              self.eos_token,\n",
        "              np.repeat(self.pad_token, lab_num_padding_tokens) # not dec_num\n",
        "          ])\n",
        "\n",
        "          assert encoder_input.shape[0] == self.src_seq_len\n",
        "          assert decoder_input.shape[0] == self.tgt_seq_len\n",
        "          assert label.shape[0] == self.tgt_seq_len\n",
        "\n",
        "\n",
        "          src_mask = np.expand_dims((encoder_input!= self.pad_token), axis=0)  # (1, seq_len)\n",
        "          tgt_mask = np.expand_dims((decoder_input!= self.pad_token), axis=0) # & np.asarray(causal_attention_mask(decoder_input)) # (1 seq_len) & (seq_len seq_len)\n",
        "\n",
        "          return {\n",
        "              \"encoder_input\": encoder_input,\n",
        "              \"decoder_input\": decoder_input,\n",
        "              \"src_mask\": src_mask,\n",
        "              \"tgt_mask\": tgt_mask,\n",
        "              \"label\": label,\n",
        "              \"src_text\": src_text,\n",
        "              \"tgt_text\": tgt_text,\n",
        "          }\n"
      ],
      "metadata": {
        "id": "46vKZ1kQzCFS"
      },
      "execution_count": 37,
      "outputs": []
    },
    {
      "cell_type": "code",
      "source": [
        "def numpy_collate(batch):\n",
        "  if isinstance(batch[0], np.ndarray):\n",
        "    print(\"hi\")\n",
        "    return np.stack(batch)\n",
        "  elif isinstance(batch[0], (tuple,list)):\n",
        "    transposed = zip(*batch)\n",
        "    return [numpy_collate(samples) for samples in transposed]\n",
        "  else:\n",
        "    return np.array(batch)\n",
        "\n",
        "class NumpyLoader(data.DataLoader):\n",
        "  def __init__(self, dataset, batch_size=1,\n",
        "                shuffle=False, sampler=None,\n",
        "                batch_sampler=None, num_workers=0,\n",
        "                pin_memory=False, drop_last=False,\n",
        "                timeout=0, worker_init_fn=None):\n",
        "    super(self.__class__, self).__init__(dataset,\n",
        "        batch_size=batch_size,\n",
        "        shuffle=shuffle,\n",
        "        sampler=sampler,\n",
        "        batch_sampler=batch_sampler,\n",
        "        num_workers=num_workers,\n",
        "        collate_fn=numpy_collate,\n",
        "        pin_memory=pin_memory,\n",
        "        drop_last=drop_last,\n",
        "        timeout=timeout,\n",
        "        worker_init_fn=worker_init_fn)"
      ],
      "metadata": {
        "id": "i4GFu63MC_Sc"
      },
      "execution_count": 111,
      "outputs": []
    },
    {
      "cell_type": "code",
      "source": [
        "# test_ds = TranslationDataset(train_ds_raw, tokenizer_src, tokenizer_tgt, \"en\", \"fr\", 500)\n",
        "# test_dataloader = NumpyLoader(test_ds, batch_size=2, shuffle=True)\n",
        "\n",
        "# # for batch in test_dataloader:\n",
        "# #     print(batch)\n",
        "# #     assert 1+1==3\n",
        "\n",
        "# a = iter(test_dataloader)\n",
        "# next(a)"
      ],
      "metadata": {
        "id": "53ilZRfpGEZj"
      },
      "execution_count": null,
      "outputs": []
    },
    {
      "cell_type": "code",
      "source": [
        "train_ds = TranslationDataset(train_ds_raw, tokenizer_src, tokenizer_tgt, gpt_config[\"src_lang\"], gpt_config[\"tgt_lang\"], gpt_config[\"src_seq_len\"], gpt_config[\"tgt_seq_len\"])\n",
        "val_ds = TranslationDataset(val_ds_raw, tokenizer_src, tokenizer_tgt, gpt_config[\"src_lang\"], gpt_config[\"tgt_lang\"], gpt_config[\"src_seq_len\"], gpt_config[\"tgt_seq_len\"])\n",
        "\n",
        "# train_dataloader = NumpyLoader(train_ds, batch_size=gpt_config[\"batch_size\"], shuffle=True, drop_last=True)\n",
        "# val_dataloader = NumpyLoader(val_ds, batch_size=gpt_config[\"val_batch_size\"], shuffle=True, drop_last=True)\n",
        "\n",
        "train_dataloader = data.DataLoader(train_ds, batch_size=gpt_config[\"batch_size\"], shuffle=True, drop_last=True)\n",
        "val_dataloader = data.DataLoader(val_ds, batch_size=gpt_config[\"val_batch_size\"], shuffle=True, drop_last=True)"
      ],
      "metadata": {
        "id": "VAj5nuze1Qak"
      },
      "execution_count": 207,
      "outputs": []
    },
    {
      "cell_type": "markdown",
      "source": [
        "Validation"
      ],
      "metadata": {
        "id": "n0olfN6YJoR5"
      }
    },
    {
      "cell_type": "code",
      "source": [
        "# def validation(\n",
        "#     model,\n",
        "#     batch,\n",
        "#     tokenizer_src,\n",
        "#     tokenizer_tgt,\n",
        "#     max_len: int = gpt_config[\"tgt_seq_len\"],\n",
        "#     print: bool = False,\n",
        "#     metric: bool = False\n",
        "# ):\n",
        "\n",
        "#     inf_model = eqx.tree_inference(model, value=True)\n",
        "\n",
        "#     g_dec = functools.partial(greedy_decode, inf_model, tokenizer_src, tokenizer_tgt, max_len)\n",
        "#     model_out = []\n",
        "#     for item in batch:\n",
        "#         output = g_dec(item[\"encoder_input\"], item[\"encoder_mask\"])\n",
        "#         model_out.append(output)\n",
        "\n",
        "#     #model_out = [greedy_decode(inf_model, i, j, tokenizer_src, tokenizer_tgt, max_len) for i,j in zip(batch[\"encoder_input\"], batch[\"encoder_mask\"])]\n",
        "\n",
        "#     #predicted_texts = [tokenizer_tgt.decode(i) for i in model_out]\n",
        "\n",
        "#     predicted_texts=[]\n",
        "#     for i in model_out:\n",
        "#         predicted_texts.append(tokenizer_tgt.decode(i))\n",
        "\n",
        "#     source_texts = [i for i in batch[\"src_text\"]]   # [0]\n",
        "#     expected_texts = [i for i in batch[\"tgt_text\"]]   # [0]\n",
        "\n",
        "#     if print == True:\n",
        "#         for  i in range(batch.shape[0]):\n",
        "#             print(f'SOURCE: {source_texts[i]}')\n",
        "#             print(f'TARGET: {expected_texts[i]}')\n",
        "#             print(f'PREDICTED: {predicted_texts[i]}')\n",
        "\n",
        "#     if metric == True:\n",
        "#         metric1 = WordErrorRate()\n",
        "#         lossWER = metric1(predicted_texts, expected_texts)\n",
        "\n",
        "#         metric2 = CharErrorRate()\n",
        "#         lossCER = metric2(predicted_texts, expected_texts)\n",
        "\n",
        "#         metric3 = BLEUScore()\n",
        "#         lossBS = metric3(predicted_texts, expected_texts)\n",
        "\n",
        "#         return lossWER, lossCER, lossBS"
      ],
      "metadata": {
        "id": "a0ihAVY89I2L"
      },
      "execution_count": 101,
      "outputs": []
    },
    {
      "cell_type": "code",
      "source": [
        "# validation(model, a, tokenizer_src, tokenizer_tgt, max_len=60, print=False, metric=False)"
      ],
      "metadata": {
        "id": "OepXlwWuOwYC"
      },
      "execution_count": 103,
      "outputs": []
    },
    {
      "cell_type": "code",
      "source": [
        "def greedy_decode(\n",
        "    model,\n",
        "    tokenizer_src,\n",
        "    tokenizer_tgt,\n",
        "    max_len,\n",
        "    src,\n",
        "    src_mask\n",
        "):\n",
        "    @eqx.filter_jit\n",
        "    def decode_pass(model, encoder_output,src_mask, decoder_input):\n",
        "        out = model.decode(decoder_input, encoder_output, src_mask, look_ahead_mask=True)\n",
        "        prob = jax.nn.softmax(model.project(out), axis=-1)\n",
        "        next_word = jnp.argmax(prob[-1])\n",
        "        return next_word\n",
        "\n",
        "    sos_idx = tokenizer_tgt.token_to_id(\"[SOS]\")\n",
        "    eos_idx = tokenizer_tgt.token_to_id(\"[EOS]\")\n",
        "    encoder_output = model.encode(src, src_mask)   # This computation now gets used repeatedly\n",
        "    dec_pass = functools.partial(decode_pass, model, encoder_output, src_mask)\n",
        "    decoder_input = jnp.asarray([sos_idx])    # SOS token to start decoding\n",
        "    for i in range(max_len):\n",
        "        dec_shape = decoder_input.shape[-1]\n",
        "        next_word = dec_pass(decoder_input)\n",
        "        if next_word == eos_idx:\n",
        "            break\n",
        "        decoder_input = jnp.concatenate([decoder_input, jnp.asarray([next_word])])\n",
        "\n",
        "    return decoder_input"
      ],
      "metadata": {
        "id": "dCjSlQk7LIJ-"
      },
      "execution_count": 40,
      "outputs": []
    },
    {
      "cell_type": "code",
      "source": [
        "model = Transformer(gpt_config, r_init_key)"
      ],
      "metadata": {
        "id": "KsFvbbpI3uXc"
      },
      "execution_count": 123,
      "outputs": []
    },
    {
      "cell_type": "code",
      "source": [
        "a = next(iter(val_dataloader))"
      ],
      "metadata": {
        "id": "Q-bCUwuW4csX"
      },
      "execution_count": 124,
      "outputs": []
    },
    {
      "cell_type": "code",
      "source": [
        "# greedy_decode(model, tokenizer_src, tokenizer_tgt, 55, a[\"encoder_input\"], a[\"src_mask\"])"
      ],
      "metadata": {
        "id": "hYOHQCWQ5Zgh"
      },
      "execution_count": null,
      "outputs": []
    },
    {
      "cell_type": "code",
      "source": [
        "def accuracy(model, input, tokenizer_tgt, max_len):\n",
        "    inf_model = eqx.tree_inference(model, value=True)\n",
        "    encoder_input = jnp.squeeze(jnp.asarray(input[\"encoder_input\"], dtype=int), axis = 0)\n",
        "    src_mask = jnp.squeeze(jnp.asarray(input[\"src_mask\"]), axis = 0)\n",
        "\n",
        "    model_output = greedy_decode(inf_model, tokenizer_src, tokenizer_tgt, max_len, encoder_input, src_mask)\n",
        "\n",
        "    predicted = str(tokenizer_tgt.decode(model_output))\n",
        "    expected = input[\"tgt_text\"][0]\n",
        "\n",
        "    #print(predicted, expected)\n",
        "    metric1 = WordErrorRate()\n",
        "    lossWER = metric1(predicted, expected)\n",
        "\n",
        "    metric2 = CharErrorRate()\n",
        "    lossCER = metric2(predicted, expected)\n",
        "\n",
        "    metric3 = BLEUScore()\n",
        "    lossBS = metric3(predicted, expected)\n",
        "\n",
        "    return float(lossWER), float(lossCER), float(lossBS)"
      ],
      "metadata": {
        "id": "i1UISk6KZHsn"
      },
      "execution_count": 200,
      "outputs": []
    },
    {
      "cell_type": "code",
      "source": [
        "# accuracy(model, a, tokenizer_tgt, 55)"
      ],
      "metadata": {
        "id": "1l4Svl_OaKxh"
      },
      "execution_count": 201,
      "outputs": []
    },
    {
      "cell_type": "code",
      "source": [
        "# two masks:\n",
        "  # for padding mask we need to have this mini square inside I think - look to BERT implementation for how they did it!\n",
        "  #mask = jnp.multiply(jnp.expand_dims(mask, axis=-1), jnp.expand_dims(mask, axis=-2))\n",
        "  # for the padding mask, need to think about encoder vs decoder mask also (they are not going to be the same!! if french is longer than english sentence for e.g.), and also training vs. inference, look at functions to see how they are generated\n",
        "\n",
        "  #so causal mask has to look like padding mask, but with triangular matrix inside!"
      ],
      "metadata": {
        "id": "_HFrtm3gjQLp"
      },
      "execution_count": null,
      "outputs": []
    },
    {
      "cell_type": "markdown",
      "source": [
        "*Loss function - with label smoothing*"
      ],
      "metadata": {
        "id": "jqAMKdJrGKlC"
      }
    },
    {
      "cell_type": "code",
      "source": [
        "def compute_loss(model, encoder_inputs, src_masks, decoder_inputs, tgt_masks, labels, key):   # key\n",
        "    batch_size = gpt_config[\"batch_size\"]    # encoder_inputs.shape[0]\n",
        "    batch_keys = jr.split(key, num=batch_size)\n",
        "\n",
        "\n",
        "    # encoder_output = jax.vmap(model.encode, in_axes=(0, 0, None, 0))(encoder_inputs, encoder_masks, True, batch_keys[0:batch_size])\n",
        "    #     #encoder_output = jax.vmap(functools.partial(model.encode, enable_dropout=True), in_axes=(0, 0, 0))(encoder_inputs, encoder_masks, batch_keys[0:8])\n",
        "    # decoder_output = jax.vmap(model.decode, in_axes=(0, 0, 0, 0, None, 0))(encoder_output, encoder_masks, decoder_inputs, decoder_masks, True, batch_keys[batch_size:2*batch_size])\n",
        "    # proj_output = jax.vmap(model.project, in_axes=0)(decoder_output)\n",
        "\n",
        "\n",
        "    model_output = jax.vmap(model, in_axes=(0, 0, 0, 0, None, None, 0))(encoder_inputs, decoder_inputs, src_masks, tgt_masks, True, True, batch_keys)\n",
        "\n",
        "    output = einops.rearrange(model_output, \"b s v -> (b s) v\") # , b=batch_size, s = proj_output[1], tokenizer_tgt.get_vocab_size())\n",
        "    labels = einops.rearrange(labels, \" b s -> (b s)\")\n",
        "\n",
        "    pad_pos = tokenizer_tgt.token_to_id(\"[PAD]\")\n",
        "\n",
        "    oh_labels = jax.nn.one_hot(labels, tokenizer_tgt.get_vocab_size())\n",
        "    oh_labels = oh_labels.at[:, pad_pos].set(0.)  # unnecessary step but useful if I want to get rid of \"label smoothing\"\n",
        "\n",
        "    s_labels = optax.smooth_labels(oh_labels, alpha=0.1)  # label smoothing\n",
        "\n",
        "    s_labels = s_labels.at[:, pad_pos].set(0.)   # set all \"vertical\" padding tokens to one i.e. all possible alternatives to 0 (this wouldn't be necessary with no label smoothing - redundacy yet)\n",
        "    mask = jnp.asarray(labels == pad_pos) # T/F - true/false mask\n",
        "    new_labels = jax.vmap(jnp.where, in_axes=(0,None, 0))(mask, 0., s_labels)  # so padding token is zero vertically but also entire rows of the paddding tokens are zero (think cross in a way)\n",
        "    pad_mask = jnp.where(labels==pad_pos, 0., 1.)  # 1/0  - useful for working out number of non-padding tokens\n",
        "\n",
        "    output=output.at[:, pad_pos].set(-1e4)  #or -jnp.inf - for model output, ensure for every prediction that the padding token is set as negative possible for getting zero probability in the softmax\n",
        "\n",
        "    loss = optax.softmax_cross_entropy(logits=output, labels=new_labels)  #compute cross entropy loss\n",
        "\n",
        "    return jnp.sum(loss)/jnp.sum(pad_mask)  # calculate mean of non padding tokens only!"
      ],
      "metadata": {
        "id": "I_gQhlHJF_4_"
      },
      "execution_count": 210,
      "outputs": []
    },
    {
      "cell_type": "markdown",
      "source": [
        "*Make update step*"
      ],
      "metadata": {
        "id": "tN-nLM71GIbS"
      }
    },
    {
      "cell_type": "code",
      "source": [
        "@eqx.filter_jit\n",
        "def make_step(model, encoder_inputs, encoder_masks, decoder_inputs, decoder_masks, labels, opt_state, opt_update, key):  # key\n",
        "    key, new_key = jr.split(key)\n",
        "    loss_fn = eqx.filter_value_and_grad(compute_loss)\n",
        "    loss, grads = loss_fn(model, encoder_inputs, encoder_masks, decoder_inputs, decoder_masks, labels, key) # key\n",
        "    updates, opt_state = opt_update(grads, opt_state)\n",
        "    model = eqx.apply_updates(model, updates)\n",
        "\n",
        "    return loss, model, opt_state, new_key"
      ],
      "metadata": {
        "id": "K3mMjBMJGIbS"
      },
      "execution_count": 43,
      "outputs": []
    },
    {
      "cell_type": "markdown",
      "source": [
        "**Model initialisation** - *Including custom Xavier uniform initialisation*"
      ],
      "metadata": {
        "id": "LdyOcw7xGIbS"
      }
    },
    {
      "cell_type": "code",
      "source": [
        "# weight initialiser #\n",
        "def xavier_init(param: jax.Array, key = jr.PRNGKey) -> jax.Array:\n",
        "    initialiser = jax.nn.initializers.glorot_uniform()\n",
        "    params = initialiser(key, param.shape)\n",
        "    return params\n",
        "\n",
        "# bias initialiser #\n",
        "def xavier_init_b(param: jax.Array, key = jr.PRNGKey) -> jax.Array:\n",
        "    initialiser = jax.nn.initializers.glorot_uniform()\n",
        "    params = initialiser(key, (1, param.shape[0]))\n",
        "    params = jnp.squeeze(params, axis=0)\n",
        "    return params\n",
        "\n",
        "# initiliase custom model parameters #\n",
        "def init_parameters(model, init_fn, init_fn_b, key):\n",
        "\n",
        "    wkey, bkey, ekey = jr.split(key, 3)\n",
        "\n",
        "    is_linear = lambda x: isinstance(x, eqx.nn.Linear)\n",
        "\n",
        "    get_weights = lambda m: [x.weight for x in jax.tree_util.tree_leaves(m, is_leaf=is_linear) if is_linear(x)]\n",
        "    weights = get_weights(model)\n",
        "    new_weights = [init_fn(weight, subkey) for weight, subkey in zip(weights, jr.split(wkey, len(weights)))]\n",
        "    model_w = eqx.tree_at(get_weights, model, new_weights)\n",
        "\n",
        "    get_biases = lambda m: [x.bias for x in jax.tree_util.tree_leaves(m, is_leaf=is_linear) if is_linear(x)]\n",
        "    biases = get_biases(model_w)\n",
        "    new_biases = [init_fn_b(bias, subkey) for bias, subkey in zip(biases, jr.split(bkey, len(biases)))]\n",
        "    model_wb = eqx.tree_at(get_biases, model_w, new_biases)\n",
        "\n",
        "    is_embedding = lambda x: isinstance(x, eqx.nn.Embedding)\n",
        "\n",
        "    get_embs = lambda m: [x.weight for x in jax.tree_util.tree_leaves(m, is_leaf=is_embedding) if is_embedding(x)]\n",
        "    embs = get_embs(model_wb)\n",
        "    new_embs = [init_fn(embedding, subkey) for embedding, subkey in zip(embs, jr.split(ekey, len(embs)))]\n",
        "    new_model = eqx.tree_at(get_embs, model_wb, new_embs)\n",
        "\n",
        "    return new_model"
      ],
      "metadata": {
        "id": "ZWJgnyFlGIbS"
      },
      "execution_count": 44,
      "outputs": []
    },
    {
      "cell_type": "code",
      "source": [
        "# custom model initialisation #\n",
        "init_model = Transformer(gpt_config, r_init_key)\n",
        "model = init_parameters(init_model, xavier_init, xavier_init_b, c_init_key)"
      ],
      "metadata": {
        "id": "YIoIuYF-GIbT"
      },
      "execution_count": 205,
      "outputs": []
    },
    {
      "cell_type": "markdown",
      "source": [
        "**Optimiser initialisation**  - *including clipping grad norm and learning rate schedule*"
      ],
      "metadata": {
        "id": "CjyhQlZKGIbT"
      }
    },
    {
      "cell_type": "code",
      "source": [
        "# setup optax #\n",
        "opt = optax.inject_hyperparams(optax.adam)(learning_rate = optax.warmup_cosine_decay_schedule(\n",
        "    init_value=1e-9,\n",
        "    peak_value=1e-3,\n",
        "    warmup_steps = math.floor((gpt_config[\"train_ds_size\"]//gpt_config[\"batch_size\"]) * gpt_config[\"epochs\"] * 0.075),\n",
        "    decay_steps = math.floor((gpt_config[\"train_ds_size\"]//gpt_config[\"batch_size\"]) * gpt_config[\"epochs\"] * 0.925),\n",
        "    end_value = 2e-4)  # min value (alpha) for cosine schedule is alpha = end_value / peak_value - lr will stay constant after reaching this scalar value\n",
        ")\n",
        "\n",
        "#opt = optax.adam(learning_rate=gpt_config[\"learning_rate\"])\n",
        "\n",
        "opt = optax.chain(optax.clip_by_global_norm(1.0), opt)\n",
        "\n",
        "opt_state = opt.init(eqx.filter(model, eqx.is_inexact_array))"
      ],
      "metadata": {
        "id": "8iKqLRdpGIbT"
      },
      "execution_count": 206,
      "outputs": []
    },
    {
      "cell_type": "code",
      "source": [
        "# for g in iter(train_dataloader):\n",
        "#     encoder_input = jnp.asarray(g[\"encoder_input\"])\n",
        "#     src_mask = jnp.asarray(g[\"src_mask\"])\n",
        "#     print(encoder_input.shape, src_mask.shape)\n",
        "#     assert 2+2==5"
      ],
      "metadata": {
        "id": "On1OQ8YyqOAE"
      },
      "execution_count": 204,
      "outputs": []
    },
    {
      "cell_type": "code",
      "source": [
        "# for g in iter(train_dataloader):\n",
        "#     encoder_input = [g[i][\"encoder_input\"] for i in range(gpt_config[\"batch_size\"])]\n",
        "#     print(encoder_input)\n",
        "#     assert 2+2==5"
      ],
      "metadata": {
        "id": "4GgG8rk-jIBj"
      },
      "execution_count": 120,
      "outputs": []
    },
    {
      "cell_type": "code",
      "source": [
        "train_loss = {}   # for graphing training loss and validation loss\n",
        "val_loss = {}\n",
        "epochs = gpt_config[\"epochs\"]\n",
        "ocr = 0.2   # % of steps that we want to validate the model\n",
        "num_steps = math.floor(gpt_config[\"train_ds_size\"]//gpt_config[\"batch_size\"] * ocr)\n",
        "curr_state = 0 # this is the state pertaining to validation\n",
        "v_ds = iter(val_dataloader)\n",
        "for epoch in range(epochs):\n",
        "    with tqdm.tqdm(\n",
        "        train_dataloader,\n",
        "        total = gpt_config[\"train_ds_size\"]//gpt_config[\"batch_size\"],\n",
        "        unit = \"steps\",\n",
        "        desc = f\"Epoch {epoch+1}/{epochs}\",\n",
        "    ) as tqdm_epoch:\n",
        "        for data in tqdm_epoch:\n",
        "\n",
        "            encoder_input = jnp.asarray(data[\"encoder_input\"], dtype=int)\n",
        "            src_mask = jnp.asarray(data[\"src_mask\"])\n",
        "            decoder_input = jnp.asarray(data[\"decoder_input\"], dtype=int)\n",
        "            tgt_mask = jnp.asarray(data[\"tgt_mask\"])\n",
        "            label = jnp.asarray(data[\"label\"])\n",
        "\n",
        "\n",
        "            tr_loss, model, opt_state, train_key = make_step(model, encoder_input, src_mask, decoder_input, tgt_mask, label, opt_state, opt.update, train_key)\n",
        "\n",
        "            if curr_state % num_steps == 0:\n",
        "                w_l, c_l, BS_l = accuracy(model, next(v_ds), tokenizer_tgt, max_len = gpt_config[\"tgt_seq_len\"])\n",
        "\n",
        "\n",
        "            tqdm_epoch.set_postfix(loss = tr_loss, word_error=w_l, character_error=c_l, BLEUScore=BS_l)\n",
        "            curr_state += 1\n",
        "\n",
        "    loader_key = jr.split(loader_key, 1)[0]\n",
        "    train_loss[epoch]=tr_loss\n",
        "    val_loss[epoch]=w_l"
      ],
      "metadata": {
        "id": "ykMVDYzk55HM"
      },
      "execution_count": null,
      "outputs": []
    },
    {
      "cell_type": "code",
      "source": [
        "# think numpy dataloader is necessary!\n",
        "# optimise greedy decoding - look at equinox page -\n",
        "# jit with static arg\n",
        "# replace jitted for loops with: functools.partial, lax.forloop (lax.scan)\n",
        "# write as many things as functions\n",
        "\n",
        "\n",
        "#dataloader spits out numpy array - use list()!"
      ],
      "metadata": {
        "id": "fNC34m9VM2sN"
      },
      "execution_count": null,
      "outputs": []
    },
    {
      "cell_type": "code",
      "source": [
        "\n",
        "# def make_eval_step(model, inputs):\n",
        "#     return jax.vmap(functools.partial(model, enable_dropout=False))(inputs)\n",
        "\n",
        "\n",
        "    # outputs = []\n",
        "    # for batch in tqdm.tqdm(\n",
        "    #     ds[\"validation\"].iter(batch_size=batch_size),\n",
        "    #     unit=\"steps\",\n",
        "    #     total=np.ceil(ds[\"validation\"].num_rows / batch_size),\n",
        "    #     desc=\"Validation\",\n",
        "    # ):\n",
        "    #     token_ids, token_type_ids = batch[\"input_ids\"], batch[\"token_type_ids\"]\n",
        "    #     label = batch[\"label\"]\n",
        "\n",
        "    #     inputs = {\"token_ids\": token_ids, \"segment_ids\": token_type_ids}\n",
        "\n",
        "    #     # Compare predicted class with label.\n",
        "    #     output = p_make_eval_step(model, inputs)\n",
        "    #     output = map(float, np.argmax(output.reshape(-1, 2), axis=-1) == label)\n",
        "    #     outputs.extend(output)"
      ],
      "metadata": {
        "id": "-tzbxkMDNEYW"
      },
      "execution_count": null,
      "outputs": []
    },
    {
      "cell_type": "code",
      "source": [
        "# check call function on model - yes call is works i.e. is equivalent!\n",
        "#     change loss function accordingly - done\n",
        "\n",
        "# check attention masking is done correctly - works fine\n",
        "#     play around with eqx.jitting the function - x2 jits\n",
        "\n",
        "# change greedy decode + validation for new style\n",
        "############# TO DO ############\n",
        "# change training loop\n",
        "\n",
        "# check attention masks again! and encoder and decoder doing everything expected\n",
        "\n",
        "# test out on t4 gpu - if works, use new notebook and put data into function and put loop into one big function! - then train on A100"
      ],
      "metadata": {
        "id": "ywX1Q1-RHCa1"
      },
      "execution_count": null,
      "outputs": []
    },
    {
      "cell_type": "markdown",
      "source": [
        "## Attention Visualisation"
      ],
      "metadata": {
        "id": "AnvBAS6y90Jm"
      }
    },
    {
      "cell_type": "code",
      "source": [],
      "metadata": {
        "id": "hs0v8JZc_Vjh"
      },
      "execution_count": null,
      "outputs": []
    }
  ]
}